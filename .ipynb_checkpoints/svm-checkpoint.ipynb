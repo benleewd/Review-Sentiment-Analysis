{
 "cells": [
  {
   "cell_type": "code",
   "execution_count": 1,
   "metadata": {},
   "outputs": [],
   "source": [
    "import os\n",
    "import glob\n",
    "import pickle\n",
    "import time\n",
    "#import pyperclip\n",
    "import fnmatch\n",
    "import datetime\n",
    "from datetime import date, timedelta\n",
    "import pandas as pd\n",
    "import numpy as np\n",
    "from string import punctuation, ascii_lowercase\n",
    "import regex as re\n",
    "import seaborn as sns\n",
    "import matplotlib.pyplot as plt\n",
    "%matplotlib inline\n",
    "from time import sleep"
   ]
  },
  {
   "cell_type": "code",
   "execution_count": 2,
   "metadata": {},
   "outputs": [
    {
     "name": "stderr",
     "output_type": "stream",
     "text": [
      "<ipython-input-2-e339116fd790>:1: TqdmDeprecationWarning: This function will be removed in tqdm==5.0.0\n",
      "Please use `tqdm.notebook.*` instead of `tqdm._tqdm_notebook.*`\n",
      "  from tqdm._tqdm_notebook import tqdm_notebook\n",
      "C:\\Anaconda3\\lib\\site-packages\\tqdm\\std.py:668: FutureWarning: The Panel class is removed from pandas. Accessing it from the top-level namespace will also be removed in the next version\n",
      "  from pandas import Panel\n",
      "[nltk_data] Downloading package punkt to\n",
      "[nltk_data]     C:\\Users\\Wyatt\\AppData\\Roaming\\nltk_data...\n",
      "[nltk_data]   Package punkt is already up-to-date!\n"
     ]
    },
    {
     "data": {
      "text/plain": [
       "True"
      ]
     },
     "execution_count": 2,
     "metadata": {},
     "output_type": "execute_result"
    }
   ],
   "source": [
    "from tqdm._tqdm_notebook import tqdm_notebook\n",
    "tqdm_notebook.pandas()\n",
    "import nltk\n",
    "nltk.download('punkt')"
   ]
  },
  {
   "cell_type": "code",
   "execution_count": 3,
   "metadata": {},
   "outputs": [],
   "source": [
    "from nltk.tokenize import word_tokenize\n",
    "from nltk import pos_tag\n",
    "from nltk.corpus import stopwords\n",
    "from nltk.stem import WordNetLemmatizer\n",
    "from sklearn.preprocessing import LabelEncoder\n",
    "from collections import defaultdict\n",
    "from nltk.corpus import wordnet as wn\n",
    "from sklearn.feature_extraction.text import TfidfVectorizer\n",
    "from sklearn import model_selection, naive_bayes, svm\n",
    "from sklearn.metrics import accuracy_score"
   ]
  },
  {
   "cell_type": "code",
   "execution_count": 4,
   "metadata": {},
   "outputs": [],
   "source": [
    "df_sample = pd.read_csv('df_sample_x.csv', index_col=None, header=0, delimiter = ',',encoding='utf-8-sig')"
   ]
  },
  {
   "cell_type": "code",
   "execution_count": 5,
   "metadata": {},
   "outputs": [
    {
     "data": {
      "text/html": [
       "<div>\n",
       "<style scoped>\n",
       "    .dataframe tbody tr th:only-of-type {\n",
       "        vertical-align: middle;\n",
       "    }\n",
       "\n",
       "    .dataframe tbody tr th {\n",
       "        vertical-align: top;\n",
       "    }\n",
       "\n",
       "    .dataframe thead th {\n",
       "        text-align: right;\n",
       "    }\n",
       "</style>\n",
       "<table border=\"1\" class=\"dataframe\">\n",
       "  <thead>\n",
       "    <tr style=\"text-align: right;\">\n",
       "      <th></th>\n",
       "      <th>cluster_pred</th>\n",
       "      <th>review_id</th>\n",
       "      <th>text_en_only_rm_stopping</th>\n",
       "      <th>category</th>\n",
       "      <th>catid</th>\n",
       "    </tr>\n",
       "  </thead>\n",
       "  <tbody>\n",
       "    <tr>\n",
       "      <th>0</th>\n",
       "      <td>0</td>\n",
       "      <td>24984</td>\n",
       "      <td>kayak instead bubble pop bubble bubblenya thin...</td>\n",
       "      <td>Product-Spec</td>\n",
       "      <td>7</td>\n",
       "    </tr>\n",
       "    <tr>\n",
       "      <th>1</th>\n",
       "      <td>0</td>\n",
       "      <td>160759</td>\n",
       "      <td>buy flavors fitting open mouth complete conten...</td>\n",
       "      <td>Product-Spec</td>\n",
       "      <td>7</td>\n",
       "    </tr>\n",
       "    <tr>\n",
       "      <th>2</th>\n",
       "      <td>0</td>\n",
       "      <td>152802</td>\n",
       "      <td>honey rembes yes fitting date tasty little hon...</td>\n",
       "      <td>Product-Spec</td>\n",
       "      <td>7</td>\n",
       "    </tr>\n",
       "    <tr>\n",
       "      <th>3</th>\n",
       "      <td>0</td>\n",
       "      <td>5875</td>\n",
       "      <td>lid gimna sihh check apa udah jauhh cap dlu gi...</td>\n",
       "      <td>Product-Spec</td>\n",
       "      <td>7</td>\n",
       "    </tr>\n",
       "    <tr>\n",
       "      <th>4</th>\n",
       "      <td>0</td>\n",
       "      <td>59797</td>\n",
       "      <td>uda nyampe blanket wants ngado invitation wlwp...</td>\n",
       "      <td>Product-Spec</td>\n",
       "      <td>7</td>\n",
       "    </tr>\n",
       "    <tr>\n",
       "      <th>...</th>\n",
       "      <td>...</td>\n",
       "      <td>...</td>\n",
       "      <td>...</td>\n",
       "      <td>...</td>\n",
       "      <td>...</td>\n",
       "    </tr>\n",
       "    <tr>\n",
       "      <th>4645</th>\n",
       "      <td>309</td>\n",
       "      <td>201597</td>\n",
       "      <td>loves reply dipesann thankyou muchhhhhhhhhhh</td>\n",
       "      <td>Price</td>\n",
       "      <td>4</td>\n",
       "    </tr>\n",
       "    <tr>\n",
       "      <th>4646</th>\n",
       "      <td>309</td>\n",
       "      <td>135347</td>\n",
       "      <td>love love indonesian products kamh hiyahiyahiya</td>\n",
       "      <td>Price</td>\n",
       "      <td>4</td>\n",
       "    </tr>\n",
       "    <tr>\n",
       "      <th>4647</th>\n",
       "      <td>309</td>\n",
       "      <td>75950</td>\n",
       "      <td>mantullllll like like likes love shoope like j...</td>\n",
       "      <td>Price</td>\n",
       "      <td>4</td>\n",
       "    </tr>\n",
       "    <tr>\n",
       "      <th>4648</th>\n",
       "      <td>309</td>\n",
       "      <td>69489</td>\n",
       "      <td>love thanks kak</td>\n",
       "      <td>Price</td>\n",
       "      <td>4</td>\n",
       "    </tr>\n",
       "    <tr>\n",
       "      <th>4649</th>\n",
       "      <td>309</td>\n",
       "      <td>13630</td>\n",
       "      <td>kegunting love love color</td>\n",
       "      <td>Price</td>\n",
       "      <td>4</td>\n",
       "    </tr>\n",
       "  </tbody>\n",
       "</table>\n",
       "<p>4650 rows × 5 columns</p>\n",
       "</div>"
      ],
      "text/plain": [
       "      cluster_pred  review_id  \\\n",
       "0                0      24984   \n",
       "1                0     160759   \n",
       "2                0     152802   \n",
       "3                0       5875   \n",
       "4                0      59797   \n",
       "...            ...        ...   \n",
       "4645           309     201597   \n",
       "4646           309     135347   \n",
       "4647           309      75950   \n",
       "4648           309      69489   \n",
       "4649           309      13630   \n",
       "\n",
       "                               text_en_only_rm_stopping      category  catid  \n",
       "0     kayak instead bubble pop bubble bubblenya thin...  Product-Spec      7  \n",
       "1     buy flavors fitting open mouth complete conten...  Product-Spec      7  \n",
       "2     honey rembes yes fitting date tasty little hon...  Product-Spec      7  \n",
       "3     lid gimna sihh check apa udah jauhh cap dlu gi...  Product-Spec      7  \n",
       "4     uda nyampe blanket wants ngado invitation wlwp...  Product-Spec      7  \n",
       "...                                                 ...           ...    ...  \n",
       "4645       loves reply dipesann thankyou muchhhhhhhhhhh         Price      4  \n",
       "4646    love love indonesian products kamh hiyahiyahiya         Price      4  \n",
       "4647  mantullllll like like likes love shoope like j...         Price      4  \n",
       "4648                                    love thanks kak         Price      4  \n",
       "4649                          kegunting love love color         Price      4  \n",
       "\n",
       "[4650 rows x 5 columns]"
      ]
     },
     "execution_count": 5,
     "metadata": {},
     "output_type": "execute_result"
    }
   ],
   "source": [
    "df_sample"
   ]
  },
  {
   "cell_type": "code",
   "execution_count": 6,
   "metadata": {},
   "outputs": [
    {
     "name": "stderr",
     "output_type": "stream",
     "text": [
      "[nltk_data] Downloading package wordnet to\n",
      "[nltk_data]     C:\\Users\\Wyatt\\AppData\\Roaming\\nltk_data...\n",
      "[nltk_data]   Package wordnet is already up-to-date!\n"
     ]
    }
   ],
   "source": [
    "nltk.download('wordnet')\n",
    "from nltk.stem import WordNetLemmatizer\n",
    "wordnet_lemmatizer = WordNetLemmatizer()\n",
    "\n",
    "def get_lemmatization (x):\n",
    "    sentence = x\n",
    "    x_string=''\n",
    "    sentence_words = word_tokenize(sentence)\n",
    "    \n",
    "    sentence_words = list(set(sentence_words))\n",
    "    \n",
    "    for word in sentence_words:\n",
    "        x_string+=(wordnet_lemmatizer.lemmatize(word)+\" \")\n",
    "    return x_string.strip()"
   ]
  },
  {
   "cell_type": "code",
   "execution_count": null,
   "metadata": {},
   "outputs": [],
   "source": []
  },
  {
   "cell_type": "code",
   "execution_count": null,
   "metadata": {},
   "outputs": [],
   "source": []
  },
  {
   "cell_type": "code",
   "execution_count": 7,
   "metadata": {},
   "outputs": [],
   "source": [
    "def stemSentence(sentence):\n",
    "    token_words=word_tokenize(sentence)\n",
    "    token_words\n",
    "    stem_sentence=[]\n",
    "    for word in token_words:\n",
    "        stem_sentence.append(porter.stem(word))\n",
    "        stem_sentence.append(\" \")\n",
    "    return \"\".join(stem_sentence)"
   ]
  },
  {
   "cell_type": "code",
   "execution_count": 8,
   "metadata": {},
   "outputs": [],
   "source": [
    "df_sample['text_en_only_rm_stopping']=df_sample['text_en_only_rm_stopping'].apply(get_lemmatization)"
   ]
  },
  {
   "cell_type": "code",
   "execution_count": null,
   "metadata": {},
   "outputs": [],
   "source": []
  },
  {
   "cell_type": "code",
   "execution_count": null,
   "metadata": {},
   "outputs": [],
   "source": []
  },
  {
   "cell_type": "code",
   "execution_count": null,
   "metadata": {},
   "outputs": [],
   "source": []
  },
  {
   "cell_type": "code",
   "execution_count": 9,
   "metadata": {},
   "outputs": [
    {
     "data": {
      "text/html": [
       "<div>\n",
       "<style scoped>\n",
       "    .dataframe tbody tr th:only-of-type {\n",
       "        vertical-align: middle;\n",
       "    }\n",
       "\n",
       "    .dataframe tbody tr th {\n",
       "        vertical-align: top;\n",
       "    }\n",
       "\n",
       "    .dataframe thead th {\n",
       "        text-align: right;\n",
       "    }\n",
       "</style>\n",
       "<table border=\"1\" class=\"dataframe\">\n",
       "  <thead>\n",
       "    <tr style=\"text-align: right;\">\n",
       "      <th></th>\n",
       "      <th>cluster_pred</th>\n",
       "      <th>review_id</th>\n",
       "      <th>text_en_only_rm_stopping</th>\n",
       "      <th>category</th>\n",
       "      <th>catid</th>\n",
       "    </tr>\n",
       "  </thead>\n",
       "  <tbody>\n",
       "    <tr>\n",
       "      <th>0</th>\n",
       "      <td>0</td>\n",
       "      <td>24984</td>\n",
       "      <td>kek drawing finished instead thinner different...</td>\n",
       "      <td>Product-Spec</td>\n",
       "      <td>7</td>\n",
       "    </tr>\n",
       "    <tr>\n",
       "      <th>1</th>\n",
       "      <td>0</td>\n",
       "      <td>160759</td>\n",
       "      <td>banana mouth content fitting open berkali brow...</td>\n",
       "      <td>Product-Spec</td>\n",
       "      <td>7</td>\n",
       "    </tr>\n",
       "    <tr>\n",
       "      <th>2</th>\n",
       "      <td>0</td>\n",
       "      <td>152802</td>\n",
       "      <td>yes tasty fitting little pdhl rembes packingny...</td>\n",
       "      <td>Product-Spec</td>\n",
       "      <td>7</td>\n",
       "    </tr>\n",
       "    <tr>\n",
       "      <th>3</th>\n",
       "      <td>0</td>\n",
       "      <td>5875</td>\n",
       "      <td>cap dlu use apa pke udah gimna check sihh jauh...</td>\n",
       "      <td>Product-Spec</td>\n",
       "      <td>7</td>\n",
       "    </tr>\n",
       "    <tr>\n",
       "      <th>4</th>\n",
       "      <td>0</td>\n",
       "      <td>59797</td>\n",
       "      <td>lah blanket nyampe bit want invitation wlwpun ...</td>\n",
       "      <td>Product-Spec</td>\n",
       "      <td>7</td>\n",
       "    </tr>\n",
       "    <tr>\n",
       "      <th>...</th>\n",
       "      <td>...</td>\n",
       "      <td>...</td>\n",
       "      <td>...</td>\n",
       "      <td>...</td>\n",
       "      <td>...</td>\n",
       "    </tr>\n",
       "    <tr>\n",
       "      <th>4645</th>\n",
       "      <td>309</td>\n",
       "      <td>201597</td>\n",
       "      <td>reply muchhhhhhhhhhh dipesann love thankyou</td>\n",
       "      <td>Price</td>\n",
       "      <td>4</td>\n",
       "    </tr>\n",
       "    <tr>\n",
       "      <th>4646</th>\n",
       "      <td>309</td>\n",
       "      <td>135347</td>\n",
       "      <td>product kamh love hiyahiyahiya indonesian</td>\n",
       "      <td>Price</td>\n",
       "      <td>4</td>\n",
       "    </tr>\n",
       "    <tr>\n",
       "      <th>4647</th>\n",
       "      <td>309</td>\n",
       "      <td>75950</td>\n",
       "      <td>shoope mantullllll like jnt like love thanks</td>\n",
       "      <td>Price</td>\n",
       "      <td>4</td>\n",
       "    </tr>\n",
       "    <tr>\n",
       "      <th>4648</th>\n",
       "      <td>309</td>\n",
       "      <td>69489</td>\n",
       "      <td>love kak thanks</td>\n",
       "      <td>Price</td>\n",
       "      <td>4</td>\n",
       "    </tr>\n",
       "    <tr>\n",
       "      <th>4649</th>\n",
       "      <td>309</td>\n",
       "      <td>13630</td>\n",
       "      <td>love kegunting color</td>\n",
       "      <td>Price</td>\n",
       "      <td>4</td>\n",
       "    </tr>\n",
       "  </tbody>\n",
       "</table>\n",
       "<p>4650 rows × 5 columns</p>\n",
       "</div>"
      ],
      "text/plain": [
       "      cluster_pred  review_id  \\\n",
       "0                0      24984   \n",
       "1                0     160759   \n",
       "2                0     152802   \n",
       "3                0       5875   \n",
       "4                0      59797   \n",
       "...            ...        ...   \n",
       "4645           309     201597   \n",
       "4646           309     135347   \n",
       "4647           309      75950   \n",
       "4648           309      69489   \n",
       "4649           309      13630   \n",
       "\n",
       "                               text_en_only_rm_stopping      category  catid  \n",
       "0     kek drawing finished instead thinner different...  Product-Spec      7  \n",
       "1     banana mouth content fitting open berkali brow...  Product-Spec      7  \n",
       "2     yes tasty fitting little pdhl rembes packingny...  Product-Spec      7  \n",
       "3     cap dlu use apa pke udah gimna check sihh jauh...  Product-Spec      7  \n",
       "4     lah blanket nyampe bit want invitation wlwpun ...  Product-Spec      7  \n",
       "...                                                 ...           ...    ...  \n",
       "4645        reply muchhhhhhhhhhh dipesann love thankyou         Price      4  \n",
       "4646          product kamh love hiyahiyahiya indonesian         Price      4  \n",
       "4647       shoope mantullllll like jnt like love thanks         Price      4  \n",
       "4648                                    love kak thanks         Price      4  \n",
       "4649                               love kegunting color         Price      4  \n",
       "\n",
       "[4650 rows x 5 columns]"
      ]
     },
     "execution_count": 9,
     "metadata": {},
     "output_type": "execute_result"
    }
   ],
   "source": [
    "df_sample"
   ]
  },
  {
   "cell_type": "code",
   "execution_count": 10,
   "metadata": {},
   "outputs": [],
   "source": [
    "Train_X, Test_X, Train_Y, Test_Y = model_selection.train_test_split(df_sample['text_en_only_rm_stopping'],df_sample['catid'],test_size=0.2)"
   ]
  },
  {
   "cell_type": "code",
   "execution_count": null,
   "metadata": {},
   "outputs": [],
   "source": []
  },
  {
   "cell_type": "code",
   "execution_count": 11,
   "metadata": {},
   "outputs": [
    {
     "data": {
      "text/plain": [
       "(3720, 5269)"
      ]
     },
     "execution_count": 11,
     "metadata": {},
     "output_type": "execute_result"
    }
   ],
   "source": [
    "from sklearn.feature_extraction.text import TfidfVectorizer\n",
    "\n",
    "vectorizer = TfidfVectorizer()\n",
    "vectors = vectorizer.fit_transform(Train_X.tolist())\n",
    "vectors.shape"
   ]
  },
  {
   "cell_type": "code",
   "execution_count": 12,
   "metadata": {},
   "outputs": [],
   "source": [
    "from sklearn.naive_bayes import MultinomialNB\n",
    "from sklearn import metrics\n",
    "pd.options.mode.chained_assignment = None    \n",
    "vectors_test = vectorizer.transform(Test_X)"
   ]
  },
  {
   "cell_type": "code",
   "execution_count": 13,
   "metadata": {},
   "outputs": [],
   "source": [
    "df_mnb=pd.DataFrame(columns=['MNB alpha value','Precision','Recall','F1 Score'])\n",
    "df_mnb['MNB alpha value']=[0.001,0.01,0.1,1,10]\n"
   ]
  },
  {
   "cell_type": "code",
   "execution_count": 14,
   "metadata": {},
   "outputs": [
    {
     "name": "stderr",
     "output_type": "stream",
     "text": [
      "C:\\Anaconda3\\lib\\site-packages\\sklearn\\metrics\\_classification.py:1221: UndefinedMetricWarning: Precision is ill-defined and being set to 0.0 in labels with no predicted samples. Use `zero_division` parameter to control this behavior.\n",
      "  _warn_prf(average, modifier, msg_start, len(result))\n",
      "C:\\Anaconda3\\lib\\site-packages\\sklearn\\metrics\\_classification.py:1221: UndefinedMetricWarning: Precision is ill-defined and being set to 0.0 in labels with no predicted samples. Use `zero_division` parameter to control this behavior.\n",
      "  _warn_prf(average, modifier, msg_start, len(result))\n"
     ]
    },
    {
     "data": {
      "text/html": [
       "<div>\n",
       "<style scoped>\n",
       "    .dataframe tbody tr th:only-of-type {\n",
       "        vertical-align: middle;\n",
       "    }\n",
       "\n",
       "    .dataframe tbody tr th {\n",
       "        vertical-align: top;\n",
       "    }\n",
       "\n",
       "    .dataframe thead th {\n",
       "        text-align: right;\n",
       "    }\n",
       "</style>\n",
       "<table border=\"1\" class=\"dataframe\">\n",
       "  <thead>\n",
       "    <tr style=\"text-align: right;\">\n",
       "      <th></th>\n",
       "      <th>0</th>\n",
       "      <th>1</th>\n",
       "      <th>2</th>\n",
       "      <th>3</th>\n",
       "      <th>4</th>\n",
       "    </tr>\n",
       "  </thead>\n",
       "  <tbody>\n",
       "    <tr>\n",
       "      <th>MNB alpha value</th>\n",
       "      <td>0.001</td>\n",
       "      <td>0.01</td>\n",
       "      <td>0.1</td>\n",
       "      <td>1</td>\n",
       "      <td>10</td>\n",
       "    </tr>\n",
       "    <tr>\n",
       "      <th>Precision</th>\n",
       "      <td>0.468469</td>\n",
       "      <td>0.470734</td>\n",
       "      <td>0.494693</td>\n",
       "      <td>0.523334</td>\n",
       "      <td>0.57128</td>\n",
       "    </tr>\n",
       "    <tr>\n",
       "      <th>Recall</th>\n",
       "      <td>0.460215</td>\n",
       "      <td>0.469892</td>\n",
       "      <td>0.487097</td>\n",
       "      <td>0.441935</td>\n",
       "      <td>0.294624</td>\n",
       "    </tr>\n",
       "    <tr>\n",
       "      <th>F1 Score</th>\n",
       "      <td>0.450678</td>\n",
       "      <td>0.457907</td>\n",
       "      <td>0.470437</td>\n",
       "      <td>0.409544</td>\n",
       "      <td>0.196183</td>\n",
       "    </tr>\n",
       "  </tbody>\n",
       "</table>\n",
       "</div>"
      ],
      "text/plain": [
       "                        0         1         2         3         4\n",
       "MNB alpha value     0.001      0.01       0.1         1        10\n",
       "Precision        0.468469  0.470734  0.494693  0.523334   0.57128\n",
       "Recall           0.460215  0.469892  0.487097  0.441935  0.294624\n",
       "F1 Score         0.450678  0.457907  0.470437  0.409544  0.196183"
      ]
     },
     "execution_count": 14,
     "metadata": {},
     "output_type": "execute_result"
    }
   ],
   "source": [
    "for i in df_mnb.index:\n",
    "    mnb = MultinomialNB(alpha=df_mnb['MNB alpha value'][i])\n",
    "    mnb.fit(vectors, Train_Y)\n",
    "    pred = mnb.predict(vectors_test)\n",
    "    df_mnb['Precision'][i]= metrics.precision_score(Test_Y, pred, average='weighted')\n",
    "    df_mnb['Recall'][i]= metrics.recall_score(Test_Y, pred, average='weighted')\n",
    "    df_mnb['F1 Score'][i]= metrics.f1_score(Test_Y, pred, average='weighted')\n",
    "        \n",
    "\n",
    "    \n",
    "df_mnb.T  "
   ]
  },
  {
   "cell_type": "code",
   "execution_count": 15,
   "metadata": {},
   "outputs": [],
   "source": [
    "df_lr=pd.DataFrame(columns=['LR C value','Precision','Recall','F1 Score'])\n",
    "df_lr['LR C value']=[0.001,0.01,0.1,1,10,100]"
   ]
  },
  {
   "cell_type": "code",
   "execution_count": 16,
   "metadata": {},
   "outputs": [
    {
     "name": "stderr",
     "output_type": "stream",
     "text": [
      "C:\\Anaconda3\\lib\\site-packages\\sklearn\\metrics\\_classification.py:1221: UndefinedMetricWarning: Precision is ill-defined and being set to 0.0 in labels with no predicted samples. Use `zero_division` parameter to control this behavior.\n",
      "  _warn_prf(average, modifier, msg_start, len(result))\n",
      "C:\\Anaconda3\\lib\\site-packages\\sklearn\\metrics\\_classification.py:1221: UndefinedMetricWarning: Precision is ill-defined and being set to 0.0 in labels with no predicted samples. Use `zero_division` parameter to control this behavior.\n",
      "  _warn_prf(average, modifier, msg_start, len(result))\n",
      "C:\\Anaconda3\\lib\\site-packages\\sklearn\\metrics\\_classification.py:1221: UndefinedMetricWarning: Precision is ill-defined and being set to 0.0 in labels with no predicted samples. Use `zero_division` parameter to control this behavior.\n",
      "  _warn_prf(average, modifier, msg_start, len(result))\n"
     ]
    },
    {
     "data": {
      "text/html": [
       "<div>\n",
       "<style scoped>\n",
       "    .dataframe tbody tr th:only-of-type {\n",
       "        vertical-align: middle;\n",
       "    }\n",
       "\n",
       "    .dataframe tbody tr th {\n",
       "        vertical-align: top;\n",
       "    }\n",
       "\n",
       "    .dataframe thead th {\n",
       "        text-align: right;\n",
       "    }\n",
       "</style>\n",
       "<table border=\"1\" class=\"dataframe\">\n",
       "  <thead>\n",
       "    <tr style=\"text-align: right;\">\n",
       "      <th></th>\n",
       "      <th>0</th>\n",
       "      <th>1</th>\n",
       "      <th>2</th>\n",
       "      <th>3</th>\n",
       "      <th>4</th>\n",
       "      <th>5</th>\n",
       "    </tr>\n",
       "  </thead>\n",
       "  <tbody>\n",
       "    <tr>\n",
       "      <th>LR C value</th>\n",
       "      <td>0.001</td>\n",
       "      <td>0.01</td>\n",
       "      <td>0.1</td>\n",
       "      <td>1</td>\n",
       "      <td>10</td>\n",
       "      <td>100</td>\n",
       "    </tr>\n",
       "    <tr>\n",
       "      <th>Precision</th>\n",
       "      <td>0.0559602</td>\n",
       "      <td>0.170093</td>\n",
       "      <td>0.561255</td>\n",
       "      <td>0.623399</td>\n",
       "      <td>0.604749</td>\n",
       "      <td>0.585848</td>\n",
       "    </tr>\n",
       "    <tr>\n",
       "      <th>Recall</th>\n",
       "      <td>0.236559</td>\n",
       "      <td>0.251613</td>\n",
       "      <td>0.516129</td>\n",
       "      <td>0.609677</td>\n",
       "      <td>0.598925</td>\n",
       "      <td>0.576344</td>\n",
       "    </tr>\n",
       "    <tr>\n",
       "      <th>F1 Score</th>\n",
       "      <td>0.0905096</td>\n",
       "      <td>0.118677</td>\n",
       "      <td>0.485575</td>\n",
       "      <td>0.606</td>\n",
       "      <td>0.598775</td>\n",
       "      <td>0.57703</td>\n",
       "    </tr>\n",
       "  </tbody>\n",
       "</table>\n",
       "</div>"
      ],
      "text/plain": [
       "                    0         1         2         3         4         5\n",
       "LR C value      0.001      0.01       0.1         1        10       100\n",
       "Precision   0.0559602  0.170093  0.561255  0.623399  0.604749  0.585848\n",
       "Recall       0.236559  0.251613  0.516129  0.609677  0.598925  0.576344\n",
       "F1 Score    0.0905096  0.118677  0.485575     0.606  0.598775   0.57703"
      ]
     },
     "execution_count": 16,
     "metadata": {},
     "output_type": "execute_result"
    }
   ],
   "source": [
    "from sklearn.linear_model import LogisticRegression\n",
    "\n",
    "for i in df_lr.index:\n",
    "    clf =LogisticRegression(random_state=2020,multi_class = 'multinomial' , solver = 'newton-cg', C=df_lr['LR C value'][i]).fit(vectors, Train_Y)\n",
    "\n",
    "    pred = clf.predict(vectors_test)\n",
    "    df_lr['Precision'][i]= metrics.precision_score(Test_Y, pred, average='weighted')\n",
    "    df_lr['Recall'][i]= metrics.recall_score(Test_Y, pred, average='weighted')\n",
    "    df_lr['F1 Score'][i]= metrics.f1_score(Test_Y, pred, average='weighted')\n",
    "    \n",
    "df_lr.T "
   ]
  },
  {
   "cell_type": "code",
   "execution_count": 17,
   "metadata": {},
   "outputs": [],
   "source": [
    "df_svm=pd.DataFrame(columns=['svm C value','Precision','Recall','F1 Score'])\n",
    "df_svm['svm C value']=[0.001,0.01,0.1,1,10,100]"
   ]
  },
  {
   "cell_type": "code",
   "execution_count": null,
   "metadata": {},
   "outputs": [],
   "source": []
  },
  {
   "cell_type": "code",
   "execution_count": 18,
   "metadata": {},
   "outputs": [
    {
     "name": "stderr",
     "output_type": "stream",
     "text": [
      "C:\\Anaconda3\\lib\\site-packages\\sklearn\\metrics\\_classification.py:1221: UndefinedMetricWarning: Precision is ill-defined and being set to 0.0 in labels with no predicted samples. Use `zero_division` parameter to control this behavior.\n",
      "  _warn_prf(average, modifier, msg_start, len(result))\n"
     ]
    },
    {
     "data": {
      "text/html": [
       "<div>\n",
       "<style scoped>\n",
       "    .dataframe tbody tr th:only-of-type {\n",
       "        vertical-align: middle;\n",
       "    }\n",
       "\n",
       "    .dataframe tbody tr th {\n",
       "        vertical-align: top;\n",
       "    }\n",
       "\n",
       "    .dataframe thead th {\n",
       "        text-align: right;\n",
       "    }\n",
       "</style>\n",
       "<table border=\"1\" class=\"dataframe\">\n",
       "  <thead>\n",
       "    <tr style=\"text-align: right;\">\n",
       "      <th></th>\n",
       "      <th>0</th>\n",
       "      <th>1</th>\n",
       "      <th>2</th>\n",
       "      <th>3</th>\n",
       "      <th>4</th>\n",
       "      <th>5</th>\n",
       "    </tr>\n",
       "  </thead>\n",
       "  <tbody>\n",
       "    <tr>\n",
       "      <th>svm C value</th>\n",
       "      <td>0.001</td>\n",
       "      <td>0.01</td>\n",
       "      <td>0.1</td>\n",
       "      <td>1</td>\n",
       "      <td>10</td>\n",
       "      <td>100</td>\n",
       "    </tr>\n",
       "    <tr>\n",
       "      <th>Precision</th>\n",
       "      <td>0.0559602</td>\n",
       "      <td>0.0559602</td>\n",
       "      <td>0.563813</td>\n",
       "      <td>0.612067</td>\n",
       "      <td>0.59828</td>\n",
       "      <td>0.592977</td>\n",
       "    </tr>\n",
       "    <tr>\n",
       "      <th>Recall</th>\n",
       "      <td>0.236559</td>\n",
       "      <td>0.236559</td>\n",
       "      <td>0.421505</td>\n",
       "      <td>0.607527</td>\n",
       "      <td>0.589247</td>\n",
       "      <td>0.580645</td>\n",
       "    </tr>\n",
       "    <tr>\n",
       "      <th>F1 Score</th>\n",
       "      <td>0.0905096</td>\n",
       "      <td>0.0905096</td>\n",
       "      <td>0.388448</td>\n",
       "      <td>0.606852</td>\n",
       "      <td>0.589733</td>\n",
       "      <td>0.581672</td>\n",
       "    </tr>\n",
       "  </tbody>\n",
       "</table>\n",
       "</div>"
      ],
      "text/plain": [
       "                     0          1         2         3         4         5\n",
       "svm C value      0.001       0.01       0.1         1        10       100\n",
       "Precision    0.0559602  0.0559602  0.563813  0.612067   0.59828  0.592977\n",
       "Recall        0.236559   0.236559  0.421505  0.607527  0.589247  0.580645\n",
       "F1 Score     0.0905096  0.0905096  0.388448  0.606852  0.589733  0.581672"
      ]
     },
     "execution_count": 18,
     "metadata": {},
     "output_type": "execute_result"
    }
   ],
   "source": [
    "for i in df_svm.index:\n",
    "    SVM =svm.SVC(C=df_svm['svm C value'][i], kernel='linear', degree=3, gamma='auto') \n",
    "    SVM.fit(vectors,Train_Y)\n",
    "    pred = SVM.predict(vectors_test)\n",
    "    \n",
    "    df_svm['Precision'][i]= metrics.precision_score(Test_Y, pred, average='weighted')\n",
    "    df_svm['Recall'][i]= metrics.recall_score(Test_Y, pred, average='weighted')\n",
    "    df_svm['F1 Score'][i]= metrics.f1_score(Test_Y, pred, average='weighted')\n",
    "    \n",
    "df_svm.T "
   ]
  },
  {
   "cell_type": "code",
   "execution_count": null,
   "metadata": {},
   "outputs": [],
   "source": []
  },
  {
   "cell_type": "code",
   "execution_count": 27,
   "metadata": {},
   "outputs": [],
   "source": [
    "from sklearn.neural_network import MLPClassifier\n",
    "\n",
    "mlp = MLPClassifier(random_state=1, max_iter=300 )\n",
    "parameter_space = {\n",
    "    'hidden_layer_sizes': [(50,50,50), (50,100,50), (100,)],\n",
    "    'activation': ['tanh', 'relu'],\n",
    "    'solver': ['sgd', 'adam'],\n",
    "    'alpha': [0.001,0.01,0.1,1,10],\n",
    "    'learning_rate': ['constant','adaptive'],\n",
    "}"
   ]
  },
  {
   "cell_type": "code",
   "execution_count": null,
   "metadata": {},
   "outputs": [],
   "source": [
    "from sklearn.model_selection import GridSearchCV\n",
    "\n",
    "clf = GridSearchCV(mlp, parameter_space, n_jobs=-1, cv=3)\n",
    "clf.fit(vectors,Train_Y)"
   ]
  },
  {
   "cell_type": "code",
   "execution_count": null,
   "metadata": {},
   "outputs": [],
   "source": [
    "# Best paramete set\n",
    "print('Best parameters found:\\n', clf.best_params_)\n",
    "\n",
    "# All results\n",
    "means = clf.cv_results_['mean_test_score']\n",
    "stds = clf.cv_results_['std_test_score']\n",
    "for mean, std, params in zip(means, stds, clf.cv_results_['params']):\n",
    "    print(\"%0.3f (+/-%0.03f) for %r\" % (mean, std * 2, params))"
   ]
  },
  {
   "cell_type": "code",
   "execution_count": null,
   "metadata": {},
   "outputs": [],
   "source": [
    "y_true, y_pred = Test_Y , clf.predict(vectors_test)\n",
    "\n",
    "from sklearn.metrics import classification_report\n",
    "print('Results on the test set:')\n",
    "print(classification_report(y_true, y_pred))"
   ]
  },
  {
   "cell_type": "code",
   "execution_count": null,
   "metadata": {},
   "outputs": [],
   "source": []
  },
  {
   "cell_type": "code",
   "execution_count": null,
   "metadata": {},
   "outputs": [],
   "source": []
  }
 ],
 "metadata": {
  "kernelspec": {
   "display_name": "Python 3",
   "language": "python",
   "name": "python3"
  },
  "language_info": {
   "codemirror_mode": {
    "name": "ipython",
    "version": 3
   },
   "file_extension": ".py",
   "mimetype": "text/x-python",
   "name": "python",
   "nbconvert_exporter": "python",
   "pygments_lexer": "ipython3",
   "version": "3.8.3"
  }
 },
 "nbformat": 4,
 "nbformat_minor": 2
}
