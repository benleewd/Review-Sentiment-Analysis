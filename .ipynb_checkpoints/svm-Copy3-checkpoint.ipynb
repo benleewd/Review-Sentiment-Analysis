{
 "cells": [
  {
   "cell_type": "code",
   "execution_count": 1,
   "metadata": {},
   "outputs": [],
   "source": [
    "import os\n",
    "import glob\n",
    "import pickle\n",
    "import time\n",
    "#import pyperclip\n",
    "import fnmatch\n",
    "import datetime\n",
    "from datetime import date, timedelta\n",
    "import pandas as pd\n",
    "import numpy as np\n",
    "from string import punctuation, ascii_lowercase\n",
    "import regex as re\n",
    "import seaborn as sns\n",
    "import matplotlib.pyplot as plt\n",
    "%matplotlib inline\n",
    "from time import sleep"
   ]
  },
  {
   "cell_type": "code",
   "execution_count": 2,
   "metadata": {},
   "outputs": [
    {
     "name": "stderr",
     "output_type": "stream",
     "text": [
      "<ipython-input-2-e339116fd790>:1: TqdmDeprecationWarning: This function will be removed in tqdm==5.0.0\n",
      "Please use `tqdm.notebook.*` instead of `tqdm._tqdm_notebook.*`\n",
      "  from tqdm._tqdm_notebook import tqdm_notebook\n",
      "C:\\Anaconda3\\lib\\site-packages\\tqdm\\std.py:668: FutureWarning: The Panel class is removed from pandas. Accessing it from the top-level namespace will also be removed in the next version\n",
      "  from pandas import Panel\n",
      "[nltk_data] Downloading package punkt to\n",
      "[nltk_data]     C:\\Users\\Wyatt\\AppData\\Roaming\\nltk_data...\n",
      "[nltk_data]   Package punkt is already up-to-date!\n"
     ]
    },
    {
     "data": {
      "text/plain": [
       "True"
      ]
     },
     "execution_count": 2,
     "metadata": {},
     "output_type": "execute_result"
    }
   ],
   "source": [
    "from tqdm._tqdm_notebook import tqdm_notebook\n",
    "tqdm_notebook.pandas()\n",
    "import nltk\n",
    "nltk.download('punkt')"
   ]
  },
  {
   "cell_type": "code",
   "execution_count": 3,
   "metadata": {},
   "outputs": [],
   "source": [
    "from nltk.tokenize import word_tokenize\n",
    "from nltk import pos_tag\n",
    "from nltk.corpus import stopwords\n",
    "from nltk.stem import WordNetLemmatizer\n",
    "from sklearn.preprocessing import LabelEncoder\n",
    "from collections import defaultdict\n",
    "from nltk.corpus import wordnet as wn\n",
    "from sklearn.feature_extraction.text import TfidfVectorizer\n",
    "from sklearn import model_selection, naive_bayes, svm\n",
    "from sklearn.metrics import accuracy_score"
   ]
  },
  {
   "cell_type": "code",
   "execution_count": 4,
   "metadata": {},
   "outputs": [],
   "source": [
    "df_sample = pd.read_csv('df_sample_x.csv', index_col=None, header=0, delimiter = ',',encoding='utf-8-sig')"
   ]
  },
  {
   "cell_type": "code",
   "execution_count": 5,
   "metadata": {},
   "outputs": [
    {
     "data": {
      "text/html": [
       "<div>\n",
       "<style scoped>\n",
       "    .dataframe tbody tr th:only-of-type {\n",
       "        vertical-align: middle;\n",
       "    }\n",
       "\n",
       "    .dataframe tbody tr th {\n",
       "        vertical-align: top;\n",
       "    }\n",
       "\n",
       "    .dataframe thead th {\n",
       "        text-align: right;\n",
       "    }\n",
       "</style>\n",
       "<table border=\"1\" class=\"dataframe\">\n",
       "  <thead>\n",
       "    <tr style=\"text-align: right;\">\n",
       "      <th></th>\n",
       "      <th>cluster_pred</th>\n",
       "      <th>review_id</th>\n",
       "      <th>text_en_only_rm_stopping</th>\n",
       "      <th>category</th>\n",
       "      <th>catid</th>\n",
       "    </tr>\n",
       "  </thead>\n",
       "  <tbody>\n",
       "    <tr>\n",
       "      <th>0</th>\n",
       "      <td>0</td>\n",
       "      <td>24984</td>\n",
       "      <td>kayak instead bubble pop bubble bubblenya thin...</td>\n",
       "      <td>Product-Spec</td>\n",
       "      <td>7</td>\n",
       "    </tr>\n",
       "    <tr>\n",
       "      <th>1</th>\n",
       "      <td>0</td>\n",
       "      <td>160759</td>\n",
       "      <td>buy flavors fitting open mouth complete conten...</td>\n",
       "      <td>Product-Spec</td>\n",
       "      <td>7</td>\n",
       "    </tr>\n",
       "    <tr>\n",
       "      <th>2</th>\n",
       "      <td>0</td>\n",
       "      <td>152802</td>\n",
       "      <td>honey rembes yes fitting date tasty little hon...</td>\n",
       "      <td>Product-Spec</td>\n",
       "      <td>7</td>\n",
       "    </tr>\n",
       "    <tr>\n",
       "      <th>3</th>\n",
       "      <td>0</td>\n",
       "      <td>5875</td>\n",
       "      <td>lid gimna sihh check apa udah jauhh cap dlu gi...</td>\n",
       "      <td>Product-Spec</td>\n",
       "      <td>7</td>\n",
       "    </tr>\n",
       "    <tr>\n",
       "      <th>4</th>\n",
       "      <td>0</td>\n",
       "      <td>59797</td>\n",
       "      <td>uda nyampe blanket wants ngado invitation wlwp...</td>\n",
       "      <td>Product-Spec</td>\n",
       "      <td>7</td>\n",
       "    </tr>\n",
       "    <tr>\n",
       "      <th>...</th>\n",
       "      <td>...</td>\n",
       "      <td>...</td>\n",
       "      <td>...</td>\n",
       "      <td>...</td>\n",
       "      <td>...</td>\n",
       "    </tr>\n",
       "    <tr>\n",
       "      <th>4645</th>\n",
       "      <td>309</td>\n",
       "      <td>201597</td>\n",
       "      <td>loves reply dipesann thankyou muchhhhhhhhhhh</td>\n",
       "      <td>Price</td>\n",
       "      <td>4</td>\n",
       "    </tr>\n",
       "    <tr>\n",
       "      <th>4646</th>\n",
       "      <td>309</td>\n",
       "      <td>135347</td>\n",
       "      <td>love love indonesian products kamh hiyahiyahiya</td>\n",
       "      <td>Price</td>\n",
       "      <td>4</td>\n",
       "    </tr>\n",
       "    <tr>\n",
       "      <th>4647</th>\n",
       "      <td>309</td>\n",
       "      <td>75950</td>\n",
       "      <td>mantullllll like like likes love shoope like j...</td>\n",
       "      <td>Price</td>\n",
       "      <td>4</td>\n",
       "    </tr>\n",
       "    <tr>\n",
       "      <th>4648</th>\n",
       "      <td>309</td>\n",
       "      <td>69489</td>\n",
       "      <td>love thanks kak</td>\n",
       "      <td>Price</td>\n",
       "      <td>4</td>\n",
       "    </tr>\n",
       "    <tr>\n",
       "      <th>4649</th>\n",
       "      <td>309</td>\n",
       "      <td>13630</td>\n",
       "      <td>kegunting love love color</td>\n",
       "      <td>Price</td>\n",
       "      <td>4</td>\n",
       "    </tr>\n",
       "  </tbody>\n",
       "</table>\n",
       "<p>4650 rows × 5 columns</p>\n",
       "</div>"
      ],
      "text/plain": [
       "      cluster_pred  review_id  \\\n",
       "0                0      24984   \n",
       "1                0     160759   \n",
       "2                0     152802   \n",
       "3                0       5875   \n",
       "4                0      59797   \n",
       "...            ...        ...   \n",
       "4645           309     201597   \n",
       "4646           309     135347   \n",
       "4647           309      75950   \n",
       "4648           309      69489   \n",
       "4649           309      13630   \n",
       "\n",
       "                               text_en_only_rm_stopping      category  catid  \n",
       "0     kayak instead bubble pop bubble bubblenya thin...  Product-Spec      7  \n",
       "1     buy flavors fitting open mouth complete conten...  Product-Spec      7  \n",
       "2     honey rembes yes fitting date tasty little hon...  Product-Spec      7  \n",
       "3     lid gimna sihh check apa udah jauhh cap dlu gi...  Product-Spec      7  \n",
       "4     uda nyampe blanket wants ngado invitation wlwp...  Product-Spec      7  \n",
       "...                                                 ...           ...    ...  \n",
       "4645       loves reply dipesann thankyou muchhhhhhhhhhh         Price      4  \n",
       "4646    love love indonesian products kamh hiyahiyahiya         Price      4  \n",
       "4647  mantullllll like like likes love shoope like j...         Price      4  \n",
       "4648                                    love thanks kak         Price      4  \n",
       "4649                          kegunting love love color         Price      4  \n",
       "\n",
       "[4650 rows x 5 columns]"
      ]
     },
     "execution_count": 5,
     "metadata": {},
     "output_type": "execute_result"
    }
   ],
   "source": [
    "df_sample"
   ]
  },
  {
   "cell_type": "code",
   "execution_count": 6,
   "metadata": {},
   "outputs": [
    {
     "name": "stderr",
     "output_type": "stream",
     "text": [
      "[nltk_data] Downloading package wordnet to\n",
      "[nltk_data]     C:\\Users\\Wyatt\\AppData\\Roaming\\nltk_data...\n",
      "[nltk_data]   Package wordnet is already up-to-date!\n"
     ]
    }
   ],
   "source": [
    "nltk.download('wordnet')\n",
    "from nltk.stem import WordNetLemmatizer\n",
    "wordnet_lemmatizer = WordNetLemmatizer()\n",
    "\n",
    "def get_lemmatization (x):\n",
    "    sentence = x\n",
    "    x_string=''\n",
    "    sentence_words = word_tokenize(sentence)\n",
    "    \n",
    "    sentence_words = list(set(sentence_words))\n",
    "    \n",
    "    for word in sentence_words:\n",
    "        x_string+=(wordnet_lemmatizer.lemmatize(word)+\" \")\n",
    "    return x_string.strip()"
   ]
  },
  {
   "cell_type": "code",
   "execution_count": null,
   "metadata": {},
   "outputs": [],
   "source": []
  },
  {
   "cell_type": "code",
   "execution_count": null,
   "metadata": {},
   "outputs": [],
   "source": []
  },
  {
   "cell_type": "code",
   "execution_count": 7,
   "metadata": {},
   "outputs": [],
   "source": [
    "def stemSentence(sentence):\n",
    "    token_words=word_tokenize(sentence)\n",
    "    token_words\n",
    "    stem_sentence=[]\n",
    "    for word in token_words:\n",
    "        stem_sentence.append(porter.stem(word))\n",
    "        stem_sentence.append(\" \")\n",
    "    return \"\".join(stem_sentence)"
   ]
  },
  {
   "cell_type": "code",
   "execution_count": 8,
   "metadata": {},
   "outputs": [],
   "source": [
    "df_sample['text_en_only_rm_stopping']=df_sample['text_en_only_rm_stopping'].apply(get_lemmatization)"
   ]
  },
  {
   "cell_type": "code",
   "execution_count": null,
   "metadata": {},
   "outputs": [],
   "source": []
  },
  {
   "cell_type": "code",
   "execution_count": null,
   "metadata": {},
   "outputs": [],
   "source": []
  },
  {
   "cell_type": "code",
   "execution_count": null,
   "metadata": {},
   "outputs": [],
   "source": []
  },
  {
   "cell_type": "code",
   "execution_count": 9,
   "metadata": {},
   "outputs": [
    {
     "data": {
      "text/html": [
       "<div>\n",
       "<style scoped>\n",
       "    .dataframe tbody tr th:only-of-type {\n",
       "        vertical-align: middle;\n",
       "    }\n",
       "\n",
       "    .dataframe tbody tr th {\n",
       "        vertical-align: top;\n",
       "    }\n",
       "\n",
       "    .dataframe thead th {\n",
       "        text-align: right;\n",
       "    }\n",
       "</style>\n",
       "<table border=\"1\" class=\"dataframe\">\n",
       "  <thead>\n",
       "    <tr style=\"text-align: right;\">\n",
       "      <th></th>\n",
       "      <th>cluster_pred</th>\n",
       "      <th>review_id</th>\n",
       "      <th>text_en_only_rm_stopping</th>\n",
       "      <th>category</th>\n",
       "      <th>catid</th>\n",
       "    </tr>\n",
       "  </thead>\n",
       "  <tbody>\n",
       "    <tr>\n",
       "      <th>0</th>\n",
       "      <td>0</td>\n",
       "      <td>24984</td>\n",
       "      <td>pop bubblenya instead kek bubble thinner drawi...</td>\n",
       "      <td>Product-Spec</td>\n",
       "      <td>7</td>\n",
       "    </tr>\n",
       "    <tr>\n",
       "      <th>1</th>\n",
       "      <td>0</td>\n",
       "      <td>160759</td>\n",
       "      <td>banana buy udh mouth curiosity turn complete b...</td>\n",
       "      <td>Product-Spec</td>\n",
       "      <td>7</td>\n",
       "    </tr>\n",
       "    <tr>\n",
       "      <th>2</th>\n",
       "      <td>0</td>\n",
       "      <td>152802</td>\n",
       "      <td>dpnnya honey rembes yes tasty date pdhl diperh...</td>\n",
       "      <td>Product-Spec</td>\n",
       "      <td>7</td>\n",
       "    </tr>\n",
       "    <tr>\n",
       "      <th>3</th>\n",
       "      <td>0</td>\n",
       "      <td>5875</td>\n",
       "      <td>plastic gimna check apa dlu sihh jauhh use way...</td>\n",
       "      <td>Product-Spec</td>\n",
       "      <td>7</td>\n",
       "    </tr>\n",
       "    <tr>\n",
       "      <th>4</th>\n",
       "      <td>0</td>\n",
       "      <td>59797</td>\n",
       "      <td>ngado nyampe blanket okay bit invitation uda l...</td>\n",
       "      <td>Product-Spec</td>\n",
       "      <td>7</td>\n",
       "    </tr>\n",
       "    <tr>\n",
       "      <th>...</th>\n",
       "      <td>...</td>\n",
       "      <td>...</td>\n",
       "      <td>...</td>\n",
       "      <td>...</td>\n",
       "      <td>...</td>\n",
       "    </tr>\n",
       "    <tr>\n",
       "      <th>4645</th>\n",
       "      <td>309</td>\n",
       "      <td>201597</td>\n",
       "      <td>dipesann thankyou love reply muchhhhhhhhhhh</td>\n",
       "      <td>Price</td>\n",
       "      <td>4</td>\n",
       "    </tr>\n",
       "    <tr>\n",
       "      <th>4646</th>\n",
       "      <td>309</td>\n",
       "      <td>135347</td>\n",
       "      <td>product love kamh hiyahiyahiya indonesian</td>\n",
       "      <td>Price</td>\n",
       "      <td>4</td>\n",
       "    </tr>\n",
       "    <tr>\n",
       "      <th>4647</th>\n",
       "      <td>309</td>\n",
       "      <td>75950</td>\n",
       "      <td>shoope like mantullllll jnt like love thanks</td>\n",
       "      <td>Price</td>\n",
       "      <td>4</td>\n",
       "    </tr>\n",
       "    <tr>\n",
       "      <th>4648</th>\n",
       "      <td>309</td>\n",
       "      <td>69489</td>\n",
       "      <td>love kak thanks</td>\n",
       "      <td>Price</td>\n",
       "      <td>4</td>\n",
       "    </tr>\n",
       "    <tr>\n",
       "      <th>4649</th>\n",
       "      <td>309</td>\n",
       "      <td>13630</td>\n",
       "      <td>kegunting love color</td>\n",
       "      <td>Price</td>\n",
       "      <td>4</td>\n",
       "    </tr>\n",
       "  </tbody>\n",
       "</table>\n",
       "<p>4650 rows × 5 columns</p>\n",
       "</div>"
      ],
      "text/plain": [
       "      cluster_pred  review_id  \\\n",
       "0                0      24984   \n",
       "1                0     160759   \n",
       "2                0     152802   \n",
       "3                0       5875   \n",
       "4                0      59797   \n",
       "...            ...        ...   \n",
       "4645           309     201597   \n",
       "4646           309     135347   \n",
       "4647           309      75950   \n",
       "4648           309      69489   \n",
       "4649           309      13630   \n",
       "\n",
       "                               text_en_only_rm_stopping      category  catid  \n",
       "0     pop bubblenya instead kek bubble thinner drawi...  Product-Spec      7  \n",
       "1     banana buy udh mouth curiosity turn complete b...  Product-Spec      7  \n",
       "2     dpnnya honey rembes yes tasty date pdhl diperh...  Product-Spec      7  \n",
       "3     plastic gimna check apa dlu sihh jauhh use way...  Product-Spec      7  \n",
       "4     ngado nyampe blanket okay bit invitation uda l...  Product-Spec      7  \n",
       "...                                                 ...           ...    ...  \n",
       "4645        dipesann thankyou love reply muchhhhhhhhhhh         Price      4  \n",
       "4646          product love kamh hiyahiyahiya indonesian         Price      4  \n",
       "4647       shoope like mantullllll jnt like love thanks         Price      4  \n",
       "4648                                    love kak thanks         Price      4  \n",
       "4649                               kegunting love color         Price      4  \n",
       "\n",
       "[4650 rows x 5 columns]"
      ]
     },
     "execution_count": 9,
     "metadata": {},
     "output_type": "execute_result"
    }
   ],
   "source": [
    "df_sample"
   ]
  },
  {
   "cell_type": "code",
   "execution_count": 10,
   "metadata": {},
   "outputs": [],
   "source": [
    "Train_X, Test_X, Train_Y, Test_Y = model_selection.train_test_split(df_sample['text_en_only_rm_stopping'],df_sample['catid'],test_size=0.2,shuffle=True )"
   ]
  },
  {
   "cell_type": "code",
   "execution_count": null,
   "metadata": {},
   "outputs": [],
   "source": []
  },
  {
   "cell_type": "code",
   "execution_count": 11,
   "metadata": {},
   "outputs": [
    {
     "data": {
      "text/plain": [
       "(3720, 5289)"
      ]
     },
     "execution_count": 11,
     "metadata": {},
     "output_type": "execute_result"
    }
   ],
   "source": [
    "from sklearn.feature_extraction.text import TfidfVectorizer\n",
    "\n",
    "vectorizer = TfidfVectorizer()\n",
    "vectors = vectorizer.fit_transform(Train_X.tolist())\n",
    "vectors.shape"
   ]
  },
  {
   "cell_type": "code",
   "execution_count": 12,
   "metadata": {},
   "outputs": [],
   "source": [
    "from sklearn.naive_bayes import MultinomialNB\n",
    "from sklearn import metrics\n",
    "pd.options.mode.chained_assignment = None    \n",
    "vectors_test = vectorizer.transform(Test_X)"
   ]
  },
  {
   "cell_type": "code",
   "execution_count": 13,
   "metadata": {},
   "outputs": [],
   "source": [
    "df_mnb=pd.DataFrame(columns=['MNB alpha value','Precision','Recall','F1 Score'])\n",
    "df_mnb['MNB alpha value']=[0.001,0.01,0.1,1,10]\n"
   ]
  },
  {
   "cell_type": "code",
   "execution_count": 14,
   "metadata": {},
   "outputs": [
    {
     "name": "stderr",
     "output_type": "stream",
     "text": [
      "C:\\Anaconda3\\lib\\site-packages\\sklearn\\metrics\\_classification.py:1221: UndefinedMetricWarning: Precision is ill-defined and being set to 0.0 in labels with no predicted samples. Use `zero_division` parameter to control this behavior.\n",
      "  _warn_prf(average, modifier, msg_start, len(result))\n",
      "C:\\Anaconda3\\lib\\site-packages\\sklearn\\metrics\\_classification.py:1221: UndefinedMetricWarning: Precision is ill-defined and being set to 0.0 in labels with no predicted samples. Use `zero_division` parameter to control this behavior.\n",
      "  _warn_prf(average, modifier, msg_start, len(result))\n"
     ]
    },
    {
     "data": {
      "text/html": [
       "<div>\n",
       "<style scoped>\n",
       "    .dataframe tbody tr th:only-of-type {\n",
       "        vertical-align: middle;\n",
       "    }\n",
       "\n",
       "    .dataframe tbody tr th {\n",
       "        vertical-align: top;\n",
       "    }\n",
       "\n",
       "    .dataframe thead th {\n",
       "        text-align: right;\n",
       "    }\n",
       "</style>\n",
       "<table border=\"1\" class=\"dataframe\">\n",
       "  <thead>\n",
       "    <tr style=\"text-align: right;\">\n",
       "      <th></th>\n",
       "      <th>0</th>\n",
       "      <th>1</th>\n",
       "      <th>2</th>\n",
       "      <th>3</th>\n",
       "      <th>4</th>\n",
       "    </tr>\n",
       "  </thead>\n",
       "  <tbody>\n",
       "    <tr>\n",
       "      <th>MNB alpha value</th>\n",
       "      <td>0.001</td>\n",
       "      <td>0.01</td>\n",
       "      <td>0.1</td>\n",
       "      <td>1</td>\n",
       "      <td>10</td>\n",
       "    </tr>\n",
       "    <tr>\n",
       "      <th>Precision</th>\n",
       "      <td>0.479119</td>\n",
       "      <td>0.484076</td>\n",
       "      <td>0.495974</td>\n",
       "      <td>0.494598</td>\n",
       "      <td>0.598986</td>\n",
       "    </tr>\n",
       "    <tr>\n",
       "      <th>Recall</th>\n",
       "      <td>0.464516</td>\n",
       "      <td>0.470968</td>\n",
       "      <td>0.47957</td>\n",
       "      <td>0.447312</td>\n",
       "      <td>0.305376</td>\n",
       "    </tr>\n",
       "    <tr>\n",
       "      <th>F1 Score</th>\n",
       "      <td>0.458214</td>\n",
       "      <td>0.464561</td>\n",
       "      <td>0.467395</td>\n",
       "      <td>0.416958</td>\n",
       "      <td>0.209924</td>\n",
       "    </tr>\n",
       "  </tbody>\n",
       "</table>\n",
       "</div>"
      ],
      "text/plain": [
       "                        0         1         2         3         4\n",
       "MNB alpha value     0.001      0.01       0.1         1        10\n",
       "Precision        0.479119  0.484076  0.495974  0.494598  0.598986\n",
       "Recall           0.464516  0.470968   0.47957  0.447312  0.305376\n",
       "F1 Score         0.458214  0.464561  0.467395  0.416958  0.209924"
      ]
     },
     "execution_count": 14,
     "metadata": {},
     "output_type": "execute_result"
    }
   ],
   "source": [
    "for i in df_mnb.index:\n",
    "    mnb = MultinomialNB(alpha=df_mnb['MNB alpha value'][i])\n",
    "    mnb.fit(vectors, Train_Y)\n",
    "    pred = mnb.predict(vectors_test)\n",
    "    df_mnb['Precision'][i]= metrics.precision_score(Test_Y, pred, average='weighted')\n",
    "    df_mnb['Recall'][i]= metrics.recall_score(Test_Y, pred, average='weighted')\n",
    "    df_mnb['F1 Score'][i]= metrics.f1_score(Test_Y, pred, average='weighted')\n",
    "        \n",
    "\n",
    "    \n",
    "df_mnb.T  "
   ]
  },
  {
   "cell_type": "code",
   "execution_count": 13,
   "metadata": {},
   "outputs": [],
   "source": [
    "mnb = MultinomialNB(alpha=0.1)\n",
    "mnb.fit(vectors, Train_Y)\n",
    "pred = mnb.predict(vectors_test)"
   ]
  },
  {
   "cell_type": "code",
   "execution_count": 14,
   "metadata": {},
   "outputs": [],
   "source": [
    "from sklearn.metrics import plot_confusion_matrix"
   ]
  },
  {
   "cell_type": "code",
   "execution_count": 15,
   "metadata": {},
   "outputs": [
    {
     "data": {
      "text/plain": [
       "<sklearn.metrics._plot.confusion_matrix.ConfusionMatrixDisplay at 0x26ba2698d30>"
      ]
     },
     "execution_count": 15,
     "metadata": {},
     "output_type": "execute_result"
    },
    {
     "data": {
      "image/png": "[encoded data removed]",
      "text/plain": [
       "<Figure size 576x576 with 2 Axes>"
      ]
     },
     "metadata": {
      "needs_background": "light"
     },
     "output_type": "display_data"
    }
   ],
   "source": [
    "titles_options = [(\"Confusion matrix, without normalization\", None),\n",
    "                  (\"Normalized confusion matrix\", 'true')]\n",
    "\n",
    "np.set_printoptions(precision=1)\n",
    "fig, ax = plt.subplots(figsize=(8, 8))\n",
    "plot_confusion_matrix(mnb, vectors_test,Test_Y ,\n",
    "                                 display_labels=[1,2,3,4,5,6,7,8], normalize='true', cmap=plt.cm.Blues, ax=ax)"
   ]
  },
  {
   "cell_type": "code",
   "execution_count": 16,
   "metadata": {},
   "outputs": [],
   "source": [
    "df_lr=pd.DataFrame(columns=['LR C value','Precision','Recall','F1 Score'])\n",
    "df_lr['LR C value']=[0.001,0.01,0.1,1,10,100]\n",
    "from sklearn.linear_model import LogisticRegression"
   ]
  },
  {
   "cell_type": "code",
   "execution_count": 16,
   "metadata": {},
   "outputs": [
    {
     "name": "stderr",
     "output_type": "stream",
     "text": [
      "C:\\Anaconda3\\lib\\site-packages\\sklearn\\metrics\\_classification.py:1221: UndefinedMetricWarning: Precision is ill-defined and being set to 0.0 in labels with no predicted samples. Use `zero_division` parameter to control this behavior.\n",
      "  _warn_prf(average, modifier, msg_start, len(result))\n",
      "C:\\Anaconda3\\lib\\site-packages\\sklearn\\metrics\\_classification.py:1221: UndefinedMetricWarning: Precision is ill-defined and being set to 0.0 in labels with no predicted samples. Use `zero_division` parameter to control this behavior.\n",
      "  _warn_prf(average, modifier, msg_start, len(result))\n",
      "C:\\Anaconda3\\lib\\site-packages\\sklearn\\metrics\\_classification.py:1221: UndefinedMetricWarning: Precision is ill-defined and being set to 0.0 in labels with no predicted samples. Use `zero_division` parameter to control this behavior.\n",
      "  _warn_prf(average, modifier, msg_start, len(result))\n"
     ]
    },
    {
     "data": {
      "text/html": [
       "<div>\n",
       "<style scoped>\n",
       "    .dataframe tbody tr th:only-of-type {\n",
       "        vertical-align: middle;\n",
       "    }\n",
       "\n",
       "    .dataframe tbody tr th {\n",
       "        vertical-align: top;\n",
       "    }\n",
       "\n",
       "    .dataframe thead th {\n",
       "        text-align: right;\n",
       "    }\n",
       "</style>\n",
       "<table border=\"1\" class=\"dataframe\">\n",
       "  <thead>\n",
       "    <tr style=\"text-align: right;\">\n",
       "      <th></th>\n",
       "      <th>0</th>\n",
       "      <th>1</th>\n",
       "      <th>2</th>\n",
       "      <th>3</th>\n",
       "      <th>4</th>\n",
       "      <th>5</th>\n",
       "    </tr>\n",
       "  </thead>\n",
       "  <tbody>\n",
       "    <tr>\n",
       "      <th>LR C value</th>\n",
       "      <td>0.001</td>\n",
       "      <td>0.01</td>\n",
       "      <td>0.1</td>\n",
       "      <td>1</td>\n",
       "      <td>10</td>\n",
       "      <td>100</td>\n",
       "    </tr>\n",
       "    <tr>\n",
       "      <th>Precision</th>\n",
       "      <td>0.059578</td>\n",
       "      <td>0.220982</td>\n",
       "      <td>0.515633</td>\n",
       "      <td>0.604857</td>\n",
       "      <td>0.598494</td>\n",
       "      <td>0.584227</td>\n",
       "    </tr>\n",
       "    <tr>\n",
       "      <th>Recall</th>\n",
       "      <td>0.244086</td>\n",
       "      <td>0.251613</td>\n",
       "      <td>0.503226</td>\n",
       "      <td>0.57957</td>\n",
       "      <td>0.587097</td>\n",
       "      <td>0.574194</td>\n",
       "    </tr>\n",
       "    <tr>\n",
       "      <th>F1 Score</th>\n",
       "      <td>0.0957779</td>\n",
       "      <td>0.110826</td>\n",
       "      <td>0.468879</td>\n",
       "      <td>0.576645</td>\n",
       "      <td>0.586759</td>\n",
       "      <td>0.574316</td>\n",
       "    </tr>\n",
       "  </tbody>\n",
       "</table>\n",
       "</div>"
      ],
      "text/plain": [
       "                    0         1         2         3         4         5\n",
       "LR C value      0.001      0.01       0.1         1        10       100\n",
       "Precision    0.059578  0.220982  0.515633  0.604857  0.598494  0.584227\n",
       "Recall       0.244086  0.251613  0.503226   0.57957  0.587097  0.574194\n",
       "F1 Score    0.0957779  0.110826  0.468879  0.576645  0.586759  0.574316"
      ]
     },
     "execution_count": 16,
     "metadata": {},
     "output_type": "execute_result"
    }
   ],
   "source": [
    "\n",
    "\n",
    "for i in df_lr.index:\n",
    "    clf =LogisticRegression(random_state=2020,multi_class = 'multinomial' , solver = 'newton-cg', C=df_lr['LR C value'][i]).fit(vectors, Train_Y)\n",
    "\n",
    "    pred = clf.predict(vectors_test)\n",
    "    df_lr['Precision'][i]= metrics.precision_score(Test_Y, pred, average='weighted')\n",
    "    df_lr['Recall'][i]= metrics.recall_score(Test_Y, pred, average='weighted')\n",
    "    df_lr['F1 Score'][i]= metrics.f1_score(Test_Y, pred, average='weighted')\n",
    "    \n",
    "df_lr.T "
   ]
  },
  {
   "cell_type": "code",
   "execution_count": null,
   "metadata": {},
   "outputs": [],
   "source": []
  },
  {
   "cell_type": "code",
   "execution_count": 17,
   "metadata": {},
   "outputs": [],
   "source": [
    "clf =LogisticRegression(random_state=2020,multi_class = 'multinomial' , solver = 'newton-cg', C=1).fit(vectors, Train_Y)\n",
    "\n",
    "pred = clf.predict(vectors_test)"
   ]
  },
  {
   "cell_type": "code",
   "execution_count": null,
   "metadata": {},
   "outputs": [],
   "source": []
  },
  {
   "cell_type": "code",
   "execution_count": 18,
   "metadata": {},
   "outputs": [
    {
     "data": {
      "text/plain": [
       "<sklearn.metrics._plot.confusion_matrix.ConfusionMatrixDisplay at 0x26ba7a08af0>"
      ]
     },
     "execution_count": 18,
     "metadata": {},
     "output_type": "execute_result"
    },
    {
     "data": {
      "image/png": "[encoded data removed]",
      "text/plain": [
       "<Figure size 576x576 with 2 Axes>"
      ]
     },
     "metadata": {
      "needs_background": "light"
     },
     "output_type": "display_data"
    }
   ],
   "source": [
    "titles_options = [(\"Confusion matrix, without normalization\", None),\n",
    "                  (\"Normalized confusion matrix\", 'true')]\n",
    "\n",
    "\n",
    "\n",
    "fig, ax = plt.subplots(figsize=(8, 8))\n",
    "plot_confusion_matrix(clf, vectors_test,Test_Y ,\n",
    "                                 display_labels=[1,2,3,4,5,6,7,8], normalize='true', cmap=plt.cm.Blues, ax=ax)\n"
   ]
  },
  {
   "cell_type": "code",
   "execution_count": 19,
   "metadata": {},
   "outputs": [],
   "source": [
    "df_svm=pd.DataFrame(columns=['svm C value','Precision','Recall','F1 Score'])\n",
    "df_svm['svm C value']=[0.001,0.01,0.1,1,10,100]"
   ]
  },
  {
   "cell_type": "code",
   "execution_count": null,
   "metadata": {},
   "outputs": [],
   "source": []
  },
  {
   "cell_type": "code",
   "execution_count": 18,
   "metadata": {},
   "outputs": [
    {
     "name": "stderr",
     "output_type": "stream",
     "text": [
      "C:\\Anaconda3\\lib\\site-packages\\sklearn\\metrics\\_classification.py:1221: UndefinedMetricWarning: Precision is ill-defined and being set to 0.0 in labels with no predicted samples. Use `zero_division` parameter to control this behavior.\n",
      "  _warn_prf(average, modifier, msg_start, len(result))\n"
     ]
    },
    {
     "data": {
      "text/html": [
       "<div>\n",
       "<style scoped>\n",
       "    .dataframe tbody tr th:only-of-type {\n",
       "        vertical-align: middle;\n",
       "    }\n",
       "\n",
       "    .dataframe tbody tr th {\n",
       "        vertical-align: top;\n",
       "    }\n",
       "\n",
       "    .dataframe thead th {\n",
       "        text-align: right;\n",
       "    }\n",
       "</style>\n",
       "<table border=\"1\" class=\"dataframe\">\n",
       "  <thead>\n",
       "    <tr style=\"text-align: right;\">\n",
       "      <th></th>\n",
       "      <th>0</th>\n",
       "      <th>1</th>\n",
       "      <th>2</th>\n",
       "      <th>3</th>\n",
       "      <th>4</th>\n",
       "      <th>5</th>\n",
       "    </tr>\n",
       "  </thead>\n",
       "  <tbody>\n",
       "    <tr>\n",
       "      <th>svm C value</th>\n",
       "      <td>0.001</td>\n",
       "      <td>0.01</td>\n",
       "      <td>0.1</td>\n",
       "      <td>1</td>\n",
       "      <td>10</td>\n",
       "      <td>100</td>\n",
       "    </tr>\n",
       "    <tr>\n",
       "      <th>Precision</th>\n",
       "      <td>0.059578</td>\n",
       "      <td>0.059578</td>\n",
       "      <td>0.566131</td>\n",
       "      <td>0.610131</td>\n",
       "      <td>0.587001</td>\n",
       "      <td>0.585644</td>\n",
       "    </tr>\n",
       "    <tr>\n",
       "      <th>Recall</th>\n",
       "      <td>0.244086</td>\n",
       "      <td>0.244086</td>\n",
       "      <td>0.448387</td>\n",
       "      <td>0.602151</td>\n",
       "      <td>0.575269</td>\n",
       "      <td>0.566667</td>\n",
       "    </tr>\n",
       "    <tr>\n",
       "      <th>F1 Score</th>\n",
       "      <td>0.0957779</td>\n",
       "      <td>0.0957779</td>\n",
       "      <td>0.417738</td>\n",
       "      <td>0.601526</td>\n",
       "      <td>0.575299</td>\n",
       "      <td>0.56873</td>\n",
       "    </tr>\n",
       "  </tbody>\n",
       "</table>\n",
       "</div>"
      ],
      "text/plain": [
       "                     0          1         2         3         4         5\n",
       "svm C value      0.001       0.01       0.1         1        10       100\n",
       "Precision     0.059578   0.059578  0.566131  0.610131  0.587001  0.585644\n",
       "Recall        0.244086   0.244086  0.448387  0.602151  0.575269  0.566667\n",
       "F1 Score     0.0957779  0.0957779  0.417738  0.601526  0.575299   0.56873"
      ]
     },
     "execution_count": 18,
     "metadata": {},
     "output_type": "execute_result"
    }
   ],
   "source": [
    "for i in df_svm.index:\n",
    "    SVM =svm.SVC(C=df_svm['svm C value'][i], kernel='linear', degree=3, gamma='auto') \n",
    "    SVM.fit(vectors,Train_Y)\n",
    "    pred = SVM.predict(vectors_test)\n",
    "    \n",
    "    df_svm['Precision'][i]= metrics.precision_score(Test_Y, pred, average='weighted')\n",
    "    df_svm['Recall'][i]= metrics.recall_score(Test_Y, pred, average='weighted')\n",
    "    df_svm['F1 Score'][i]= metrics.f1_score(Test_Y, pred, average='weighted')\n",
    "    \n",
    "df_svm.T "
   ]
  },
  {
   "cell_type": "code",
   "execution_count": 20,
   "metadata": {},
   "outputs": [],
   "source": [
    "SVM =svm.SVC(C=1, kernel='linear', degree=3, gamma='auto') \n",
    "SVM.fit(vectors,Train_Y)\n",
    "pred = SVM.predict(vectors_test)"
   ]
  },
  {
   "cell_type": "code",
   "execution_count": 21,
   "metadata": {},
   "outputs": [
    {
     "data": {
      "text/plain": [
       "<sklearn.metrics._plot.confusion_matrix.ConfusionMatrixDisplay at 0x26ba78ce610>"
      ]
     },
     "execution_count": 21,
     "metadata": {},
     "output_type": "execute_result"
    },
    {
     "data": {
      "image/png": "[encoded data removed]",
      "text/plain": [
       "<Figure size 576x576 with 2 Axes>"
      ]
     },
     "metadata": {
      "needs_background": "light"
     },
     "output_type": "display_data"
    }
   ],
   "source": [
    "titles_options = [(\"Confusion matrix, without normalization\", None),\n",
    "                  (\"Normalized confusion matrix\", 'true')]\n",
    "\n",
    "\n",
    "fig, ax = plt.subplots(figsize=(8, 8))\n",
    "plot_confusion_matrix(clf, vectors_test,Test_Y ,\n",
    "                                 display_labels=[1,2,3,4,5,6,7,8], normalize='true', cmap=plt.cm.Blues, ax=ax)"
   ]
  },
  {
   "cell_type": "code",
   "execution_count": null,
   "metadata": {},
   "outputs": [],
   "source": []
  },
  {
   "cell_type": "code",
   "execution_count": null,
   "metadata": {},
   "outputs": [],
   "source": []
  },
  {
   "cell_type": "code",
   "execution_count": 22,
   "metadata": {},
   "outputs": [
    {
     "name": "stderr",
     "output_type": "stream",
     "text": [
      "C:\\Anaconda3\\lib\\site-packages\\sklearn\\linear_model\\_stochastic_gradient.py:570: ConvergenceWarning: Maximum number of iteration reached before convergence. Consider increasing max_iter to improve the fit.\n",
      "  warnings.warn(\"Maximum number of iteration reached before \"\n"
     ]
    },
    {
     "data": {
      "text/plain": [
       "0.573954548616097"
      ]
     },
     "execution_count": 22,
     "metadata": {},
     "output_type": "execute_result"
    }
   ],
   "source": [
    "from sklearn.linear_model import SGDClassifier\n",
    "\n",
    "clf = SGDClassifier(loss=\"hinge\", penalty=\"l2\", max_iter=10)\n",
    "clf.fit(vectors,Train_Y)\n",
    "pred = clf.predict(vectors_test)\n",
    "metrics.f1_score(Test_Y, pred, average='weighted')"
   ]
  },
  {
   "cell_type": "code",
   "execution_count": 23,
   "metadata": {},
   "outputs": [
    {
     "data": {
      "text/plain": [
       "0.9110215053763441"
      ]
     },
     "execution_count": 23,
     "metadata": {},
     "output_type": "execute_result"
    }
   ],
   "source": [
    "from sklearn.linear_model import RidgeClassifier\n",
    "clf = RidgeClassifier().fit(vectors,Train_Y)\n",
    "clf.score(vectors,Train_Y)"
   ]
  },
  {
   "cell_type": "code",
   "execution_count": 24,
   "metadata": {},
   "outputs": [
    {
     "data": {
      "text/plain": [
       "0.5554515161578473"
      ]
     },
     "execution_count": 24,
     "metadata": {},
     "output_type": "execute_result"
    }
   ],
   "source": [
    "pred=clf.predict(vectors_test)\n",
    "metrics.f1_score(Test_Y, pred, average='weighted')"
   ]
  },
  {
   "cell_type": "code",
   "execution_count": 114,
   "metadata": {},
   "outputs": [],
   "source": [
    "from sklearn.cluster import KMeans\n",
    "import sklearn.metrics as metrics"
   ]
  },
  {
   "cell_type": "code",
   "execution_count": 115,
   "metadata": {},
   "outputs": [],
   "source": [
    "vectors_tfidf = vectorizer.transform(df_sample['text_en_only_rm_stopping'])"
   ]
  },
  {
   "cell_type": "code",
   "execution_count": 119,
   "metadata": {},
   "outputs": [],
   "source": [
    "df_model=pd.DataFrame(columns=['k', 'Silhouette Coefficient'])\n",
    "df_model['k']=pd.Series(np.arange(50,320,10))"
   ]
  },
  {
   "cell_type": "code",
   "execution_count": 117,
   "metadata": {},
   "outputs": [
    {
     "name": "stdout",
     "output_type": "stream",
     "text": [
      "Silhouette Coefficient: 0.071\n"
     ]
    }
   ],
   "source": [
    "kmeans = KMeans(n_clusters=int(110), random_state=2020).fit(vectors_tfidf)\n",
    "y_pred = kmeans.labels_\n",
    "s=metrics.silhouette_score(vectors_tfidf, y_pred)\n",
    "print(\"Silhouette Coefficient: %0.3f\"% s )"
   ]
  },
  {
   "cell_type": "code",
   "execution_count": 120,
   "metadata": {},
   "outputs": [
    {
     "name": "stdout",
     "output_type": "stream",
     "text": [
      "50\n",
      "Silhouette Coefficient: 0.056\n",
      "60\n",
      "Silhouette Coefficient: 0.058\n",
      "70\n",
      "Silhouette Coefficient: 0.061\n",
      "80\n",
      "Silhouette Coefficient: 0.065\n",
      "90\n",
      "Silhouette Coefficient: 0.067\n",
      "100\n",
      "Silhouette Coefficient: 0.068\n",
      "110\n",
      "Silhouette Coefficient: 0.071\n",
      "120\n",
      "Silhouette Coefficient: 0.070\n",
      "130\n",
      "Silhouette Coefficient: 0.076\n",
      "140\n",
      "Silhouette Coefficient: 0.077\n",
      "150\n",
      "Silhouette Coefficient: 0.080\n",
      "160\n",
      "Silhouette Coefficient: 0.082\n",
      "170\n",
      "Silhouette Coefficient: 0.082\n",
      "180\n",
      "Silhouette Coefficient: 0.079\n",
      "190\n",
      "Silhouette Coefficient: 0.080\n",
      "200\n",
      "Silhouette Coefficient: 0.081\n",
      "210\n",
      "Silhouette Coefficient: 0.087\n",
      "220\n",
      "Silhouette Coefficient: 0.088\n",
      "230\n",
      "Silhouette Coefficient: 0.090\n",
      "240\n",
      "Silhouette Coefficient: 0.090\n",
      "250\n",
      "Silhouette Coefficient: 0.092\n",
      "260\n",
      "Silhouette Coefficient: 0.092\n",
      "270\n",
      "Silhouette Coefficient: 0.092\n",
      "280\n",
      "Silhouette Coefficient: 0.093\n",
      "290\n",
      "Silhouette Coefficient: 0.093\n",
      "300\n",
      "Silhouette Coefficient: 0.094\n",
      "310\n",
      "Silhouette Coefficient: 0.094\n"
     ]
    }
   ],
   "source": [
    "for i in df_model.index:\n",
    "    print(df_model['k'][i])\n",
    "    \n",
    "    kmeans = KMeans(n_clusters=int(df_model['k'][i]), random_state=2020).fit(vectors_tfidf)\n",
    "    y_pred = kmeans.labels_\n",
    "    s=metrics.silhouette_score(vectors_tfidf, y_pred)\n",
    "    print(\"Silhouette Coefficient: %0.3f\"% s )\n",
    "    df_model['Silhouette Coefficient'][i]=s"
   ]
  },
  {
   "cell_type": "code",
   "execution_count": 121,
   "metadata": {},
   "outputs": [],
   "source": [
    "df_model_GMM=pd.DataFrame(columns=['N', 'Silhouette Coefficient','converged'])\n",
    "df_model_GMM['N']=pd.Series(np.arange(50,360,20))"
   ]
  },
  {
   "cell_type": "code",
   "execution_count": 123,
   "metadata": {},
   "outputs": [],
   "source": [
    "from sklearn.mixture import GaussianMixture"
   ]
  },
  {
   "cell_type": "code",
   "execution_count": null,
   "metadata": {},
   "outputs": [],
   "source": []
  },
  {
   "cell_type": "code",
   "execution_count": 127,
   "metadata": {},
   "outputs": [
    {
     "name": "stdout",
     "output_type": "stream",
     "text": [
      "Silhouette Coefficient: 0.109\n"
     ]
    }
   ],
   "source": [
    "from sklearn.cluster import Birch\n",
    "brc = Birch(n_clusters=None)\n",
    "brc.fit(vectors_tfidf.toarray())\n",
    "yred=brc.predict(vectors_tfidf.toarray())\n",
    "s=metrics.silhouette_score(vectors_tfidf.toarray() , yred)\n",
    "print(\"Silhouette Coefficient: %0.3f\"% s )"
   ]
  },
  {
   "cell_type": "code",
   "execution_count": 136,
   "metadata": {},
   "outputs": [
    {
     "name": "stdout",
     "output_type": "stream",
     "text": [
      "Silhouette Coefficient: 0.108\n"
     ]
    }
   ],
   "source": [
    "from sklearn.cluster import SpectralClustering\n",
    "clustering = SpectralClustering(n_clusters=310,\n",
    "         assign_labels=\"discretize\",\n",
    "        random_state=0).fit_predict(vectors_tfidf.toarray())\n",
    "\n",
    "yred=clustering\n",
    "\n",
    "s=metrics.silhouette_score(vectors_tfidf.toarray() , yred)\n",
    "\n",
    "print(\"Silhouette Coefficient: %0.3f\"% s )"
   ]
  },
  {
   "cell_type": "code",
   "execution_count": 137,
   "metadata": {},
   "outputs": [
    {
     "data": {
      "text/plain": [
       "309"
      ]
     },
     "execution_count": 137,
     "metadata": {},
     "output_type": "execute_result"
    }
   ],
   "source": [
    "len(list(set(yred.tolist())))"
   ]
  },
  {
   "cell_type": "code",
   "execution_count": 25,
   "metadata": {},
   "outputs": [
    {
     "data": {
      "text/plain": [
       "0.6424222471608441"
      ]
     },
     "execution_count": 25,
     "metadata": {},
     "output_type": "execute_result"
    }
   ],
   "source": [
    "from sklearn.ensemble import RandomForestClassifier\n",
    "clf = RandomForestClassifier( random_state=2016)\n",
    "clf.fit(vectors,Train_Y)\n",
    "pred = clf.predict(vectors_test)\n",
    "metrics.f1_score(Test_Y, pred, average='weighted')\n"
   ]
  },
  {
   "cell_type": "code",
   "execution_count": 26,
   "metadata": {},
   "outputs": [
    {
     "data": {
      "text/plain": [
       "0.5496965488097662"
      ]
     },
     "execution_count": 26,
     "metadata": {},
     "output_type": "execute_result"
    }
   ],
   "source": [
    "from sklearn.neighbors import KNeighborsClassifier\n",
    "neigh = KNeighborsClassifier(n_neighbors=15)\n",
    "neigh.fit(vectors,Train_Y)\n",
    "pred = neigh.predict(vectors_test)\n",
    "metrics.f1_score(Test_Y, pred, average='weighted')"
   ]
  },
  {
   "cell_type": "code",
   "execution_count": 29,
   "metadata": {},
   "outputs": [
    {
     "data": {
      "text/plain": [
       "0.24382522926355946"
      ]
     },
     "execution_count": 29,
     "metadata": {},
     "output_type": "execute_result"
    }
   ],
   "source": [
    "from sklearn.ensemble import AdaBoostClassifier\n",
    "clf = AdaBoostClassifier(n_estimators=300, random_state=2020)\n",
    "clf.fit(vectors,Train_Y)\n",
    "pred = clf.predict(vectors_test)\n",
    "metrics.f1_score(Test_Y, pred, average='weighted')"
   ]
  },
  {
   "cell_type": "code",
   "execution_count": 30,
   "metadata": {},
   "outputs": [
    {
     "data": {
      "text/plain": [
       "0.6031026962641831"
      ]
     },
     "execution_count": 30,
     "metadata": {},
     "output_type": "execute_result"
    }
   ],
   "source": [
    "from sklearn.ensemble import GradientBoostingClassifier\n",
    "clf = GradientBoostingClassifier(n_estimators=300, random_state=2020)\n",
    "clf.fit(vectors,Train_Y)\n",
    "pred = clf.predict(vectors_test)\n",
    "metrics.f1_score(Test_Y, pred, average='weighted')"
   ]
  },
  {
   "cell_type": "code",
   "execution_count": 31,
   "metadata": {},
   "outputs": [
    {
     "data": {
      "text/plain": [
       "0.6649433288662353"
      ]
     },
     "execution_count": 31,
     "metadata": {},
     "output_type": "execute_result"
    }
   ],
   "source": [
    "from sklearn.ensemble import ExtraTreesClassifier\n",
    "clf = ExtraTreesClassifier(n_estimators=300, random_state=2020)\n",
    "clf.fit(vectors,Train_Y)\n",
    "pred = clf.predict(vectors_test)\n",
    "metrics.f1_score(Test_Y, pred, average='weighted')"
   ]
  },
  {
   "cell_type": "code",
   "execution_count": null,
   "metadata": {},
   "outputs": [],
   "source": []
  }
 ],
 "metadata": {
  "kernelspec": {
   "display_name": "Python 3",
   "language": "python",
   "name": "python3"
  },
  "language_info": {
   "codemirror_mode": {
    "name": "ipython",
    "version": 3
   },
   "file_extension": ".py",
   "mimetype": "text/x-python",
   "name": "python",
   "nbconvert_exporter": "python",
   "pygments_lexer": "ipython3",
   "version": "3.8.3"
  }
 },
 "nbformat": 4,
 "nbformat_minor": 2
}
