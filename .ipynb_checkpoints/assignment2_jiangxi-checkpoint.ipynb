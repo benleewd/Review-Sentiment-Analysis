{
 "cells": [
  {
   "cell_type": "markdown",
   "metadata": {},
   "source": [
    "### Question 1               JIANGXI"
   ]
  },
  {
   "cell_type": "code",
   "execution_count": 55,
   "metadata": {},
   "outputs": [],
   "source": [
    "import pandas as pd\n",
    "import numpy as np\n",
    "from sklearn import linear_model\n",
    "import matplotlib.pyplot as plt\n",
    "from sklearn.metrics import log_loss\n",
    "data = pd.read_csv('communities.data', header = None, names = ['state', 'county', 'community', 'communityname', 'fold', 'population', 'householdsize', 'racepctblack', 'racePctWhite', 'racePctAsian', 'racePctHisp', 'agePct12t21', 'agePct12t29', 'agePct16t24', 'agePct65up', 'numbUrban', 'pctUrban', 'medIncome', 'pctWWage', 'pctWFarmSelf', 'pctWInvInc', 'pctWSocSec', 'pctWPubAsst', 'pctWRetire', 'medFamInc', 'perCapInc', 'whitePerCap', 'blackPerCap', 'indianPerCap', 'AsianPerCap', 'OtherPerCap', 'HispPerCap', 'NumUnderPov', 'PctPopUnderPov', 'PctLess9thGrade', 'PctNotHSGrad', 'PctBSorMore', 'PctUnemployed', 'PctEmploy', 'PctEmplManu', 'PctEmplProfServ', 'PctOccupManu', 'PctOccupMgmtProf', 'MalePctDivorce', 'MalePctNevMarr', 'FemalePctDiv', 'TotalPctDiv', 'PersPerFam', 'PctFam2Par', 'PctKids2Par', 'PctYoungKids2Par', 'PctTeen2Par', 'PctWorkMomYoungKids', 'PctWorkMom', 'NumIlleg', 'PctIlleg', 'NumImmig', 'PctImmigRecent', 'PctImmigRec5', 'PctImmigRec8', 'PctImmigRec10', 'PctRecentImmig', 'PctRecImmig5', 'PctRecImmig8', 'PctRecImmig10', 'PctSpeakEnglOnly', 'PctNotSpeakEnglWell', 'PctLargHouseFam', 'PctLargHouseOccup', 'PersPerOccupHous', 'PersPerOwnOccHous', 'PersPerRentOccHous', 'PctPersOwnOccup', 'PctPersDenseHous', 'PctHousLess3BR', 'MedNumBR', 'HousVacant', 'PctHousOccup', 'PctHousOwnOcc', 'PctVacantBoarded', 'PctVacMore6Mos', 'MedYrHousBuilt', 'PctHousNoPhone', 'PctWOFullPlumb', 'OwnOccLowQuart', 'OwnOccMedVal', 'OwnOccHiQuart', 'RentLowQ', 'RentMedian', 'RentHighQ', 'MedRent', 'MedRentPctHousInc', 'MedOwnCostPctInc', 'MedOwnCostPctIncNoM', 'NumInShelters', 'NumStreet', 'PctForeignBorn', 'PctBornSameState', 'PctSameHouse85', 'PctSameCity85', 'PctSameState85', 'LemasSwornFT', 'LemasSwFTPerPop', 'LemasSwFTFieldOps', 'LemasSwFTFieldPerPop', 'LemasTotalReq', 'LemasTotReqPerPop', 'PolicReqPerOffic', 'PolicPerPop', 'RacialMatchCommPol', 'PctPolicWhite', 'PctPolicBlack', 'PctPolicHisp', 'PctPolicAsian', 'PctPolicMinor', 'OfficAssgnDrugUnits', 'NumKindsDrugsSeiz', 'PolicAveOTWorked', 'LandArea', 'PopDens', 'PctUsePubTrans', 'PolicCars', 'PolicOperBudg', 'LemasPctPolicOnPatr','LemasGangUnitDeploy','LemasPctOfficDrugUn','PolicBudgPerPop', 'ViolentCrimesPerPop'])\n",
    "\n",
    "num_row, num_col = data.shape\n",
    "\n",
    "selected_column = []\n",
    "for j in range(5, num_col-1):\n",
    "    valcount = data.iloc[:,j].value_counts()\n",
    "    if '?' not in valcount:\n",
    "        selected_column.append(j)\n",
    "    elif valcount['?'] < 0.01 * num_row:\n",
    "        valmean = pd.to_numeric(data.iloc[:,j], errors = 'coerce').mean()\n",
    "        for i in range(num_row):\n",
    "            if data.iloc[i,j] == '?':\n",
    "                data.iloc[i,j] = valmean\n",
    "        data.iloc[:,j] = pd.to_numeric(data.iloc[:,j])\n",
    "        selected_column.append(j)\n",
    "\n",
    "np.random.seed(2020)\n",
    "train = np.random.choice([True, False], num_row, replace = True, p = [0.9, 0.1])\n",
    "x_train = data.iloc[train,selected_column].values\n",
    "y_train = data.iloc[train,-1].values\n",
    "x_test = data.iloc[~train,selected_column].values\n",
    "y_test = data.iloc[~train,-1].values\n",
    "\n",
    "y_train = np.array([0 if i < 0.1 else 1 if i < 0.26 else 2 for i in y_train])\n",
    "y_test = np.array([0 if i < 0.1 else 1 if i < 0.26 else 2 for i in y_test])"
   ]
  },
  {
   "cell_type": "code",
   "execution_count": 56,
   "metadata": {},
   "outputs": [
    {
     "name": "stdout",
     "output_type": "stream",
     "text": [
      "0\n",
      "0.9454258099530715\n",
      "1\n",
      "0.7831530109769081\n",
      "2\n",
      "0.7224839638110442\n",
      "3\n",
      "0.7098802304239642\n",
      "4\n",
      "0.7343687620092685\n",
      "5\n",
      "0.7580449367181681\n",
      "6\n",
      "0.7661964604588116\n",
      "7\n",
      "0.7689901930366634\n",
      "8\n",
      "0.7693749813681198\n",
      "9\n",
      "0.7694113274845358\n"
     ]
    },
    {
     "data": {
      "image/png": "[encoded data removed]",
      "text/plain": [
       "<Figure size 432x432 with 1 Axes>"
      ]
     },
     "metadata": {
      "needs_background": "light"
     },
     "output_type": "display_data"
    }
   ],
   "source": [
    "num_C = 10\n",
    "C = [1.0] * num_C\n",
    "for i in range(num_C):\n",
    "    C[i] = pow(10, i-3)\n",
    "\n",
    "logit = [None] * num_C\n",
    "inv_log_likelihood_train = [0.0] * num_C\n",
    "inv_log_likelihood_test = [0.0] * num_C\n",
    "\n",
    "# build your models here\n",
    "\n",
    "from sklearn.linear_model import LogisticRegression\n",
    "\n",
    "for i in range(num_C):\n",
    "    print(i)\n",
    "    clf = LogisticRegression(random_state=2020,multi_class = 'multinomial' , solver = 'newton-cg', C=C[i]).fit(x_train, y_train)\n",
    "    pred=clf.predict_proba(x_test)\n",
    "    inv_log_likelihood_train[i] =log_loss(y_train, clf.predict_proba(x_train))\n",
    "    inv_log_likelihood_test[i] = log_loss(y_test, pred)\n",
    "    print(inv_log_likelihood_test[i])\n",
    "    \n",
    "\n",
    "\n",
    "\n",
    "plt.figure(figsize = (6, 6))\n",
    "plt.xscale('log')\n",
    "plt.plot(C, inv_log_likelihood_train, 'bo-', C, inv_log_likelihood_test, 'ro-')\n",
    "plt.show()"
   ]
  },
  {
   "cell_type": "markdown",
   "metadata": {},
   "source": [
    "The c is the inverse regularization parameter, used for preventing the overfitting as it gives the penalty \n",
    "The higher the c the higher strength to the regulator. by adjusting the c we may find the best value for better generalization capability at 1"
   ]
  },
  {
   "cell_type": "code",
   "execution_count": null,
   "metadata": {},
   "outputs": [],
   "source": []
  },
  {
   "cell_type": "code",
   "execution_count": null,
   "metadata": {},
   "outputs": [],
   "source": []
  },
  {
   "cell_type": "markdown",
   "metadata": {},
   "source": [
    "### Question 2"
   ]
  },
  {
   "cell_type": "code",
   "execution_count": 57,
   "metadata": {},
   "outputs": [],
   "source": [
    "import numpy as np\n",
    "from sklearn import datasets, feature_extraction, naive_bayes, linear_model\n",
    "\n",
    "data = [0, 0]\n",
    "data[0] = datasets.fetch_20newsgroups(subset = 'train', shuffle = True, random_state = 2020, remove = ('headers', 'footers', 'quotes'))\n",
    "data[1] = datasets.fetch_20newsgroups(subset = 'test', shuffle = True, random_state = 2020, remove = ('headers', 'footers', 'quotes'))\n",
    "target_map = {}\n",
    "for i in range(len(data[0].target_names)):\n",
    "    if data[0].target_names[i] == 'comp.graphics':\n",
    "        target_map[i] = 0\n",
    "    elif data[0].target_names[i] == 'comp.sys.mac.hardware':\n",
    "        target_map[i] = 1\n",
    "    elif data[0].target_names[i] == 'talk.politics.guns':\n",
    "        target_map[i] = 2\n",
    "    elif data[0].target_names[i] == 'talk.politics.mideast':\n",
    "        target_map[i] = 3\n",
    "    elif data[0].target_names[i] == 'sci.crypt':\n",
    "        target_map[i] = 4\n",
    "    elif data[0].target_names[i] == 'sci.space':\n",
    "        target_map[i] = 5\n",
    "\n",
    "data_x, data_y = [[], []], [[], []]\n",
    "for i in [0, 1]:\n",
    "    for j in range(len(data[i].data)):\n",
    "        if data[i].target[j] in target_map:\n",
    "            data_x[i].append(data[i].data[j])\n",
    "            data_y[i].append(target_map[data[i].target[j]])\n",
    "\n"
   ]
  },
  {
   "cell_type": "code",
   "execution_count": 58,
   "metadata": {},
   "outputs": [],
   "source": [
    "y_train = data_y[0]\n",
    "y_test = data_y[1]\n",
    "x_train = data_x[0]\n",
    "x_test = data_x[1]"
   ]
  },
  {
   "cell_type": "code",
   "execution_count": 59,
   "metadata": {},
   "outputs": [
    {
     "data": {
      "text/plain": [
       "(3460, 1509)"
      ]
     },
     "execution_count": 59,
     "metadata": {},
     "output_type": "execute_result"
    }
   ],
   "source": [
    "# build your x_train and x_test with TfidfVectorizer\n",
    "from sklearn.feature_extraction.text import TfidfVectorizer\n",
    "vectorizer = TfidfVectorizer(min_df = 0.01, max_df = 0.5, stop_words = 'english')\n",
    "vectors = vectorizer.fit_transform(x_train)\n",
    "vectors.shape"
   ]
  },
  {
   "cell_type": "code",
   "execution_count": 60,
   "metadata": {},
   "outputs": [],
   "source": [
    "test_vectors = vectorizer.transform(x_test)"
   ]
  },
  {
   "cell_type": "code",
   "execution_count": 61,
   "metadata": {},
   "outputs": [],
   "source": [
    "# build and compare your Naive Bayes classifiers here\n",
    "from sklearn.naive_bayes import MultinomialNB\n",
    "from sklearn import metrics\n",
    "import pandas as pd\n",
    "\n",
    "pd.options.mode.chained_assignment = None\n",
    "\n",
    "#mnb = MultinomialNB(alpha=10)\n",
    "#mnb.fit(vectors, y_train)"
   ]
  },
  {
   "cell_type": "code",
   "execution_count": 62,
   "metadata": {},
   "outputs": [],
   "source": [
    "#pred = mnb.predict(test_vectors)\n",
    "#metrics.f1_score(y_test, pred, average='weighted')"
   ]
  },
  {
   "cell_type": "code",
   "execution_count": 63,
   "metadata": {},
   "outputs": [],
   "source": [
    "df_mnb=pd.DataFrame(columns=['MNB alpha value','Precision','Recall','F1 Score'])\n",
    "df_mnb['MNB alpha value']=[0.001,0.01,0.1,1,10]\n"
   ]
  },
  {
   "cell_type": "code",
   "execution_count": 64,
   "metadata": {},
   "outputs": [
    {
     "data": {
      "text/html": [
       "<div>\n",
       "<style scoped>\n",
       "    .dataframe tbody tr th:only-of-type {\n",
       "        vertical-align: middle;\n",
       "    }\n",
       "\n",
       "    .dataframe tbody tr th {\n",
       "        vertical-align: top;\n",
       "    }\n",
       "\n",
       "    .dataframe thead th {\n",
       "        text-align: right;\n",
       "    }\n",
       "</style>\n",
       "<table border=\"1\" class=\"dataframe\">\n",
       "  <thead>\n",
       "    <tr style=\"text-align: right;\">\n",
       "      <th></th>\n",
       "      <th>0</th>\n",
       "      <th>1</th>\n",
       "      <th>2</th>\n",
       "      <th>3</th>\n",
       "      <th>4</th>\n",
       "    </tr>\n",
       "  </thead>\n",
       "  <tbody>\n",
       "    <tr>\n",
       "      <th>MNB alpha value</th>\n",
       "      <td>0.001</td>\n",
       "      <td>0.01</td>\n",
       "      <td>0.1</td>\n",
       "      <td>1</td>\n",
       "      <td>10</td>\n",
       "    </tr>\n",
       "    <tr>\n",
       "      <th>Precision</th>\n",
       "      <td>0.770325</td>\n",
       "      <td>0.772422</td>\n",
       "      <td>0.773694</td>\n",
       "      <td>0.775636</td>\n",
       "      <td>0.771661</td>\n",
       "    </tr>\n",
       "    <tr>\n",
       "      <th>Recall</th>\n",
       "      <td>0.768229</td>\n",
       "      <td>0.770399</td>\n",
       "      <td>0.772135</td>\n",
       "      <td>0.773438</td>\n",
       "      <td>0.765191</td>\n",
       "    </tr>\n",
       "    <tr>\n",
       "      <th>F1 Score</th>\n",
       "      <td>0.768732</td>\n",
       "      <td>0.770941</td>\n",
       "      <td>0.772613</td>\n",
       "      <td>0.773894</td>\n",
       "      <td>0.766502</td>\n",
       "    </tr>\n",
       "  </tbody>\n",
       "</table>\n",
       "</div>"
      ],
      "text/plain": [
       "                        0         1         2         3         4\n",
       "MNB alpha value     0.001      0.01       0.1         1        10\n",
       "Precision        0.770325  0.772422  0.773694  0.775636  0.771661\n",
       "Recall           0.768229  0.770399  0.772135  0.773438  0.765191\n",
       "F1 Score         0.768732  0.770941  0.772613  0.773894  0.766502"
      ]
     },
     "execution_count": 64,
     "metadata": {},
     "output_type": "execute_result"
    }
   ],
   "source": [
    "for i in df_mnb.index:\n",
    "    mnb = MultinomialNB(alpha=df_mnb['MNB alpha value'][i])\n",
    "    mnb.fit(vectors, y_train)\n",
    "    pred = mnb.predict(test_vectors)\n",
    "    df_mnb['Precision'][i]= metrics.precision_score(y_test, pred, average='weighted')\n",
    "    df_mnb['Recall'][i]= metrics.recall_score(y_test, pred, average='weighted')\n",
    "    df_mnb['F1 Score'][i]= metrics.f1_score(y_test, pred, average='weighted')\n",
    "        \n",
    "\n",
    "    \n",
    "df_mnb.T  "
   ]
  },
  {
   "cell_type": "markdown",
   "metadata": {},
   "source": [
    "\n",
    "which alpha value will you choose? __1__"
   ]
  },
  {
   "cell_type": "code",
   "execution_count": 65,
   "metadata": {},
   "outputs": [],
   "source": [
    "mnb = MultinomialNB(alpha=1)\n",
    "mnb.fit(vectors, y_train)\n",
    "pred = mnb.predict(test_vectors)"
   ]
  },
  {
   "cell_type": "code",
   "execution_count": 66,
   "metadata": {},
   "outputs": [],
   "source": [
    "# print most representative words for each newsgroup\n",
    "\n",
    "def show_top10(classifier, vectorizer, categories):\n",
    "        feature_names = np.asarray(vectorizer.get_feature_names())\n",
    "        for i, category in enumerate(categories):\n",
    "            top10 = np.argsort(classifier.coef_[i])[-10:]\n",
    "            print(\"%s: %s\" % (category, \" \".join(feature_names[top10])))\n"
   ]
  },
  {
   "cell_type": "code",
   "execution_count": 67,
   "metadata": {},
   "outputs": [
    {
     "name": "stdout",
     "output_type": "stream",
     "text": [
      "graphics: format does looking know program file files image thanks graphics\n",
      "hardware: card simms know use does problem thanks drive apple mac\n",
      "guns: law com right just fbi weapons don people guns gun\n",
      "mideast: said just arab turkish armenians people armenian jews israeli israel\n",
      "crypt: just people use nsa government keys chip clipper encryption key\n",
      "space: think shuttle earth just launch moon orbit like nasa space\n"
     ]
    }
   ],
   "source": [
    "show_top10(mnb, vectorizer, ['graphics', 'hardware', 'guns' ,'mideast', 'crypt' , 'space' ])"
   ]
  },
  {
   "cell_type": "markdown",
   "metadata": {},
   "source": [
    "| # | graphics | hardware | guns | mideast | crypt | space |\n",
    "|---|---|---|---|---|---|---|\n",
    "| 1 | format | card | law  | said | just| think |\n",
    "| 2 | does | simms | com | just | people | shuttle |\n",
    "| 3 | looking | know | right | arab  | use | earth |\n",
    "| 4 | know | use | just | turkish | nsa | just |\n",
    "| 5 | program | does | fbi | armenians | government | launch |\n",
    "| 6 | file | problem | weapons | people | keys | moon |\n",
    "| 7 | files | thanks | don | armenian | chip | orbit |\n",
    "| 8 | image | drive | people | jews | clipper | like |\n",
    "| 9 | thanks | apple| guns |israeli | encryption| nasa |\n",
    "| 10 | graphics | mac| gun |israel | key | space |\n",
    "\n",
    "1.some words did make sense, we shall remove more customized stopping word like \"like\" 'just' 'does'\n",
    "2.Same word in different form and tense > stemmer or Lemmatisation\n",
    "\n"
   ]
  },
  {
   "cell_type": "code",
   "execution_count": 68,
   "metadata": {},
   "outputs": [
    {
     "data": {
      "text/plain": [
       "0.7014360946644344"
      ]
     },
     "execution_count": 68,
     "metadata": {},
     "output_type": "execute_result"
    }
   ],
   "source": [
    "# build and compare your Logistic Regression classifiers here\n",
    "from sklearn.linear_model import LogisticRegression\n",
    "\n",
    "clf = LogisticRegression(random_state=2020,multi_class = 'multinomial' , solver = 'newton-cg', C=0.01).fit(vectors, y_train)\n",
    "pred=clf.predict(test_vectors)\n",
    "metrics.f1_score(y_test, pred, average='weighted')"
   ]
  },
  {
   "cell_type": "code",
   "execution_count": 69,
   "metadata": {},
   "outputs": [],
   "source": [
    "df_lr=pd.DataFrame(columns=['LR C value','Precision','Recall','F1 Score'])\n",
    "df_lr['LR C value']=[0.01,0.1,1,10,100]"
   ]
  },
  {
   "cell_type": "code",
   "execution_count": 70,
   "metadata": {},
   "outputs": [
    {
     "data": {
      "text/html": [
       "<div>\n",
       "<style scoped>\n",
       "    .dataframe tbody tr th:only-of-type {\n",
       "        vertical-align: middle;\n",
       "    }\n",
       "\n",
       "    .dataframe tbody tr th {\n",
       "        vertical-align: top;\n",
       "    }\n",
       "\n",
       "    .dataframe thead th {\n",
       "        text-align: right;\n",
       "    }\n",
       "</style>\n",
       "<table border=\"1\" class=\"dataframe\">\n",
       "  <thead>\n",
       "    <tr style=\"text-align: right;\">\n",
       "      <th></th>\n",
       "      <th>0</th>\n",
       "      <th>1</th>\n",
       "      <th>2</th>\n",
       "      <th>3</th>\n",
       "      <th>4</th>\n",
       "    </tr>\n",
       "  </thead>\n",
       "  <tbody>\n",
       "    <tr>\n",
       "      <th>LR C value</th>\n",
       "      <td>0.01</td>\n",
       "      <td>0.1</td>\n",
       "      <td>1</td>\n",
       "      <td>10</td>\n",
       "      <td>100</td>\n",
       "    </tr>\n",
       "    <tr>\n",
       "      <th>Precision</th>\n",
       "      <td>0.777375</td>\n",
       "      <td>0.783114</td>\n",
       "      <td>0.770865</td>\n",
       "      <td>0.74355</td>\n",
       "      <td>0.720381</td>\n",
       "    </tr>\n",
       "    <tr>\n",
       "      <th>Recall</th>\n",
       "      <td>0.706163</td>\n",
       "      <td>0.767361</td>\n",
       "      <td>0.764757</td>\n",
       "      <td>0.741753</td>\n",
       "      <td>0.718316</td>\n",
       "    </tr>\n",
       "    <tr>\n",
       "      <th>F1 Score</th>\n",
       "      <td>0.701436</td>\n",
       "      <td>0.768658</td>\n",
       "      <td>0.765077</td>\n",
       "      <td>0.741223</td>\n",
       "      <td>0.71803</td>\n",
       "    </tr>\n",
       "  </tbody>\n",
       "</table>\n",
       "</div>"
      ],
      "text/plain": [
       "                   0         1         2         3         4\n",
       "LR C value      0.01       0.1         1        10       100\n",
       "Precision   0.777375  0.783114  0.770865   0.74355  0.720381\n",
       "Recall      0.706163  0.767361  0.764757  0.741753  0.718316\n",
       "F1 Score    0.701436  0.768658  0.765077  0.741223   0.71803"
      ]
     },
     "execution_count": 70,
     "metadata": {},
     "output_type": "execute_result"
    }
   ],
   "source": [
    "for i in df_lr.index:\n",
    "    clf =LogisticRegression(random_state=2020,multi_class = 'multinomial' , solver = 'newton-cg', C=df_lr['LR C value'][i]).fit(vectors, y_train)\n",
    "    clf.fit(vectors, y_train)\n",
    "    pred = clf.predict(test_vectors)\n",
    "    df_lr['Precision'][i]= metrics.precision_score(y_test, pred, average='weighted')\n",
    "    df_lr['Recall'][i]= metrics.recall_score(y_test, pred, average='weighted')\n",
    "    df_lr['F1 Score'][i]= metrics.f1_score(y_test, pred, average='weighted')\n",
    "    \n",
    "df_lr.T "
   ]
  },
  {
   "cell_type": "code",
   "execution_count": 71,
   "metadata": {},
   "outputs": [],
   "source": [
    "clf =LogisticRegression(random_state=2020,multi_class = 'multinomial' , solver = 'newton-cg', C=0.1).fit(vectors, y_train)\n",
    "clf.fit(vectors, y_train)\n",
    "pred = clf.predict(test_vectors)"
   ]
  },
  {
   "cell_type": "markdown",
   "metadata": {},
   "source": [
    "which C value will you choose? __0.1__"
   ]
  },
  {
   "cell_type": "code",
   "execution_count": 72,
   "metadata": {},
   "outputs": [
    {
     "name": "stdout",
     "output_type": "stream",
     "text": [
      "graphics: looking thanks hi windows format 3d file files image graphics\n",
      "hardware: centris se problem monitor quadra scsi simms drive apple mac\n",
      "guns: com people law weapon batf firearms weapons fbi guns gun\n",
      "mideast: arabs turkey jewish arab turkish armenians armenian jews israeli israel\n",
      "crypt: privacy crypto security government keys nsa chip clipper encryption key\n",
      "space: flight spacecraft lunar shuttle earth launch moon orbit nasa space\n"
     ]
    }
   ],
   "source": [
    "show_top10(clf, vectorizer, ['graphics', 'hardware', 'guns' ,'mideast', 'crypt' , 'space' ])"
   ]
  },
  {
   "cell_type": "markdown",
   "metadata": {},
   "source": [
    "| # | graphics | hardware | guns | mideast | crypt | space |\n",
    "|---|---|---|---|---|---|---|\n",
    "| 1 | looking | centris | com | arabs | privacy |flightspacecraftlunar|\n",
    "| 2 | thanks | se | people | turkey |crypto | spacecraftlunar |\n",
    "| 3 | hi | problem | law | jewish |security | lunar |\n",
    "| 4 | windows | monitor | weapon |arab |keysgovernment |shuttle |\n",
    "| 5 | format |quadra | batf | turkish |keys| earth |\n",
    "| 6 | 3d | scsi | firearms | armeniansarmenian | nsa | launch  |\n",
    "| 7 | file | simms | weapons | armenian | chip | moon|\n",
    "| 8 | files | drive | fbi | jews | clipper | orbit |\n",
    "| 9 | image | apple | guns | israeli |encryption | nasa |\n",
    "| 10 | graphics | mac | gun | israel | key| space |"
   ]
  },
  {
   "cell_type": "code",
   "execution_count": null,
   "metadata": {},
   "outputs": [],
   "source": []
  }
 ],
 "metadata": {
  "kernelspec": {
   "display_name": "Python 3",
   "language": "python",
   "name": "python3"
  },
  "language_info": {
   "codemirror_mode": {
    "name": "ipython",
    "version": 3
   },
   "file_extension": ".py",
   "mimetype": "text/x-python",
   "name": "python",
   "nbconvert_exporter": "python",
   "pygments_lexer": "ipython3",
   "version": "3.8.3"
  }
 },
 "nbformat": 4,
 "nbformat_minor": 2
}
