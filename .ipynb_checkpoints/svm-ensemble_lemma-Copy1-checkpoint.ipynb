{
 "cells": [
  {
   "cell_type": "code",
   "execution_count": 1,
   "metadata": {},
   "outputs": [],
   "source": [
    "import os\n",
    "import glob\n",
    "import pickle\n",
    "import time\n",
    "#import pyperclip\n",
    "import fnmatch\n",
    "import datetime\n",
    "from datetime import date, timedelta\n",
    "import pandas as pd\n",
    "import numpy as np\n",
    "from string import punctuation, ascii_lowercase\n",
    "import regex as re\n",
    "import seaborn as sns\n",
    "import matplotlib.pyplot as plt\n",
    "%matplotlib inline\n",
    "from time import sleep"
   ]
  },
  {
   "cell_type": "code",
   "execution_count": 2,
   "metadata": {},
   "outputs": [
    {
     "name": "stderr",
     "output_type": "stream",
     "text": [
      "<ipython-input-2-e339116fd790>:1: TqdmDeprecationWarning: This function will be removed in tqdm==5.0.0\n",
      "Please use `tqdm.notebook.*` instead of `tqdm._tqdm_notebook.*`\n",
      "  from tqdm._tqdm_notebook import tqdm_notebook\n",
      "C:\\Anaconda3\\lib\\site-packages\\tqdm\\std.py:668: FutureWarning: The Panel class is removed from pandas. Accessing it from the top-level namespace will also be removed in the next version\n",
      "  from pandas import Panel\n",
      "[nltk_data] Downloading package punkt to\n",
      "[nltk_data]     C:\\Users\\Wyatt\\AppData\\Roaming\\nltk_data...\n",
      "[nltk_data]   Package punkt is already up-to-date!\n"
     ]
    },
    {
     "data": {
      "text/plain": [
       "True"
      ]
     },
     "execution_count": 2,
     "metadata": {},
     "output_type": "execute_result"
    }
   ],
   "source": [
    "from tqdm._tqdm_notebook import tqdm_notebook\n",
    "tqdm_notebook.pandas()\n",
    "import nltk\n",
    "nltk.download('punkt')"
   ]
  },
  {
   "cell_type": "code",
   "execution_count": 3,
   "metadata": {},
   "outputs": [],
   "source": [
    "from nltk.tokenize import word_tokenize\n",
    "from nltk import pos_tag\n",
    "from nltk.corpus import stopwords\n",
    "from nltk.stem import WordNetLemmatizer\n",
    "from sklearn.preprocessing import LabelEncoder\n",
    "from collections import defaultdict\n",
    "from nltk.corpus import wordnet as wn\n",
    "from sklearn.feature_extraction.text import TfidfVectorizer\n",
    "from sklearn import model_selection, naive_bayes, svm\n",
    "from sklearn.metrics import accuracy_score"
   ]
  },
  {
   "cell_type": "code",
   "execution_count": 4,
   "metadata": {},
   "outputs": [],
   "source": [
    "df_sample = pd.read_csv('df_tagged.csv', index_col=None, header=0, delimiter = ',',encoding='utf-8-sig')"
   ]
  },
  {
   "cell_type": "code",
   "execution_count": 5,
   "metadata": {},
   "outputs": [
    {
     "data": {
      "text/html": [
       "<div>\n",
       "<style scoped>\n",
       "    .dataframe tbody tr th:only-of-type {\n",
       "        vertical-align: middle;\n",
       "    }\n",
       "\n",
       "    .dataframe tbody tr th {\n",
       "        vertical-align: top;\n",
       "    }\n",
       "\n",
       "    .dataframe thead th {\n",
       "        text-align: right;\n",
       "    }\n",
       "</style>\n",
       "<table border=\"1\" class=\"dataframe\">\n",
       "  <thead>\n",
       "    <tr style=\"text-align: right;\">\n",
       "      <th></th>\n",
       "      <th>Unnamed: 0</th>\n",
       "      <th>review_id</th>\n",
       "      <th>review</th>\n",
       "      <th>rating</th>\n",
       "      <th>cluster_pred</th>\n",
       "      <th>category</th>\n",
       "      <th>catid</th>\n",
       "    </tr>\n",
       "  </thead>\n",
       "  <tbody>\n",
       "    <tr>\n",
       "      <th>0</th>\n",
       "      <td>0</td>\n",
       "      <td>0</td>\n",
       "      <td>Ga disappointed neat products .. Meletot Hilsn...</td>\n",
       "      <td>1</td>\n",
       "      <td>109</td>\n",
       "      <td>Mixed</td>\n",
       "      <td>6</td>\n",
       "    </tr>\n",
       "    <tr>\n",
       "      <th>1</th>\n",
       "      <td>1</td>\n",
       "      <td>1</td>\n",
       "      <td>Rdtanya replace broken glass, broken chargernya</td>\n",
       "      <td>1</td>\n",
       "      <td>228</td>\n",
       "      <td>Product-Quality</td>\n",
       "      <td>1</td>\n",
       "    </tr>\n",
       "    <tr>\n",
       "      <th>2</th>\n",
       "      <td>2</td>\n",
       "      <td>2</td>\n",
       "      <td>Nyesel bngt dsni shopping antecedent photo mes...</td>\n",
       "      <td>1</td>\n",
       "      <td>295</td>\n",
       "      <td>Mixed</td>\n",
       "      <td>6</td>\n",
       "    </tr>\n",
       "    <tr>\n",
       "      <th>3</th>\n",
       "      <td>3</td>\n",
       "      <td>3</td>\n",
       "      <td>Sent a light blue suit goods ga want a refund</td>\n",
       "      <td>1</td>\n",
       "      <td>29</td>\n",
       "      <td>Product-Spec</td>\n",
       "      <td>7</td>\n",
       "    </tr>\n",
       "    <tr>\n",
       "      <th>4</th>\n",
       "      <td>4</td>\n",
       "      <td>4</td>\n",
       "      <td>Pendants came with dents and scratches on its ...</td>\n",
       "      <td>1</td>\n",
       "      <td>96</td>\n",
       "      <td>Product-Spec</td>\n",
       "      <td>7</td>\n",
       "    </tr>\n",
       "    <tr>\n",
       "      <th>...</th>\n",
       "      <td>...</td>\n",
       "      <td>...</td>\n",
       "      <td>...</td>\n",
       "      <td>...</td>\n",
       "      <td>...</td>\n",
       "      <td>...</td>\n",
       "      <td>...</td>\n",
       "    </tr>\n",
       "    <tr>\n",
       "      <th>209724</th>\n",
       "      <td>209724</td>\n",
       "      <td>209673</td>\n",
       "      <td>Super super,,</td>\n",
       "      <td>5</td>\n",
       "      <td>-1</td>\n",
       "      <td>Unspecified</td>\n",
       "      <td>-1</td>\n",
       "    </tr>\n",
       "    <tr>\n",
       "      <th>209725</th>\n",
       "      <td>209725</td>\n",
       "      <td>209681</td>\n",
       "      <td>Excellent quality</td>\n",
       "      <td>5</td>\n",
       "      <td>-1</td>\n",
       "      <td>Unspecified</td>\n",
       "      <td>-1</td>\n",
       "    </tr>\n",
       "    <tr>\n",
       "      <th>209726</th>\n",
       "      <td>209726</td>\n",
       "      <td>209696</td>\n",
       "      <td>nice nice nice nice nice nice nice nice nice n...</td>\n",
       "      <td>5</td>\n",
       "      <td>-1</td>\n",
       "      <td>Unspecified</td>\n",
       "      <td>-1</td>\n",
       "    </tr>\n",
       "    <tr>\n",
       "      <th>209727</th>\n",
       "      <td>209727</td>\n",
       "      <td>209701</td>\n",
       "      <td>Bismillahirrahmanirrahim 🙏🙏</td>\n",
       "      <td>5</td>\n",
       "      <td>-1</td>\n",
       "      <td>Unspecified</td>\n",
       "      <td>-1</td>\n",
       "    </tr>\n",
       "    <tr>\n",
       "      <th>209728</th>\n",
       "      <td>209728</td>\n",
       "      <td>209717</td>\n",
       "      <td>Nice product</td>\n",
       "      <td>5</td>\n",
       "      <td>-1</td>\n",
       "      <td>Unspecified</td>\n",
       "      <td>-1</td>\n",
       "    </tr>\n",
       "  </tbody>\n",
       "</table>\n",
       "<p>209729 rows × 7 columns</p>\n",
       "</div>"
      ],
      "text/plain": [
       "        Unnamed: 0  review_id  \\\n",
       "0                0          0   \n",
       "1                1          1   \n",
       "2                2          2   \n",
       "3                3          3   \n",
       "4                4          4   \n",
       "...            ...        ...   \n",
       "209724      209724     209673   \n",
       "209725      209725     209681   \n",
       "209726      209726     209696   \n",
       "209727      209727     209701   \n",
       "209728      209728     209717   \n",
       "\n",
       "                                                   review  rating  \\\n",
       "0       Ga disappointed neat products .. Meletot Hilsn...       1   \n",
       "1         Rdtanya replace broken glass, broken chargernya       1   \n",
       "2       Nyesel bngt dsni shopping antecedent photo mes...       1   \n",
       "3           Sent a light blue suit goods ga want a refund       1   \n",
       "4       Pendants came with dents and scratches on its ...       1   \n",
       "...                                                   ...     ...   \n",
       "209724                                      Super super,,       5   \n",
       "209725                                  Excellent quality       5   \n",
       "209726  nice nice nice nice nice nice nice nice nice n...       5   \n",
       "209727                        Bismillahirrahmanirrahim 🙏🙏       5   \n",
       "209728                                       Nice product       5   \n",
       "\n",
       "        cluster_pred         category  catid  \n",
       "0                109            Mixed      6  \n",
       "1                228  Product-Quality      1  \n",
       "2                295            Mixed      6  \n",
       "3                 29     Product-Spec      7  \n",
       "4                 96     Product-Spec      7  \n",
       "...              ...              ...    ...  \n",
       "209724            -1      Unspecified     -1  \n",
       "209725            -1      Unspecified     -1  \n",
       "209726            -1      Unspecified     -1  \n",
       "209727            -1      Unspecified     -1  \n",
       "209728            -1      Unspecified     -1  \n",
       "\n",
       "[209729 rows x 7 columns]"
      ]
     },
     "execution_count": 5,
     "metadata": {},
     "output_type": "execute_result"
    }
   ],
   "source": [
    "df_sample"
   ]
  },
  {
   "cell_type": "code",
   "execution_count": 6,
   "metadata": {},
   "outputs": [
    {
     "name": "stderr",
     "output_type": "stream",
     "text": [
      "[nltk_data] Downloading package wordnet to\n",
      "[nltk_data]     C:\\Users\\Wyatt\\AppData\\Roaming\\nltk_data...\n",
      "[nltk_data]   Package wordnet is already up-to-date!\n"
     ]
    }
   ],
   "source": [
    "nltk.download('wordnet')\n",
    "from nltk.stem import WordNetLemmatizer\n",
    "wordnet_lemmatizer = WordNetLemmatizer()\n",
    "\n",
    "def get_lemmatization (x):\n",
    "    sentence = x\n",
    "    x_string=''\n",
    "    sentence_words = word_tokenize(sentence)\n",
    "    \n",
    "    sentence_words = list(set(sentence_words))\n",
    "    \n",
    "    for word in sentence_words:\n",
    "        x_string+=(wordnet_lemmatizer.lemmatize(word)+\" \")\n",
    "    return x_string.strip()"
   ]
  },
  {
   "cell_type": "code",
   "execution_count": null,
   "metadata": {},
   "outputs": [],
   "source": []
  },
  {
   "cell_type": "code",
   "execution_count": null,
   "metadata": {},
   "outputs": [],
   "source": []
  },
  {
   "cell_type": "code",
   "execution_count": 7,
   "metadata": {},
   "outputs": [],
   "source": [
    "def stemSentence(sentence):\n",
    "    token_words=word_tokenize(sentence)\n",
    "    token_words\n",
    "    stem_sentence=[]\n",
    "    for word in token_words:\n",
    "        stem_sentence.append(porter.stem(word))\n",
    "        stem_sentence.append(\" \")\n",
    "    return \"\".join(stem_sentence)"
   ]
  },
  {
   "cell_type": "code",
   "execution_count": 8,
   "metadata": {},
   "outputs": [],
   "source": [
    "df_sample['review']=df_sample['review'].apply(get_lemmatization)"
   ]
  },
  {
   "cell_type": "code",
   "execution_count": null,
   "metadata": {},
   "outputs": [],
   "source": []
  },
  {
   "cell_type": "code",
   "execution_count": null,
   "metadata": {},
   "outputs": [],
   "source": []
  },
  {
   "cell_type": "code",
   "execution_count": null,
   "metadata": {},
   "outputs": [],
   "source": []
  },
  {
   "cell_type": "code",
   "execution_count": 9,
   "metadata": {},
   "outputs": [
    {
     "data": {
      "text/html": [
       "<div>\n",
       "<style scoped>\n",
       "    .dataframe tbody tr th:only-of-type {\n",
       "        vertical-align: middle;\n",
       "    }\n",
       "\n",
       "    .dataframe tbody tr th {\n",
       "        vertical-align: top;\n",
       "    }\n",
       "\n",
       "    .dataframe thead th {\n",
       "        text-align: right;\n",
       "    }\n",
       "</style>\n",
       "<table border=\"1\" class=\"dataframe\">\n",
       "  <thead>\n",
       "    <tr style=\"text-align: right;\">\n",
       "      <th></th>\n",
       "      <th>Unnamed: 0</th>\n",
       "      <th>review_id</th>\n",
       "      <th>review</th>\n",
       "      <th>rating</th>\n",
       "      <th>cluster_pred</th>\n",
       "      <th>category</th>\n",
       "      <th>catid</th>\n",
       "    </tr>\n",
       "  </thead>\n",
       "  <tbody>\n",
       "    <tr>\n",
       "      <th>0</th>\n",
       "      <td>0</td>\n",
       "      <td>0</td>\n",
       "      <td>neat is Ga delivery .. Hilsnyaa good . product...</td>\n",
       "      <td>1</td>\n",
       "      <td>109</td>\n",
       "      <td>Mixed</td>\n",
       "      <td>6</td>\n",
       "    </tr>\n",
       "    <tr>\n",
       "      <th>1</th>\n",
       "      <td>1</td>\n",
       "      <td>1</td>\n",
       "      <td>replace Rdtanya broken chargernya glass ,</td>\n",
       "      <td>1</td>\n",
       "      <td>228</td>\n",
       "      <td>Product-Quality</td>\n",
       "      <td>1</td>\n",
       "    </tr>\n",
       "    <tr>\n",
       "      <th>2</th>\n",
       "      <td>2</td>\n",
       "      <td>2</td>\n",
       "      <td>face change holo in shopping antecedent bngt g...</td>\n",
       "      <td>1</td>\n",
       "      <td>295</td>\n",
       "      <td>Mixed</td>\n",
       "      <td>6</td>\n",
       "    </tr>\n",
       "    <tr>\n",
       "      <th>3</th>\n",
       "      <td>3</td>\n",
       "      <td>3</td>\n",
       "      <td>want light good blue a suit Sent ga refund</td>\n",
       "      <td>1</td>\n",
       "      <td>29</td>\n",
       "      <td>Product-Spec</td>\n",
       "      <td>7</td>\n",
       "    </tr>\n",
       "    <tr>\n",
       "      <th>4</th>\n",
       "      <td>4</td>\n",
       "      <td>4</td>\n",
       "      <td>scratch change Pendants it on with and surface...</td>\n",
       "      <td>1</td>\n",
       "      <td>96</td>\n",
       "      <td>Product-Spec</td>\n",
       "      <td>7</td>\n",
       "    </tr>\n",
       "    <tr>\n",
       "      <th>...</th>\n",
       "      <td>...</td>\n",
       "      <td>...</td>\n",
       "      <td>...</td>\n",
       "      <td>...</td>\n",
       "      <td>...</td>\n",
       "      <td>...</td>\n",
       "      <td>...</td>\n",
       "    </tr>\n",
       "    <tr>\n",
       "      <th>209724</th>\n",
       "      <td>209724</td>\n",
       "      <td>209673</td>\n",
       "      <td>Super , super</td>\n",
       "      <td>5</td>\n",
       "      <td>-1</td>\n",
       "      <td>Unspecified</td>\n",
       "      <td>-1</td>\n",
       "    </tr>\n",
       "    <tr>\n",
       "      <th>209725</th>\n",
       "      <td>209725</td>\n",
       "      <td>209681</td>\n",
       "      <td>quality Excellent</td>\n",
       "      <td>5</td>\n",
       "      <td>-1</td>\n",
       "      <td>Unspecified</td>\n",
       "      <td>-1</td>\n",
       "    </tr>\n",
       "    <tr>\n",
       "      <th>209726</th>\n",
       "      <td>209726</td>\n",
       "      <td>209696</td>\n",
       "      <td>nice</td>\n",
       "      <td>5</td>\n",
       "      <td>-1</td>\n",
       "      <td>Unspecified</td>\n",
       "      <td>-1</td>\n",
       "    </tr>\n",
       "    <tr>\n",
       "      <th>209727</th>\n",
       "      <td>209727</td>\n",
       "      <td>209701</td>\n",
       "      <td>🙏🙏 Bismillahirrahmanirrahim</td>\n",
       "      <td>5</td>\n",
       "      <td>-1</td>\n",
       "      <td>Unspecified</td>\n",
       "      <td>-1</td>\n",
       "    </tr>\n",
       "    <tr>\n",
       "      <th>209728</th>\n",
       "      <td>209728</td>\n",
       "      <td>209717</td>\n",
       "      <td>product Nice</td>\n",
       "      <td>5</td>\n",
       "      <td>-1</td>\n",
       "      <td>Unspecified</td>\n",
       "      <td>-1</td>\n",
       "    </tr>\n",
       "  </tbody>\n",
       "</table>\n",
       "<p>209729 rows × 7 columns</p>\n",
       "</div>"
      ],
      "text/plain": [
       "        Unnamed: 0  review_id  \\\n",
       "0                0          0   \n",
       "1                1          1   \n",
       "2                2          2   \n",
       "3                3          3   \n",
       "4                4          4   \n",
       "...            ...        ...   \n",
       "209724      209724     209673   \n",
       "209725      209725     209681   \n",
       "209726      209726     209696   \n",
       "209727      209727     209701   \n",
       "209728      209728     209717   \n",
       "\n",
       "                                                   review  rating  \\\n",
       "0       neat is Ga delivery .. Hilsnyaa good . product...       1   \n",
       "1               replace Rdtanya broken chargernya glass ,       1   \n",
       "2       face change holo in shopping antecedent bngt g...       1   \n",
       "3              want light good blue a suit Sent ga refund       1   \n",
       "4       scratch change Pendants it on with and surface...       1   \n",
       "...                                                   ...     ...   \n",
       "209724                                      Super , super       5   \n",
       "209725                                  quality Excellent       5   \n",
       "209726                                               nice       5   \n",
       "209727                        🙏🙏 Bismillahirrahmanirrahim       5   \n",
       "209728                                       product Nice       5   \n",
       "\n",
       "        cluster_pred         category  catid  \n",
       "0                109            Mixed      6  \n",
       "1                228  Product-Quality      1  \n",
       "2                295            Mixed      6  \n",
       "3                 29     Product-Spec      7  \n",
       "4                 96     Product-Spec      7  \n",
       "...              ...              ...    ...  \n",
       "209724            -1      Unspecified     -1  \n",
       "209725            -1      Unspecified     -1  \n",
       "209726            -1      Unspecified     -1  \n",
       "209727            -1      Unspecified     -1  \n",
       "209728            -1      Unspecified     -1  \n",
       "\n",
       "[209729 rows x 7 columns]"
      ]
     },
     "execution_count": 9,
     "metadata": {},
     "output_type": "execute_result"
    }
   ],
   "source": [
    "df_sample"
   ]
  },
  {
   "cell_type": "code",
   "execution_count": 10,
   "metadata": {},
   "outputs": [],
   "source": [
    "Train_X, Test_X, Train_Y, Test_Y = model_selection.train_test_split(df_sample['review'],df_sample['rating'],test_size=0.2,shuffle=True )"
   ]
  },
  {
   "cell_type": "code",
   "execution_count": null,
   "metadata": {},
   "outputs": [],
   "source": []
  },
  {
   "cell_type": "code",
   "execution_count": 13,
   "metadata": {},
   "outputs": [
    {
     "data": {
      "text/plain": [
       "(167783, 57000)"
      ]
     },
     "execution_count": 13,
     "metadata": {},
     "output_type": "execute_result"
    }
   ],
   "source": [
    "from sklearn.feature_extraction.text import TfidfVectorizer\n",
    "\n",
    "vectorizer = TfidfVectorizer()\n",
    "vectors = vectorizer.fit_transform(Train_X.tolist())\n",
    "vectors.shape"
   ]
  },
  {
   "cell_type": "code",
   "execution_count": 14,
   "metadata": {},
   "outputs": [],
   "source": [
    "from sklearn.naive_bayes import MultinomialNB\n",
    "from sklearn import metrics\n",
    "pd.options.mode.chained_assignment = None    \n",
    "vectors_test = vectorizer.transform(Test_X)"
   ]
  },
  {
   "cell_type": "code",
   "execution_count": 15,
   "metadata": {},
   "outputs": [],
   "source": [
    "df_mnb=pd.DataFrame(columns=['MNB alpha value','Precision','Recall','F1 Score'])\n",
    "df_mnb['MNB alpha value']=[0.001,0.01,0.1,1,10]\n"
   ]
  },
  {
   "cell_type": "code",
   "execution_count": 14,
   "metadata": {},
   "outputs": [
    {
     "name": "stderr",
     "output_type": "stream",
     "text": [
      "C:\\Anaconda3\\lib\\site-packages\\sklearn\\metrics\\_classification.py:1221: UndefinedMetricWarning: Precision is ill-defined and being set to 0.0 in labels with no predicted samples. Use `zero_division` parameter to control this behavior.\n",
      "  _warn_prf(average, modifier, msg_start, len(result))\n"
     ]
    },
    {
     "data": {
      "text/html": [
       "<div>\n",
       "<style scoped>\n",
       "    .dataframe tbody tr th:only-of-type {\n",
       "        vertical-align: middle;\n",
       "    }\n",
       "\n",
       "    .dataframe tbody tr th {\n",
       "        vertical-align: top;\n",
       "    }\n",
       "\n",
       "    .dataframe thead th {\n",
       "        text-align: right;\n",
       "    }\n",
       "</style>\n",
       "<table border=\"1\" class=\"dataframe\">\n",
       "  <thead>\n",
       "    <tr style=\"text-align: right;\">\n",
       "      <th></th>\n",
       "      <th>0</th>\n",
       "      <th>1</th>\n",
       "      <th>2</th>\n",
       "      <th>3</th>\n",
       "      <th>4</th>\n",
       "    </tr>\n",
       "  </thead>\n",
       "  <tbody>\n",
       "    <tr>\n",
       "      <th>MNB alpha value</th>\n",
       "      <td>0.001</td>\n",
       "      <td>0.01</td>\n",
       "      <td>0.1</td>\n",
       "      <td>1</td>\n",
       "      <td>10</td>\n",
       "    </tr>\n",
       "    <tr>\n",
       "      <th>Precision</th>\n",
       "      <td>0.499668</td>\n",
       "      <td>0.500013</td>\n",
       "      <td>0.502821</td>\n",
       "      <td>0.514896</td>\n",
       "      <td>0.425766</td>\n",
       "    </tr>\n",
       "    <tr>\n",
       "      <th>Recall</th>\n",
       "      <td>0.499928</td>\n",
       "      <td>0.500501</td>\n",
       "      <td>0.500644</td>\n",
       "      <td>0.471249</td>\n",
       "      <td>0.417394</td>\n",
       "    </tr>\n",
       "    <tr>\n",
       "      <th>F1 Score</th>\n",
       "      <td>0.493531</td>\n",
       "      <td>0.493882</td>\n",
       "      <td>0.49217</td>\n",
       "      <td>0.450238</td>\n",
       "      <td>0.375328</td>\n",
       "    </tr>\n",
       "  </tbody>\n",
       "</table>\n",
       "</div>"
      ],
      "text/plain": [
       "                        0         1         2         3         4\n",
       "MNB alpha value     0.001      0.01       0.1         1        10\n",
       "Precision        0.499668  0.500013  0.502821  0.514896  0.425766\n",
       "Recall           0.499928  0.500501  0.500644  0.471249  0.417394\n",
       "F1 Score         0.493531  0.493882   0.49217  0.450238  0.375328"
      ]
     },
     "execution_count": 14,
     "metadata": {},
     "output_type": "execute_result"
    }
   ],
   "source": [
    "for i in df_mnb.index:\n",
    "    mnb = MultinomialNB(alpha=df_mnb['MNB alpha value'][i])\n",
    "    mnb.fit(vectors, Train_Y)\n",
    "    pred = mnb.predict(vectors_test)\n",
    "    df_mnb['Precision'][i]= metrics.precision_score(Test_Y, pred, average='weighted')\n",
    "    df_mnb['Recall'][i]= metrics.recall_score(Test_Y, pred, average='weighted')\n",
    "    df_mnb['F1 Score'][i]= metrics.f1_score(Test_Y, pred, average='weighted')\n",
    "        \n",
    "\n",
    "    \n",
    "df_mnb.T  "
   ]
  },
  {
   "cell_type": "code",
   "execution_count": 15,
   "metadata": {},
   "outputs": [],
   "source": [
    "mnb = MultinomialNB(alpha=0.1)\n",
    "mnb.fit(vectors, Train_Y)\n",
    "pred = mnb.predict(vectors_test)"
   ]
  },
  {
   "cell_type": "code",
   "execution_count": 16,
   "metadata": {},
   "outputs": [],
   "source": [
    "from sklearn.metrics import plot_confusion_matrix"
   ]
  },
  {
   "cell_type": "code",
   "execution_count": 17,
   "metadata": {},
   "outputs": [
    {
     "data": {
      "text/plain": [
       "<sklearn.metrics._plot.confusion_matrix.ConfusionMatrixDisplay at 0x27f990092e0>"
      ]
     },
     "execution_count": 17,
     "metadata": {},
     "output_type": "execute_result"
    },
    {
     "data": {
      "image/png": "[encoded data removed]",
      "text/plain": [
       "<Figure size 576x576 with 2 Axes>"
      ]
     },
     "metadata": {
      "needs_background": "light"
     },
     "output_type": "display_data"
    }
   ],
   "source": [
    "titles_options = [(\"Confusion matrix, without normalization\", None),\n",
    "                  (\"Normalized confusion matrix\", 'true')]\n",
    "\n",
    "np.set_printoptions(precision=1)\n",
    "fig, ax = plt.subplots(figsize=(8, 8))\n",
    "plot_confusion_matrix(mnb, vectors_test,Test_Y ,\n",
    "                                 display_labels=[1,2,3,4,5,6,7,8], normalize='true', cmap=plt.cm.Blues, ax=ax)"
   ]
  },
  {
   "cell_type": "code",
   "execution_count": 18,
   "metadata": {},
   "outputs": [],
   "source": [
    "df_lr=pd.DataFrame(columns=['LR C value','Precision','Recall','F1 Score'])\n",
    "df_lr['LR C value']=[0.001,0.01,0.1,1,10,100]\n",
    "from sklearn.linear_model import LogisticRegression"
   ]
  },
  {
   "cell_type": "code",
   "execution_count": 19,
   "metadata": {},
   "outputs": [
    {
     "name": "stderr",
     "output_type": "stream",
     "text": [
      "C:\\Anaconda3\\lib\\site-packages\\sklearn\\metrics\\_classification.py:1221: UndefinedMetricWarning: Precision is ill-defined and being set to 0.0 in labels with no predicted samples. Use `zero_division` parameter to control this behavior.\n",
      "  _warn_prf(average, modifier, msg_start, len(result))\n",
      "C:\\Anaconda3\\lib\\site-packages\\sklearn\\metrics\\_classification.py:1221: UndefinedMetricWarning: Precision is ill-defined and being set to 0.0 in labels with no predicted samples. Use `zero_division` parameter to control this behavior.\n",
      "  _warn_prf(average, modifier, msg_start, len(result))\n",
      "C:\\Anaconda3\\lib\\site-packages\\sklearn\\metrics\\_classification.py:1221: UndefinedMetricWarning: Precision is ill-defined and being set to 0.0 in labels with no predicted samples. Use `zero_division` parameter to control this behavior.\n",
      "  _warn_prf(average, modifier, msg_start, len(result))\n"
     ]
    },
    {
     "data": {
      "text/html": [
       "<div>\n",
       "<style scoped>\n",
       "    .dataframe tbody tr th:only-of-type {\n",
       "        vertical-align: middle;\n",
       "    }\n",
       "\n",
       "    .dataframe tbody tr th {\n",
       "        vertical-align: top;\n",
       "    }\n",
       "\n",
       "    .dataframe thead th {\n",
       "        text-align: right;\n",
       "    }\n",
       "</style>\n",
       "<table border=\"1\" class=\"dataframe\">\n",
       "  <thead>\n",
       "    <tr style=\"text-align: right;\">\n",
       "      <th></th>\n",
       "      <th>0</th>\n",
       "      <th>1</th>\n",
       "      <th>2</th>\n",
       "      <th>3</th>\n",
       "      <th>4</th>\n",
       "      <th>5</th>\n",
       "    </tr>\n",
       "  </thead>\n",
       "  <tbody>\n",
       "    <tr>\n",
       "      <th>LR C value</th>\n",
       "      <td>0.001</td>\n",
       "      <td>0.01</td>\n",
       "      <td>0.1</td>\n",
       "      <td>1</td>\n",
       "      <td>10</td>\n",
       "      <td>100</td>\n",
       "    </tr>\n",
       "    <tr>\n",
       "      <th>Precision</th>\n",
       "      <td>0.0569823</td>\n",
       "      <td>0.195094</td>\n",
       "      <td>0.549695</td>\n",
       "      <td>0.599995</td>\n",
       "      <td>0.588575</td>\n",
       "      <td>0.565965</td>\n",
       "    </tr>\n",
       "    <tr>\n",
       "      <th>Recall</th>\n",
       "      <td>0.23871</td>\n",
       "      <td>0.249462</td>\n",
       "      <td>0.519355</td>\n",
       "      <td>0.586022</td>\n",
       "      <td>0.583871</td>\n",
       "      <td>0.562366</td>\n",
       "    </tr>\n",
       "    <tr>\n",
       "      <th>F1 Score</th>\n",
       "      <td>0.0920027</td>\n",
       "      <td>0.112996</td>\n",
       "      <td>0.495768</td>\n",
       "      <td>0.584206</td>\n",
       "      <td>0.583914</td>\n",
       "      <td>0.561779</td>\n",
       "    </tr>\n",
       "  </tbody>\n",
       "</table>\n",
       "</div>"
      ],
      "text/plain": [
       "                    0         1         2         3         4         5\n",
       "LR C value      0.001      0.01       0.1         1        10       100\n",
       "Precision   0.0569823  0.195094  0.549695  0.599995  0.588575  0.565965\n",
       "Recall        0.23871  0.249462  0.519355  0.586022  0.583871  0.562366\n",
       "F1 Score    0.0920027  0.112996  0.495768  0.584206  0.583914  0.561779"
      ]
     },
     "execution_count": 19,
     "metadata": {},
     "output_type": "execute_result"
    }
   ],
   "source": [
    "\n",
    "\n",
    "for i in df_lr.index:\n",
    "    clf =LogisticRegression(random_state=2020,multi_class = 'multinomial' , solver = 'newton-cg', C=df_lr['LR C value'][i]).fit(vectors, Train_Y)\n",
    "\n",
    "    pred = clf.predict(vectors_test)\n",
    "    df_lr['Precision'][i]= metrics.precision_score(Test_Y, pred, average='weighted')\n",
    "    df_lr['Recall'][i]= metrics.recall_score(Test_Y, pred, average='weighted')\n",
    "    df_lr['F1 Score'][i]= metrics.f1_score(Test_Y, pred, average='weighted')\n",
    "    \n",
    "df_lr.T "
   ]
  },
  {
   "cell_type": "code",
   "execution_count": null,
   "metadata": {},
   "outputs": [],
   "source": []
  },
  {
   "cell_type": "code",
   "execution_count": 19,
   "metadata": {},
   "outputs": [],
   "source": [
    "clf_lr =LogisticRegression(random_state=2020,multi_class = 'multinomial' , solver = 'newton-cg', C=1).fit(vectors, Train_Y)\n",
    "\n",
    "pred = clf_lr.predict(vectors_test)"
   ]
  },
  {
   "cell_type": "code",
   "execution_count": null,
   "metadata": {},
   "outputs": [],
   "source": []
  },
  {
   "cell_type": "code",
   "execution_count": 20,
   "metadata": {},
   "outputs": [
    {
     "data": {
      "text/plain": [
       "<sklearn.metrics._plot.confusion_matrix.ConfusionMatrixDisplay at 0x27f9ba80d00>"
      ]
     },
     "execution_count": 20,
     "metadata": {},
     "output_type": "execute_result"
    },
    {
     "data": {
      "image/png": "[encoded data removed]",
      "text/plain": [
       "<Figure size 576x576 with 2 Axes>"
      ]
     },
     "metadata": {
      "needs_background": "light"
     },
     "output_type": "display_data"
    }
   ],
   "source": [
    "titles_options = [(\"Confusion matrix, without normalization\", None),\n",
    "                  (\"Normalized confusion matrix\", 'true')]\n",
    "\n",
    "\n",
    "\n",
    "fig, ax = plt.subplots(figsize=(8, 8))\n",
    "plot_confusion_matrix(clf_lr, vectors_test,Test_Y ,\n",
    "                                 display_labels=[1,2,3,4,5,6,7,8], normalize='true', cmap=plt.cm.Blues, ax=ax)\n"
   ]
  },
  {
   "cell_type": "code",
   "execution_count": 22,
   "metadata": {},
   "outputs": [],
   "source": [
    "df_svm=pd.DataFrame(columns=['svm C value','Precision','Recall','F1 Score'])\n",
    "df_svm['svm C value']=[0.001,0.01,0.1,1,10,100]"
   ]
  },
  {
   "cell_type": "code",
   "execution_count": null,
   "metadata": {},
   "outputs": [],
   "source": []
  },
  {
   "cell_type": "code",
   "execution_count": 23,
   "metadata": {},
   "outputs": [
    {
     "name": "stderr",
     "output_type": "stream",
     "text": [
      "C:\\Anaconda3\\lib\\site-packages\\sklearn\\metrics\\_classification.py:1221: UndefinedMetricWarning: Precision is ill-defined and being set to 0.0 in labels with no predicted samples. Use `zero_division` parameter to control this behavior.\n",
      "  _warn_prf(average, modifier, msg_start, len(result))\n"
     ]
    },
    {
     "data": {
      "text/html": [
       "<div>\n",
       "<style scoped>\n",
       "    .dataframe tbody tr th:only-of-type {\n",
       "        vertical-align: middle;\n",
       "    }\n",
       "\n",
       "    .dataframe tbody tr th {\n",
       "        vertical-align: top;\n",
       "    }\n",
       "\n",
       "    .dataframe thead th {\n",
       "        text-align: right;\n",
       "    }\n",
       "</style>\n",
       "<table border=\"1\" class=\"dataframe\">\n",
       "  <thead>\n",
       "    <tr style=\"text-align: right;\">\n",
       "      <th></th>\n",
       "      <th>0</th>\n",
       "      <th>1</th>\n",
       "      <th>2</th>\n",
       "      <th>3</th>\n",
       "      <th>4</th>\n",
       "      <th>5</th>\n",
       "    </tr>\n",
       "  </thead>\n",
       "  <tbody>\n",
       "    <tr>\n",
       "      <th>svm C value</th>\n",
       "      <td>0.001</td>\n",
       "      <td>0.01</td>\n",
       "      <td>0.1</td>\n",
       "      <td>1</td>\n",
       "      <td>10</td>\n",
       "      <td>100</td>\n",
       "    </tr>\n",
       "    <tr>\n",
       "      <th>Precision</th>\n",
       "      <td>0.0569823</td>\n",
       "      <td>0.0569823</td>\n",
       "      <td>0.609894</td>\n",
       "      <td>0.603588</td>\n",
       "      <td>0.589142</td>\n",
       "      <td>0.592747</td>\n",
       "    </tr>\n",
       "    <tr>\n",
       "      <th>Recall</th>\n",
       "      <td>0.23871</td>\n",
       "      <td>0.23871</td>\n",
       "      <td>0.443011</td>\n",
       "      <td>0.598925</td>\n",
       "      <td>0.584946</td>\n",
       "      <td>0.587097</td>\n",
       "    </tr>\n",
       "    <tr>\n",
       "      <th>F1 Score</th>\n",
       "      <td>0.0920027</td>\n",
       "      <td>0.0920027</td>\n",
       "      <td>0.417203</td>\n",
       "      <td>0.599596</td>\n",
       "      <td>0.585684</td>\n",
       "      <td>0.587093</td>\n",
       "    </tr>\n",
       "  </tbody>\n",
       "</table>\n",
       "</div>"
      ],
      "text/plain": [
       "                     0          1         2         3         4         5\n",
       "svm C value      0.001       0.01       0.1         1        10       100\n",
       "Precision    0.0569823  0.0569823  0.609894  0.603588  0.589142  0.592747\n",
       "Recall         0.23871    0.23871  0.443011  0.598925  0.584946  0.587097\n",
       "F1 Score     0.0920027  0.0920027  0.417203  0.599596  0.585684  0.587093"
      ]
     },
     "execution_count": 23,
     "metadata": {},
     "output_type": "execute_result"
    }
   ],
   "source": [
    "for i in df_svm.index:\n",
    "    SVM =svm.SVC(C=df_svm['svm C value'][i], kernel='linear', degree=3, gamma='auto') \n",
    "    SVM.fit(vectors,Train_Y)\n",
    "    pred = SVM.predict(vectors_test)\n",
    "    \n",
    "    df_svm['Precision'][i]= metrics.precision_score(Test_Y, pred, average='weighted')\n",
    "    df_svm['Recall'][i]= metrics.recall_score(Test_Y, pred, average='weighted')\n",
    "    df_svm['F1 Score'][i]= metrics.f1_score(Test_Y, pred, average='weighted')\n",
    "    \n",
    "df_svm.T "
   ]
  },
  {
   "cell_type": "code",
   "execution_count": 24,
   "metadata": {},
   "outputs": [],
   "source": [
    "SVM =svm.SVC(C=1, kernel='linear', degree=3, gamma='auto') \n",
    "SVM.fit(vectors,Train_Y)\n",
    "pred = SVM.predict(vectors_test)"
   ]
  },
  {
   "cell_type": "code",
   "execution_count": 25,
   "metadata": {},
   "outputs": [
    {
     "data": {
      "text/plain": [
       "<sklearn.metrics._plot.confusion_matrix.ConfusionMatrixDisplay at 0x18104251220>"
      ]
     },
     "execution_count": 25,
     "metadata": {},
     "output_type": "execute_result"
    },
    {
     "data": {
      "image/png": "[encoded data removed]",
      "text/plain": [
       "<Figure size 576x576 with 2 Axes>"
      ]
     },
     "metadata": {
      "needs_background": "light"
     },
     "output_type": "display_data"
    }
   ],
   "source": [
    "titles_options = [(\"Confusion matrix, without normalization\", None),\n",
    "                  (\"Normalized confusion matrix\", 'true')]\n",
    "\n",
    "\n",
    "fig, ax = plt.subplots(figsize=(8, 8))\n",
    "plot_confusion_matrix(SVM, vectors_test,Test_Y ,\n",
    "                                 display_labels=[1,2,3,4,5,6,7,8], normalize='true', cmap=plt.cm.Blues, ax=ax)"
   ]
  },
  {
   "cell_type": "code",
   "execution_count": 21,
   "metadata": {},
   "outputs": [
    {
     "data": {
      "text/plain": [
       "0.47872460023951807"
      ]
     },
     "execution_count": 21,
     "metadata": {},
     "output_type": "execute_result"
    }
   ],
   "source": [
    "from sklearn.linear_model import SGDClassifier\n",
    "\n",
    "clf_sgd = SGDClassifier(loss=\"hinge\", penalty=\"l2\", max_iter=10)\n",
    "clf_sgd.fit(vectors,Train_Y)\n",
    "pred = clf_sgd.predict(vectors_test)\n",
    "metrics.f1_score(Test_Y, pred, average='weighted')"
   ]
  },
  {
   "cell_type": "code",
   "execution_count": 22,
   "metadata": {},
   "outputs": [
    {
     "data": {
      "text/plain": [
       "<sklearn.metrics._plot.confusion_matrix.ConfusionMatrixDisplay at 0x27f931edd00>"
      ]
     },
     "execution_count": 22,
     "metadata": {},
     "output_type": "execute_result"
    },
    {
     "data": {
      "image/png": "[encoded data removed]",
      "text/plain": [
       "<Figure size 576x576 with 2 Axes>"
      ]
     },
     "metadata": {
      "needs_background": "light"
     },
     "output_type": "display_data"
    }
   ],
   "source": [
    "titles_options = [(\"Confusion matrix, without normalization\", None),\n",
    "                  (\"Normalized confusion matrix\", 'true')]\n",
    "\n",
    "\n",
    "\n",
    "fig, ax = plt.subplots(figsize=(8, 8))\n",
    "plot_confusion_matrix(clf_sgd, vectors_test,Test_Y ,\n",
    "                                 display_labels=[1,2,3,4,5,6,7,8], normalize='true', cmap=plt.cm.Blues, ax=ax)"
   ]
  },
  {
   "cell_type": "code",
   "execution_count": 25,
   "metadata": {},
   "outputs": [
    {
     "data": {
      "text/plain": [
       "0.6152853023189366"
      ]
     },
     "execution_count": 25,
     "metadata": {},
     "output_type": "execute_result"
    }
   ],
   "source": [
    "from sklearn.ensemble import RandomForestClassifier\n",
    "clf_rf = RandomForestClassifier( random_state=2020)\n",
    "clf_rf.fit(vectors,Train_Y)\n",
    "pred = clf_rf.predict(vectors_test)\n",
    "metrics.f1_score(Test_Y, pred, average='weighted')\n"
   ]
  },
  {
   "cell_type": "code",
   "execution_count": 26,
   "metadata": {},
   "outputs": [
    {
     "data": {
      "text/plain": [
       "<sklearn.metrics._plot.confusion_matrix.ConfusionMatrixDisplay at 0x27fa4c1a790>"
      ]
     },
     "execution_count": 26,
     "metadata": {},
     "output_type": "execute_result"
    },
    {
     "data": {
      "image/png": "[encoded data removed]",
      "text/plain": [
       "<Figure size 576x576 with 2 Axes>"
      ]
     },
     "metadata": {
      "needs_background": "light"
     },
     "output_type": "display_data"
    }
   ],
   "source": [
    "titles_options = [(\"Confusion matrix, without normalization\", None),\n",
    "                  (\"Normalized confusion matrix\", 'true')]\n",
    "\n",
    "\n",
    "\n",
    "fig, ax = plt.subplots(figsize=(8, 8))\n",
    "plot_confusion_matrix(clf_rf, vectors_test,Test_Y ,\n",
    "                                 display_labels=[1,2,3,4,5,6,7,8], normalize='true', cmap=plt.cm.Blues, ax=ax)"
   ]
  },
  {
   "cell_type": "code",
   "execution_count": 27,
   "metadata": {},
   "outputs": [
    {
     "data": {
      "text/plain": [
       "0.38054312906031396"
      ]
     },
     "execution_count": 27,
     "metadata": {},
     "output_type": "execute_result"
    }
   ],
   "source": [
    "from sklearn.neighbors import KNeighborsClassifier\n",
    "neigh = KNeighborsClassifier(n_neighbors=15)\n",
    "neigh.fit(vectors,Train_Y)\n",
    "pred = neigh.predict(vectors_test)\n",
    "metrics.f1_score(Test_Y, pred, average='weighted')"
   ]
  },
  {
   "cell_type": "code",
   "execution_count": 28,
   "metadata": {},
   "outputs": [
    {
     "data": {
      "text/plain": [
       "0.44788304522397593"
      ]
     },
     "execution_count": 28,
     "metadata": {},
     "output_type": "execute_result"
    }
   ],
   "source": [
    "from sklearn.ensemble import AdaBoostClassifier\n",
    "clf_adb= AdaBoostClassifier(n_estimators=300, random_state=2020,)\n",
    "clf_adb.fit(vectors,Train_Y)\n",
    "pred = clf_adb.predict(vectors_test)\n",
    "metrics.f1_score(Test_Y, pred, average='weighted')"
   ]
  },
  {
   "cell_type": "code",
   "execution_count": 29,
   "metadata": {},
   "outputs": [
    {
     "data": {
      "text/plain": [
       "0.4708335698021817"
      ]
     },
     "execution_count": 29,
     "metadata": {},
     "output_type": "execute_result"
    }
   ],
   "source": [
    "from sklearn.ensemble import GradientBoostingClassifier\n",
    "clf_gdb = GradientBoostingClassifier(n_estimators=300, random_state=2020)\n",
    "clf_gdb.fit(vectors,Train_Y)\n",
    "pred = clf_gdb.predict(vectors_test)\n",
    "metrics.f1_score(Test_Y, pred, average='weighted')"
   ]
  },
  {
   "cell_type": "code",
   "execution_count": 30,
   "metadata": {},
   "outputs": [
    {
     "data": {
      "text/plain": [
       "<sklearn.metrics._plot.confusion_matrix.ConfusionMatrixDisplay at 0x27fa53918e0>"
      ]
     },
     "execution_count": 30,
     "metadata": {},
     "output_type": "execute_result"
    },
    {
     "data": {
      "image/png": "[encoded data removed]",
      "text/plain": [
       "<Figure size 576x576 with 2 Axes>"
      ]
     },
     "metadata": {
      "needs_background": "light"
     },
     "output_type": "display_data"
    }
   ],
   "source": [
    "titles_options = [(\"Confusion matrix, without normalization\", None),\n",
    "                  (\"Normalized confusion matrix\", 'true')]\n",
    "\n",
    "\n",
    "\n",
    "fig, ax = plt.subplots(figsize=(8, 8))\n",
    "plot_confusion_matrix(clf_gdb, vectors_test,Test_Y ,\n",
    "                                 display_labels=[1,2,3,4,5,6,7,8], normalize='true', cmap=plt.cm.Blues, ax=ax)"
   ]
  },
  {
   "cell_type": "code",
   "execution_count": null,
   "metadata": {},
   "outputs": [],
   "source": [
    "from sklearn.ensemble import ExtraTreesClassifier\n",
    "clf_extree = ExtraTreesClassifier(n_estimators=300, random_state=2020)#,max_depth=100)\n",
    "clf_extree.fit(vectors,Train_Y)\n",
    "pred = clf_extree.predict(vectors_test)\n",
    "metrics.f1_score(Test_Y, pred, average='weighted')"
   ]
  },
  {
   "cell_type": "code",
   "execution_count": null,
   "metadata": {},
   "outputs": [],
   "source": [
    "titles_options = [(\"Confusion matrix, without normalization\", None),\n",
    "                  (\"Normalized confusion matrix\", 'true')]\n",
    "\n",
    "\n",
    "\n",
    "fig, ax = plt.subplots(figsize=(8, 8))\n",
    "plot_confusion_matrix(clf_extree, vectors_test,Test_Y ,\n",
    "                                 display_labels=[1,2,3,4,5,6,7,8], normalize='true', cmap=plt.cm.Blues, ax=ax)"
   ]
  },
  {
   "cell_type": "code",
   "execution_count": null,
   "metadata": {},
   "outputs": [],
   "source": [
    "from sklearn.ensemble import ExtraTreesClassifier\n",
    "clf_extree2 = ExtraTreesClassifier(n_estimators=400, random_state=42, min_samples_split=25)#,max_depth=100)\n",
    "clf_extree2.fit(vectors,Train_Y)\n",
    "pred = clf_extree2.predict(vectors_test)\n",
    "metrics.f1_score(Test_Y, pred, average='weighted')"
   ]
  },
  {
   "cell_type": "code",
   "execution_count": null,
   "metadata": {},
   "outputs": [],
   "source": [
    "from sklearn.discriminant_analysis import QuadraticDiscriminantAnalysis\n",
    "clf_qda = QuadraticDiscriminantAnalysis( )#,max_depth=100)\n",
    "clf_qda.fit(vectors.toarray(),Train_Y)\n",
    "pred = clf_qda.predict(vectors_test.toarray())\n",
    "metrics.f1_score(Test_Y, pred, average='weighted')"
   ]
  },
  {
   "cell_type": "code",
   "execution_count": null,
   "metadata": {},
   "outputs": [],
   "source": [
    "from sklearn.ensemble import  VotingClassifier\n",
    "#, ('gdb', clf_gdb)\n",
    "eclf1 = VotingClassifier(estimators=[ ('rf', clf_rf), ('clf_extree', clf_extree),('clf_extree2', clf_extree2)], voting='hard')\n",
    "eclf1 = eclf1.fit(vectors,Train_Y)\n",
    "pred = eclf1.predict(vectors_test)\n",
    "metrics.f1_score(Test_Y, pred, average='weighted')\n",
    "\n"
   ]
  },
  {
   "cell_type": "code",
   "execution_count": null,
   "metadata": {},
   "outputs": [],
   "source": [
    "titles_options = [(\"Confusion matrix, without normalization\", None),\n",
    "                  (\"Normalized confusion matrix\", 'true')]\n",
    "\n",
    "\n",
    "\n",
    "fig, ax = plt.subplots(figsize=(8, 8))\n",
    "plot_confusion_matrix(eclf1, vectors_test,Test_Y ,\n",
    "                                 display_labels=[1,2,3,4,5,6,7,8], normalize='true', cmap=plt.cm.Blues, ax=ax)"
   ]
  },
  {
   "cell_type": "code",
   "execution_count": null,
   "metadata": {},
   "outputs": [],
   "source": [
    "from sklearn.experimental import enable_hist_gradient_boosting  # noqa\n",
    "from sklearn.ensemble import HistGradientBoostingClassifier\n",
    "#clf = HistGradientBoostingClassifier().fit(vectors,Train_Y)\n",
    "#pred = clf.predict(vectors_test\n",
    "metrics.f1_score(Test_Y, pred, average='weighted')"
   ]
  },
  {
   "cell_type": "code",
   "execution_count": null,
   "metadata": {},
   "outputs": [],
   "source": [
    "from sklearn.preprocessing import StandardScaler\n",
    "from sklearn.pipeline import make_pipeline\n",
    "\n",
    "from sklearn.svm import LinearSVC\n",
    "from sklearn.ensemble import StackingClassifier\n",
    "estimators = [ ('rf', clf_rf), ('clf_extree', clf_extree), ('eclf1',eclf1)]\n",
    "clf = StackingClassifier(estimators=estimators, final_estimator=LogisticRegression() )\n",
    "\n",
    "clf.fit(vectors,Train_Y)\n",
    "pred = clf.predict(vectors_test)\n",
    "metrics.f1_score(Test_Y, pred, average='weighted')"
   ]
  },
  {
   "cell_type": "code",
   "execution_count": null,
   "metadata": {},
   "outputs": [],
   "source": [
    "titles_options = [(\"Confusion matrix, without normalization\", None),\n",
    "                  (\"Normalized confusion matrix\", 'true')]\n",
    "\n",
    "\n",
    "\n",
    "fig, ax = plt.subplots(figsize=(8, 8))\n",
    "plot_confusion_matrix(clf, vectors_test,Test_Y ,\n",
    "                                 display_labels=[1,2,3,4,5,6,7,8], normalize='true', cmap=plt.cm.Blues, ax=ax)"
   ]
  },
  {
   "cell_type": "code",
   "execution_count": null,
   "metadata": {},
   "outputs": [],
   "source": [
    "\n"
   ]
  }
 ],
 "metadata": {
  "kernelspec": {
   "display_name": "Python 3",
   "language": "python",
   "name": "python3"
  },
  "language_info": {
   "codemirror_mode": {
    "name": "ipython",
    "version": 3
   },
   "file_extension": ".py",
   "mimetype": "text/x-python",
   "name": "python",
   "nbconvert_exporter": "python",
   "pygments_lexer": "ipython3",
   "version": "3.8.3"
  }
 },
 "nbformat": 4,
 "nbformat_minor": 2
}
