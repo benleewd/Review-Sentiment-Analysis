{
 "cells": [
  {
   "cell_type": "code",
   "execution_count": 1,
   "metadata": {},
   "outputs": [],
   "source": [
    "import os\n",
    "import glob\n",
    "import pickle\n",
    "import time\n",
    "import pyperclip\n",
    "import fnmatch\n",
    "import datetime\n",
    "from datetime import date, timedelta\n",
    "import pandas as pd\n",
    "import numpy as np\n",
    "from string import punctuation, ascii_lowercase\n",
    "import regex as re\n",
    "import seaborn as sns\n",
    "import matplotlib.pyplot as plt\n",
    "%matplotlib inline\n",
    "from time import sleep"
   ]
  },
  {
   "cell_type": "code",
   "execution_count": 2,
   "metadata": {},
   "outputs": [],
   "source": [
    "from tqdm._tqdm_notebook import tqdm_notebook\n",
    "tqdm_notebook.pandas()"
   ]
  },
  {
   "cell_type": "code",
   "execution_count": 3,
   "metadata": {},
   "outputs": [],
   "source": [
    "#clear download\n",
    "def clear_dir(mydir,filetype):\n",
    "    filelist = glob.glob(os.path.join(mydir, filetype))\n",
    "    print(\"clearing : ...\")\n",
    "    for f in filelist:\n",
    "        print(f)\n",
    "        os.remove(f)\n",
    "        \n",
    "    print(\"Okay. Dir Cleared\")"
   ]
  },
  {
   "cell_type": "code",
   "execution_count": 4,
   "metadata": {},
   "outputs": [],
   "source": [
    "#check folder\n",
    "Input_dir_relative=\"./input/\"\n",
    "Output_dir_relative=\"./Output/\"\n",
    "Download_dir_relative=\"./Download/\"\n",
    "Input_dir=os.path.abspath(Input_dir_relative)\n",
    "Output_dir=os.path.abspath(Output_dir_relative)\n",
    "Download_dir=os.path.abspath(Download_dir_relative)\n",
    "\n",
    "\n",
    "if not os.path.exists(Input_dir):\n",
    "    os.makedirs(Input_dir)\n",
    "    \n",
    "    \n",
    "if not os.path.exists(Output_dir):\n",
    "    os.makedirs(Output_dir)    "
   ]
  },
  {
   "cell_type": "code",
   "execution_count": 5,
   "metadata": {},
   "outputs": [],
   "source": [
    "def save_deal_csv(df_input,file_address):\n",
    "    df_unique=df_input.copy(deep=True)\n",
    "    try:\n",
    "        print(\"Saving...\")\n",
    "       # print(df_unique.describe)\n",
    "        df_unique.to_csv(file_address, index=False,encoding='utf-8-sig')\n",
    "        print(\"Done.\")\n",
    "        print('Saved as '+file_address)    \n",
    "    except (RuntimeError, TypeError, NameError ,PermissionError) as e:\n",
    "        print(e)"
   ]
  },
  {
   "cell_type": "code",
   "execution_count": 6,
   "metadata": {},
   "outputs": [
    {
     "data": {
      "text/plain": [
       "'./input/'"
      ]
     },
     "execution_count": 6,
     "metadata": {},
     "output_type": "execute_result"
    }
   ],
   "source": [
    "Input_dir_relative"
   ]
  },
  {
   "cell_type": "code",
   "execution_count": 7,
   "metadata": {},
   "outputs": [],
   "source": [
    "def load_downloaded_files(path_input):\n",
    "    path = path_input\n",
    "    # combine files \n",
    "    print(path)\n",
    "    all_files = glob.glob(path + \"*.csv\")\n",
    "    file_counter=0\n",
    "    li = []\n",
    "\n",
    "    for filename in all_files:\n",
    "        file_counter+=1\n",
    "        print(filename+\" added \")\n",
    "        df = pd.read_csv(filename, index_col=None, header=0, delimiter = ',',encoding='utf-8-sig')\n",
    "        print(\"with \"+ str(len(df))+\" rows \\n\")\n",
    "        li.append(df)\n",
    "\n",
    "\n",
    "    df = pd.concat(li, axis=0, ignore_index=True,sort=False)\n",
    "    print(\"All files has been loaded -  total : \"+str(file_counter)+\" files   Done!\")\n",
    "    print(\"with \"+ str(len(df))+\" rows \\n\")\n",
    "    return df\n",
    "\n"
   ]
  },
  {
   "cell_type": "code",
   "execution_count": 8,
   "metadata": {},
   "outputs": [
    {
     "name": "stdout",
     "output_type": "stream",
     "text": [
      "./input/\n",
      "./input\\shopee_reviews.csv added \n"
     ]
    },
    {
     "name": "stderr",
     "output_type": "stream",
     "text": [
      "C:\\Anaconda3\\lib\\site-packages\\IPython\\core\\interactiveshell.py:2901: DtypeWarning: Columns (0) have mixed types. Specify dtype option on import or set low_memory=False.\n",
      "  if self.run_code(code, result):\n"
     ]
    },
    {
     "name": "stdout",
     "output_type": "stream",
     "text": [
      "with 1502575 rows \n",
      "\n",
      "All files has been loaded -  total : 1 files   Done!\n",
      "with 1502575 rows \n",
      "\n"
     ]
    }
   ],
   "source": [
    "df_input_review=load_downloaded_files(Input_dir_relative)"
   ]
  },
  {
   "cell_type": "code",
   "execution_count": 9,
   "metadata": {},
   "outputs": [
    {
     "data": {
      "text/html": [
       "<div>\n",
       "<style scoped>\n",
       "    .dataframe tbody tr th:only-of-type {\n",
       "        vertical-align: middle;\n",
       "    }\n",
       "\n",
       "    .dataframe tbody tr th {\n",
       "        vertical-align: top;\n",
       "    }\n",
       "\n",
       "    .dataframe thead th {\n",
       "        text-align: right;\n",
       "    }\n",
       "</style>\n",
       "<table border=\"1\" class=\"dataframe\">\n",
       "  <thead>\n",
       "    <tr style=\"text-align: right;\">\n",
       "      <th></th>\n",
       "      <th>label</th>\n",
       "      <th>text</th>\n",
       "    </tr>\n",
       "  </thead>\n",
       "  <tbody>\n",
       "    <tr>\n",
       "      <th>0</th>\n",
       "      <td>5</td>\n",
       "      <td>Looks ok. Not like so durable. Will hv to use ...</td>\n",
       "    </tr>\n",
       "    <tr>\n",
       "      <th>1</th>\n",
       "      <td>5</td>\n",
       "      <td>Tried, the current can be very powerful depend...</td>\n",
       "    </tr>\n",
       "    <tr>\n",
       "      <th>2</th>\n",
       "      <td>5</td>\n",
       "      <td>Item received after a week. Looks smaller than...</td>\n",
       "    </tr>\n",
       "    <tr>\n",
       "      <th>3</th>\n",
       "      <td>5</td>\n",
       "      <td>Thanks!!! Works as describe no complaints. Not...</td>\n",
       "    </tr>\n",
       "    <tr>\n",
       "      <th>4</th>\n",
       "      <td>5</td>\n",
       "      <td>Fast delivery considering it’s from overseas a...</td>\n",
       "    </tr>\n",
       "    <tr>\n",
       "      <th>5</th>\n",
       "      <td>5</td>\n",
       "      <td>Fast delivery good service</td>\n",
       "    </tr>\n",
       "    <tr>\n",
       "      <th>6</th>\n",
       "      <td>5</td>\n",
       "      <td>Got my order and it came well packaged. Have y...</td>\n",
       "    </tr>\n",
       "    <tr>\n",
       "      <th>7</th>\n",
       "      <td>5</td>\n",
       "      <td>Items received in a nice box. Have not used it...</td>\n",
       "    </tr>\n",
       "    <tr>\n",
       "      <th>8</th>\n",
       "      <td>5</td>\n",
       "      <td>Received in good condition, tried so far so go...</td>\n",
       "    </tr>\n",
       "    <tr>\n",
       "      <th>9</th>\n",
       "      <td>1</td>\n",
       "      <td>Item doesn’t work . \\n\\nAsked me to send a ref...</td>\n",
       "    </tr>\n",
       "  </tbody>\n",
       "</table>\n",
       "</div>"
      ],
      "text/plain": [
       "  label                                               text\n",
       "0     5  Looks ok. Not like so durable. Will hv to use ...\n",
       "1     5  Tried, the current can be very powerful depend...\n",
       "2     5  Item received after a week. Looks smaller than...\n",
       "3     5  Thanks!!! Works as describe no complaints. Not...\n",
       "4     5  Fast delivery considering it’s from overseas a...\n",
       "5     5                        Fast delivery good service \n",
       "6     5  Got my order and it came well packaged. Have y...\n",
       "7     5  Items received in a nice box. Have not used it...\n",
       "8     5  Received in good condition, tried so far so go...\n",
       "9     1  Item doesn’t work . \\n\\nAsked me to send a ref..."
      ]
     },
     "execution_count": 9,
     "metadata": {},
     "output_type": "execute_result"
    }
   ],
   "source": [
    "df_input_review.head(10)"
   ]
  },
  {
   "cell_type": "code",
   "execution_count": null,
   "metadata": {},
   "outputs": [],
   "source": []
  },
  {
   "cell_type": "code",
   "execution_count": 10,
   "metadata": {},
   "outputs": [
    {
     "data": {
      "text/plain": [
       "label    0\n",
       "text     0\n",
       "dtype: int64"
      ]
     },
     "execution_count": 10,
     "metadata": {},
     "output_type": "execute_result"
    }
   ],
   "source": [
    "df_input_review.isnull().sum()"
   ]
  },
  {
   "cell_type": "code",
   "execution_count": 11,
   "metadata": {},
   "outputs": [
    {
     "data": {
      "image/png": "[encoded data removed]",
      "text/plain": [
       "<Figure size 432x288 with 1 Axes>"
      ]
     },
     "metadata": {
      "needs_background": "light"
     },
     "output_type": "display_data"
    }
   ],
   "source": [
    "df_input_review.label.value_counts(normalize=True)\n",
    "\n",
    "df_input_review.label.value_counts(normalize=True).plot.barh()\n",
    "plt.show()"
   ]
  },
  {
   "cell_type": "code",
   "execution_count": 12,
   "metadata": {},
   "outputs": [
    {
     "data": {
      "text/plain": [
       "[5, 1, 4, 3, 2, '5', '3', '4', '1', '2', 'label']"
      ]
     },
     "execution_count": 12,
     "metadata": {},
     "output_type": "execute_result"
    }
   ],
   "source": [
    "df_input_review.label.unique().tolist()"
   ]
  },
  {
   "cell_type": "code",
   "execution_count": 13,
   "metadata": {},
   "outputs": [],
   "source": [
    "df_input_review=df_input_review[df_input_review['label']!= 'label']"
   ]
  },
  {
   "cell_type": "code",
   "execution_count": 14,
   "metadata": {},
   "outputs": [
    {
     "data": {
      "text/html": [
       "<div>\n",
       "<style scoped>\n",
       "    .dataframe tbody tr th:only-of-type {\n",
       "        vertical-align: middle;\n",
       "    }\n",
       "\n",
       "    .dataframe tbody tr th {\n",
       "        vertical-align: top;\n",
       "    }\n",
       "\n",
       "    .dataframe thead th {\n",
       "        text-align: right;\n",
       "    }\n",
       "</style>\n",
       "<table border=\"1\" class=\"dataframe\">\n",
       "  <thead>\n",
       "    <tr style=\"text-align: right;\">\n",
       "      <th></th>\n",
       "      <th>label</th>\n",
       "      <th>text</th>\n",
       "    </tr>\n",
       "  </thead>\n",
       "  <tbody>\n",
       "    <tr>\n",
       "      <th>0</th>\n",
       "      <td>5</td>\n",
       "      <td>Looks ok. Not like so durable. Will hv to use ...</td>\n",
       "    </tr>\n",
       "    <tr>\n",
       "      <th>1</th>\n",
       "      <td>5</td>\n",
       "      <td>Tried, the current can be very powerful depend...</td>\n",
       "    </tr>\n",
       "    <tr>\n",
       "      <th>2</th>\n",
       "      <td>5</td>\n",
       "      <td>Item received after a week. Looks smaller than...</td>\n",
       "    </tr>\n",
       "    <tr>\n",
       "      <th>3</th>\n",
       "      <td>5</td>\n",
       "      <td>Thanks!!! Works as describe no complaints. Not...</td>\n",
       "    </tr>\n",
       "    <tr>\n",
       "      <th>4</th>\n",
       "      <td>5</td>\n",
       "      <td>Fast delivery considering it’s from overseas a...</td>\n",
       "    </tr>\n",
       "  </tbody>\n",
       "</table>\n",
       "</div>"
      ],
      "text/plain": [
       "  label                                               text\n",
       "0     5  Looks ok. Not like so durable. Will hv to use ...\n",
       "1     5  Tried, the current can be very powerful depend...\n",
       "2     5  Item received after a week. Looks smaller than...\n",
       "3     5  Thanks!!! Works as describe no complaints. Not...\n",
       "4     5  Fast delivery considering it’s from overseas a..."
      ]
     },
     "execution_count": 14,
     "metadata": {},
     "output_type": "execute_result"
    }
   ],
   "source": [
    "df_input_review.head(5)"
   ]
  },
  {
   "cell_type": "code",
   "execution_count": 15,
   "metadata": {},
   "outputs": [],
   "source": [
    "def get_num_value_label(x):\n",
    "    return int(str(x).strip(''))"
   ]
  },
  {
   "cell_type": "code",
   "execution_count": 16,
   "metadata": {},
   "outputs": [],
   "source": [
    "def get_word_count(x):\n",
    "    return len(x.split())"
   ]
  },
  {
   "cell_type": "code",
   "execution_count": 17,
   "metadata": {},
   "outputs": [
    {
     "data": {
      "application/vnd.jupyter.widget-view+json": {
       "model_id": "1f2c974064104f62aad3fd38d873a8ae",
       "version_major": 2,
       "version_minor": 0
      },
      "text/plain": [
       "HBox(children=(IntProgress(value=0, max=1502574), HTML(value='')))"
      ]
     },
     "metadata": {},
     "output_type": "display_data"
    },
    {
     "name": "stdout",
     "output_type": "stream",
     "text": [
      "\n"
     ]
    }
   ],
   "source": [
    "df_input_review['true_label']=df_input_review['label'].progress_apply(get_num_value_label)"
   ]
  },
  {
   "cell_type": "code",
   "execution_count": 18,
   "metadata": {},
   "outputs": [
    {
     "data": {
      "image/png": "[encoded data removed]",
      "text/plain": [
       "<Figure size 432x288 with 1 Axes>"
      ]
     },
     "metadata": {
      "needs_background": "light"
     },
     "output_type": "display_data"
    }
   ],
   "source": [
    "df_input_review.true_label.value_counts(normalize=True)\n",
    "\n",
    "\n",
    "df_input_review.true_label.value_counts(normalize=True).plot.barh()\n",
    "plt.show()"
   ]
  },
  {
   "cell_type": "code",
   "execution_count": 19,
   "metadata": {},
   "outputs": [
    {
     "data": {
      "application/vnd.jupyter.widget-view+json": {
       "model_id": "26281b3eb0094e2bb232d7e0645dac59",
       "version_major": 2,
       "version_minor": 0
      },
      "text/plain": [
       "HBox(children=(IntProgress(value=0, max=1502574), HTML(value='')))"
      ]
     },
     "metadata": {},
     "output_type": "display_data"
    },
    {
     "name": "stdout",
     "output_type": "stream",
     "text": [
      "\n"
     ]
    },
    {
     "data": {
      "application/vnd.jupyter.widget-view+json": {
       "model_id": "a93052a4226b4b6e858c65f506e6be83",
       "version_major": 2,
       "version_minor": 0
      },
      "text/plain": [
       "HBox(children=(IntProgress(value=0, max=1502574), HTML(value='')))"
      ]
     },
     "metadata": {},
     "output_type": "display_data"
    },
    {
     "name": "stdout",
     "output_type": "stream",
     "text": [
      "\n"
     ]
    }
   ],
   "source": [
    "df_input_review['review_length']=df_input_review['text'].progress_apply(len)\n",
    "df_input_review['word_count']=df_input_review['text'].progress_apply(get_word_count)"
   ]
  },
  {
   "cell_type": "code",
   "execution_count": 20,
   "metadata": {},
   "outputs": [
    {
     "data": {
      "text/plain": [
       "<matplotlib.axes._subplots.AxesSubplot at 0x21d0398e630>"
      ]
     },
     "execution_count": 20,
     "metadata": {},
     "output_type": "execute_result"
    },
    {
     "data": {
      "image/png": "[encoded data removed]",
      "text/plain": [
       "<Figure size 432x288 with 1 Axes>"
      ]
     },
     "metadata": {
      "needs_background": "light"
     },
     "output_type": "display_data"
    }
   ],
   "source": [
    "hist = df_input_review.review_length.hist(bins=50)\n",
    "hist"
   ]
  },
  {
   "cell_type": "code",
   "execution_count": 21,
   "metadata": {},
   "outputs": [
    {
     "data": {
      "text/plain": [
       "<matplotlib.axes._subplots.AxesSubplot at 0x21d051cbbe0>"
      ]
     },
     "execution_count": 21,
     "metadata": {},
     "output_type": "execute_result"
    },
    {
     "data": {
      "image/png": "[encoded data removed]",
      "text/plain": [
       "<Figure size 432x288 with 1 Axes>"
      ]
     },
     "metadata": {
      "needs_background": "light"
     },
     "output_type": "display_data"
    }
   ],
   "source": [
    "hist = df_input_review.word_count.hist(bins=10)\n",
    "hist"
   ]
  },
  {
   "cell_type": "code",
   "execution_count": 22,
   "metadata": {},
   "outputs": [
    {
     "data": {
      "image/png": "[encoded data removed]",
      "text/plain": [
       "<Figure size 540x540 with 12 Axes>"
      ]
     },
     "metadata": {
      "needs_background": "light"
     },
     "output_type": "display_data"
    }
   ],
   "source": [
    "sns.pairplot(data =  df_input_review, vars=['true_label','review_length','word_count'])\n",
    "plt.show()"
   ]
  },
  {
   "cell_type": "code",
   "execution_count": 23,
   "metadata": {},
   "outputs": [
    {
     "data": {
      "text/plain": [
       "<matplotlib.axes._subplots.AxesSubplot at 0x21d03a34710>"
      ]
     },
     "execution_count": 23,
     "metadata": {},
     "output_type": "execute_result"
    },
    {
     "data": {
      "image/png": "[encoded data removed]",
      "text/plain": [
       "<Figure size 432x288 with 2 Axes>"
      ]
     },
     "metadata": {
      "needs_background": "light"
     },
     "output_type": "display_data"
    }
   ],
   "source": [
    "sns.heatmap(df_input_review[['true_label','review_length','word_count']].corr(), annot=True, cmap = 'Reds')\n"
   ]
  },
  {
   "cell_type": "code",
   "execution_count": 24,
   "metadata": {},
   "outputs": [],
   "source": [
    "def clean_str(x):\n",
    "    \n",
    "    result = re.sub(r'[^a-zA-Z]', \" \", x) \n",
    "    x_list=result.split()\n",
    "    x_string=\"\"\n",
    "    if len(x_list)>=0:\n",
    "        \n",
    "        for x_word in x_list:\n",
    "            if(len(x_word))>2:\n",
    "                x_string+=(x_word+\" \")\n",
    "    x_list=[]\n",
    "        \n",
    "    return (x_string.strip().lower())"
   ]
  },
  {
   "cell_type": "code",
   "execution_count": 25,
   "metadata": {},
   "outputs": [
    {
     "data": {
      "application/vnd.jupyter.widget-view+json": {
       "model_id": "19844f931c874dd8a8e099b2df68d6d5",
       "version_major": 2,
       "version_minor": 0
      },
      "text/plain": [
       "HBox(children=(IntProgress(value=0, max=1502574), HTML(value='')))"
      ]
     },
     "metadata": {},
     "output_type": "display_data"
    },
    {
     "name": "stdout",
     "output_type": "stream",
     "text": [
      "\n"
     ]
    }
   ],
   "source": [
    "df_input_review['text_en_only']=df_input_review['text'].progress_apply(clean_str)"
   ]
  },
  {
   "cell_type": "code",
   "execution_count": 26,
   "metadata": {},
   "outputs": [
    {
     "data": {
      "text/html": [
       "<div>\n",
       "<style scoped>\n",
       "    .dataframe tbody tr th:only-of-type {\n",
       "        vertical-align: middle;\n",
       "    }\n",
       "\n",
       "    .dataframe tbody tr th {\n",
       "        vertical-align: top;\n",
       "    }\n",
       "\n",
       "    .dataframe thead th {\n",
       "        text-align: right;\n",
       "    }\n",
       "</style>\n",
       "<table border=\"1\" class=\"dataframe\">\n",
       "  <thead>\n",
       "    <tr style=\"text-align: right;\">\n",
       "      <th></th>\n",
       "      <th>label</th>\n",
       "      <th>text</th>\n",
       "      <th>true_label</th>\n",
       "      <th>review_length</th>\n",
       "      <th>word_count</th>\n",
       "      <th>text_en_only</th>\n",
       "    </tr>\n",
       "  </thead>\n",
       "  <tbody>\n",
       "    <tr>\n",
       "      <th>0</th>\n",
       "      <td>5</td>\n",
       "      <td>Looks ok. Not like so durable. Will hv to use ...</td>\n",
       "      <td>5</td>\n",
       "      <td>87</td>\n",
       "      <td>18</td>\n",
       "      <td>looks not like durable will use while recommen...</td>\n",
       "    </tr>\n",
       "    <tr>\n",
       "      <th>1</th>\n",
       "      <td>5</td>\n",
       "      <td>Tried, the current can be very powerful depend...</td>\n",
       "      <td>5</td>\n",
       "      <td>168</td>\n",
       "      <td>32</td>\n",
       "      <td>tried the current can very powerful depending ...</td>\n",
       "    </tr>\n",
       "    <tr>\n",
       "      <th>2</th>\n",
       "      <td>5</td>\n",
       "      <td>Item received after a week. Looks smaller than...</td>\n",
       "      <td>5</td>\n",
       "      <td>75</td>\n",
       "      <td>13</td>\n",
       "      <td>item received after week looks smaller than ex...</td>\n",
       "    </tr>\n",
       "  </tbody>\n",
       "</table>\n",
       "</div>"
      ],
      "text/plain": [
       "  label                                               text  true_label  \\\n",
       "0     5  Looks ok. Not like so durable. Will hv to use ...           5   \n",
       "1     5  Tried, the current can be very powerful depend...           5   \n",
       "2     5  Item received after a week. Looks smaller than...           5   \n",
       "\n",
       "   review_length  word_count  \\\n",
       "0             87          18   \n",
       "1            168          32   \n",
       "2             75          13   \n",
       "\n",
       "                                        text_en_only  \n",
       "0  looks not like durable will use while recommen...  \n",
       "1  tried the current can very powerful depending ...  \n",
       "2  item received after week looks smaller than ex...  "
      ]
     },
     "execution_count": 26,
     "metadata": {},
     "output_type": "execute_result"
    }
   ],
   "source": [
    "df_input_review.head(3)"
   ]
  },
  {
   "cell_type": "code",
   "execution_count": 27,
   "metadata": {},
   "outputs": [],
   "source": [
    "from textblob import TextBlob\n",
    "\n",
    "def correct_spelling(x):\n",
    "    data = x\n",
    "    output = TextBlob(data).correct()\n",
    "    return (str(output).lower())"
   ]
  },
  {
   "cell_type": "code",
   "execution_count": 28,
   "metadata": {},
   "outputs": [],
   "source": [
    "#df_input_review['text_en_only_corrected']=df_input_review['text_en_only'].progress_apply(correct_spelling)"
   ]
  },
  {
   "cell_type": "code",
   "execution_count": null,
   "metadata": {},
   "outputs": [],
   "source": []
  },
  {
   "cell_type": "code",
   "execution_count": 29,
   "metadata": {},
   "outputs": [
    {
     "name": "stdout",
     "output_type": "stream",
     "text": [
      "[nltk_data] Downloading package averaged_perceptron_tagger to\n",
      "[nltk_data]     C:\\Users\\JX\\AppData\\Roaming\\nltk_data...\n",
      "[nltk_data]   Package averaged_perceptron_tagger is already up-to-\n",
      "[nltk_data]       date!\n"
     ]
    }
   ],
   "source": [
    "import nltk\n",
    "nltk.download('averaged_perceptron_tagger')\n",
    "from nltk.tokenize import word_tokenize"
   ]
  },
  {
   "cell_type": "code",
   "execution_count": 30,
   "metadata": {},
   "outputs": [],
   "source": [
    "from gensim.parsing.preprocessing import STOPWORDS\n",
    "\n",
    "def remove_stopping_word_x(x):\n",
    "    all_stopwords_gensim = STOPWORDS.union(set(['http','https','loz','pls','plz','hello' ,'hi','me', 'my', 'myself', 'we', 'our', 'ours', 'ourselves', 'you', \"you're\", \"you've\", \"you'll\", \"you'd\", 'your', 'yours', 'yourself', 'yourselves', 'he', 'him', 'his', 'himself', 'she', \"she's\", 'her', 'hers', 'herself', 'it', \"it's\", 'its', 'itself', 'they', 'them', 'their', 'theirs', 'themselves', 'what', 'which', 'who', 'whom', 'this', 'that', \"that'll\", 'these', 'those', 'am', 'is', 'are', 'was', 'were', 'be', 'been', 'being', 'have', 'has', 'had', 'having', 'do', 'does', 'did', 'doing', 'a', 'an', 'the', 'and', 'but', 'if', 'or', 'because', 'as', 'until', 'while', 'of', 'at', 'by', 'for', 'with', 'about', 'against', 'between', 'into', 'through', 'during', 'before', 'after', 'above', 'below', 'to', 'from', 'up', 'down', 'in', 'out', 'on', 'off', 'over', 'under', 'again', 'further', 'then', 'once', 'here', 'there', 'when', 'where', 'why', 'how', 'all', 'any', 'both', 'each', 'few', 'more', 'most', 'other', 'some', 'such', 'no', 'nor', 'not', 'only', 'own', 'same', 'so', 'than', 'too', 'very', 's', 't', 'can', 'will', 'just', 'don', \"don't\", 'should', \"should've\", 'now', 'd', 'll', 'm', 'o', 're', 've', 'y', 'ain', 'aren', \"aren't\", 'couldn', \"couldn't\", 'didn', \"didn't\", 'doesn', \"doesn't\", 'hadn', \"hadn't\", 'hasn', \"hasn't\", 'haven', \"haven't\", 'isn', \"isn't\", 'ma', 'mightn', \"mightn't\", 'mustn', \"mustn't\", 'needn', \"needn't\", 'shan', \"shan't\", 'shouldn', \"shouldn't\", 'wasn', \"wasn't\", 'weren', \"weren't\", 'won', \"won't\", 'wouldn', \"wouldn't\"]))\n",
    "    x_string=''\n",
    "    text = x\n",
    "    text_tokens = word_tokenize(text)\n",
    "    for word in text_tokens:\n",
    "        if not word in all_stopwords_gensim:\n",
    "            x_string+=(word+\" \")\n",
    "            \n",
    "    \n",
    "    return x_string.strip()\n"
   ]
  },
  {
   "cell_type": "code",
   "execution_count": 31,
   "metadata": {},
   "outputs": [
    {
     "data": {
      "application/vnd.jupyter.widget-view+json": {
       "model_id": "a870b9cfc49943e6b91d50a6a3eb3a23",
       "version_major": 2,
       "version_minor": 0
      },
      "text/plain": [
       "HBox(children=(IntProgress(value=0, max=1502574), HTML(value='')))"
      ]
     },
     "metadata": {},
     "output_type": "display_data"
    },
    {
     "name": "stdout",
     "output_type": "stream",
     "text": [
      "\n"
     ]
    },
    {
     "data": {
      "text/html": [
       "<div>\n",
       "<style scoped>\n",
       "    .dataframe tbody tr th:only-of-type {\n",
       "        vertical-align: middle;\n",
       "    }\n",
       "\n",
       "    .dataframe tbody tr th {\n",
       "        vertical-align: top;\n",
       "    }\n",
       "\n",
       "    .dataframe thead th {\n",
       "        text-align: right;\n",
       "    }\n",
       "</style>\n",
       "<table border=\"1\" class=\"dataframe\">\n",
       "  <thead>\n",
       "    <tr style=\"text-align: right;\">\n",
       "      <th></th>\n",
       "      <th>label</th>\n",
       "      <th>text</th>\n",
       "      <th>true_label</th>\n",
       "      <th>review_length</th>\n",
       "      <th>word_count</th>\n",
       "      <th>text_en_only</th>\n",
       "      <th>text_en_only_rm_stopping</th>\n",
       "    </tr>\n",
       "  </thead>\n",
       "  <tbody>\n",
       "    <tr>\n",
       "      <th>0</th>\n",
       "      <td>5</td>\n",
       "      <td>Looks ok. Not like so durable. Will hv to use ...</td>\n",
       "      <td>5</td>\n",
       "      <td>87</td>\n",
       "      <td>18</td>\n",
       "      <td>looks not like durable will use while recommen...</td>\n",
       "      <td>looks like durable use recommend worth</td>\n",
       "    </tr>\n",
       "    <tr>\n",
       "      <th>1</th>\n",
       "      <td>5</td>\n",
       "      <td>Tried, the current can be very powerful depend...</td>\n",
       "      <td>5</td>\n",
       "      <td>168</td>\n",
       "      <td>32</td>\n",
       "      <td>tried the current can very powerful depending ...</td>\n",
       "      <td>tried current powerful depending setting dare ...</td>\n",
       "    </tr>\n",
       "    <tr>\n",
       "      <th>2</th>\n",
       "      <td>5</td>\n",
       "      <td>Item received after a week. Looks smaller than...</td>\n",
       "      <td>5</td>\n",
       "      <td>75</td>\n",
       "      <td>13</td>\n",
       "      <td>item received after week looks smaller than ex...</td>\n",
       "      <td>item received week looks smaller expected wait...</td>\n",
       "    </tr>\n",
       "    <tr>\n",
       "      <th>3</th>\n",
       "      <td>5</td>\n",
       "      <td>Thanks!!! Works as describe no complaints. Not...</td>\n",
       "      <td>5</td>\n",
       "      <td>101</td>\n",
       "      <td>15</td>\n",
       "      <td>thanks works describe complaints not really ex...</td>\n",
       "      <td>thanks works complaints expecting life changin...</td>\n",
       "    </tr>\n",
       "    <tr>\n",
       "      <th>4</th>\n",
       "      <td>5</td>\n",
       "      <td>Fast delivery considering it’s from overseas a...</td>\n",
       "      <td>5</td>\n",
       "      <td>97</td>\n",
       "      <td>16</td>\n",
       "      <td>fast delivery considering from overseas and on...</td>\n",
       "      <td>fast delivery considering overseas tried sure ...</td>\n",
       "    </tr>\n",
       "  </tbody>\n",
       "</table>\n",
       "</div>"
      ],
      "text/plain": [
       "  label                                               text  true_label  \\\n",
       "0     5  Looks ok. Not like so durable. Will hv to use ...           5   \n",
       "1     5  Tried, the current can be very powerful depend...           5   \n",
       "2     5  Item received after a week. Looks smaller than...           5   \n",
       "3     5  Thanks!!! Works as describe no complaints. Not...           5   \n",
       "4     5  Fast delivery considering it’s from overseas a...           5   \n",
       "\n",
       "   review_length  word_count  \\\n",
       "0             87          18   \n",
       "1            168          32   \n",
       "2             75          13   \n",
       "3            101          15   \n",
       "4             97          16   \n",
       "\n",
       "                                        text_en_only  \\\n",
       "0  looks not like durable will use while recommen...   \n",
       "1  tried the current can very powerful depending ...   \n",
       "2  item received after week looks smaller than ex...   \n",
       "3  thanks works describe complaints not really ex...   \n",
       "4  fast delivery considering from overseas and on...   \n",
       "\n",
       "                            text_en_only_rm_stopping  \n",
       "0             looks like durable use recommend worth  \n",
       "1  tried current powerful depending setting dare ...  \n",
       "2  item received week looks smaller expected wait...  \n",
       "3  thanks works complaints expecting life changin...  \n",
       "4  fast delivery considering overseas tried sure ...  "
      ]
     },
     "execution_count": 31,
     "metadata": {},
     "output_type": "execute_result"
    }
   ],
   "source": [
    "df_input_review['text_en_only_rm_stopping']=df_input_review['text_en_only'].progress_apply(remove_stopping_word_x)\n",
    "df_input_review.head(5)"
   ]
  },
  {
   "cell_type": "code",
   "execution_count": 32,
   "metadata": {},
   "outputs": [
    {
     "name": "stdout",
     "output_type": "stream",
     "text": [
      "[nltk_data] Downloading package wordnet to\n",
      "[nltk_data]     C:\\Users\\JX\\AppData\\Roaming\\nltk_data...\n",
      "[nltk_data]   Package wordnet is already up-to-date!\n"
     ]
    }
   ],
   "source": [
    "nltk.download('wordnet')\n",
    "from nltk.stem import WordNetLemmatizer\n",
    "wordnet_lemmatizer = WordNetLemmatizer()\n",
    "\n",
    "def get_lemmatization (x):\n",
    "    sentence = x\n",
    "    x_string=''\n",
    "    sentence_words = word_tokenize(sentence)\n",
    "    for word in sentence_words:\n",
    "        x_string+=(wordnet_lemmatizer.lemmatize(word)+\" \")\n",
    "    return x_string.strip()"
   ]
  },
  {
   "cell_type": "code",
   "execution_count": 33,
   "metadata": {},
   "outputs": [
    {
     "data": {
      "application/vnd.jupyter.widget-view+json": {
       "model_id": "8bb2cb87879c4e578bf8e2f184f917a3",
       "version_major": 2,
       "version_minor": 0
      },
      "text/plain": [
       "HBox(children=(IntProgress(value=0, max=1502574), HTML(value='')))"
      ]
     },
     "metadata": {},
     "output_type": "display_data"
    },
    {
     "name": "stdout",
     "output_type": "stream",
     "text": [
      "\n"
     ]
    }
   ],
   "source": [
    "df_input_review['text_en_only_lemma']=df_input_review['text_en_only_rm_stopping'].progress_apply(get_lemmatization)"
   ]
  },
  {
   "cell_type": "code",
   "execution_count": 34,
   "metadata": {},
   "outputs": [
    {
     "data": {
      "application/vnd.jupyter.widget-view+json": {
       "model_id": "697e82d878e1493d8833eab7f122eec1",
       "version_major": 2,
       "version_minor": 0
      },
      "text/plain": [
       "HBox(children=(IntProgress(value=0, max=1502574), HTML(value='')))"
      ]
     },
     "metadata": {},
     "output_type": "display_data"
    },
    {
     "name": "stdout",
     "output_type": "stream",
     "text": [
      "\n"
     ]
    },
    {
     "data": {
      "application/vnd.jupyter.widget-view+json": {
       "model_id": "d648731e5d4049248faf1612014ad436",
       "version_major": 2,
       "version_minor": 0
      },
      "text/plain": [
       "HBox(children=(IntProgress(value=0, max=1502574), HTML(value='')))"
      ]
     },
     "metadata": {},
     "output_type": "display_data"
    },
    {
     "name": "stdout",
     "output_type": "stream",
     "text": [
      "\n"
     ]
    }
   ],
   "source": [
    "df_input_review['review_length_processed']=df_input_review['text_en_only_lemma'].progress_apply(len)\n",
    "df_input_review['word_count_processed']=df_input_review['text_en_only_lemma'].progress_apply(get_word_count)"
   ]
  },
  {
   "cell_type": "code",
   "execution_count": 35,
   "metadata": {},
   "outputs": [
    {
     "data": {
      "text/html": [
       "<div>\n",
       "<style scoped>\n",
       "    .dataframe tbody tr th:only-of-type {\n",
       "        vertical-align: middle;\n",
       "    }\n",
       "\n",
       "    .dataframe tbody tr th {\n",
       "        vertical-align: top;\n",
       "    }\n",
       "\n",
       "    .dataframe thead th {\n",
       "        text-align: right;\n",
       "    }\n",
       "</style>\n",
       "<table border=\"1\" class=\"dataframe\">\n",
       "  <thead>\n",
       "    <tr style=\"text-align: right;\">\n",
       "      <th></th>\n",
       "      <th>label</th>\n",
       "      <th>text</th>\n",
       "      <th>true_label</th>\n",
       "      <th>review_length</th>\n",
       "      <th>word_count</th>\n",
       "      <th>text_en_only</th>\n",
       "      <th>text_en_only_rm_stopping</th>\n",
       "      <th>text_en_only_lemma</th>\n",
       "      <th>review_length_processed</th>\n",
       "      <th>word_count_processed</th>\n",
       "    </tr>\n",
       "  </thead>\n",
       "  <tbody>\n",
       "    <tr>\n",
       "      <th>0</th>\n",
       "      <td>5</td>\n",
       "      <td>Looks ok. Not like so durable. Will hv to use ...</td>\n",
       "      <td>5</td>\n",
       "      <td>87</td>\n",
       "      <td>18</td>\n",
       "      <td>looks not like durable will use while recommen...</td>\n",
       "      <td>looks like durable use recommend worth</td>\n",
       "      <td>look like durable use recommend worth</td>\n",
       "      <td>37</td>\n",
       "      <td>6</td>\n",
       "    </tr>\n",
       "    <tr>\n",
       "      <th>1</th>\n",
       "      <td>5</td>\n",
       "      <td>Tried, the current can be very powerful depend...</td>\n",
       "      <td>5</td>\n",
       "      <td>168</td>\n",
       "      <td>32</td>\n",
       "      <td>tried the current can very powerful depending ...</td>\n",
       "      <td>tried current powerful depending setting dare ...</td>\n",
       "      <td>tried current powerful depending setting dare ...</td>\n",
       "      <td>90</td>\n",
       "      <td>13</td>\n",
       "    </tr>\n",
       "  </tbody>\n",
       "</table>\n",
       "</div>"
      ],
      "text/plain": [
       "  label                                               text  true_label  \\\n",
       "0     5  Looks ok. Not like so durable. Will hv to use ...           5   \n",
       "1     5  Tried, the current can be very powerful depend...           5   \n",
       "\n",
       "   review_length  word_count  \\\n",
       "0             87          18   \n",
       "1            168          32   \n",
       "\n",
       "                                        text_en_only  \\\n",
       "0  looks not like durable will use while recommen...   \n",
       "1  tried the current can very powerful depending ...   \n",
       "\n",
       "                            text_en_only_rm_stopping  \\\n",
       "0             looks like durable use recommend worth   \n",
       "1  tried current powerful depending setting dare ...   \n",
       "\n",
       "                                  text_en_only_lemma  review_length_processed  \\\n",
       "0              look like durable use recommend worth                       37   \n",
       "1  tried current powerful depending setting dare ...                       90   \n",
       "\n",
       "   word_count_processed  \n",
       "0                     6  \n",
       "1                    13  "
      ]
     },
     "execution_count": 35,
     "metadata": {},
     "output_type": "execute_result"
    }
   ],
   "source": [
    "df_input_review.head(2)"
   ]
  },
  {
   "cell_type": "code",
   "execution_count": 36,
   "metadata": {},
   "outputs": [],
   "source": [
    "df_input_review['cluster']=df_input_review['word_count_processed']"
   ]
  },
  {
   "cell_type": "code",
   "execution_count": 37,
   "metadata": {},
   "outputs": [],
   "source": [
    "def get_filter_len(x):\n",
    "    if x>3:\n",
    "        return \"\"\n",
    "    else:\n",
    "        return \"Unspecified\""
   ]
  },
  {
   "cell_type": "code",
   "execution_count": 38,
   "metadata": {},
   "outputs": [
    {
     "data": {
      "application/vnd.jupyter.widget-view+json": {
       "model_id": "67d5a8d372ed4813babf235efb361c53",
       "version_major": 2,
       "version_minor": 0
      },
      "text/plain": [
       "HBox(children=(IntProgress(value=0, max=1502574), HTML(value='')))"
      ]
     },
     "metadata": {},
     "output_type": "display_data"
    },
    {
     "name": "stdout",
     "output_type": "stream",
     "text": [
      "\n"
     ]
    }
   ],
   "source": [
    "df_input_review['cluster']=df_input_review['cluster'].progress_apply(get_filter_len)"
   ]
  },
  {
   "cell_type": "code",
   "execution_count": 39,
   "metadata": {},
   "outputs": [
    {
     "data": {
      "text/html": [
       "<div>\n",
       "<style scoped>\n",
       "    .dataframe tbody tr th:only-of-type {\n",
       "        vertical-align: middle;\n",
       "    }\n",
       "\n",
       "    .dataframe tbody tr th {\n",
       "        vertical-align: top;\n",
       "    }\n",
       "\n",
       "    .dataframe thead th {\n",
       "        text-align: right;\n",
       "    }\n",
       "</style>\n",
       "<table border=\"1\" class=\"dataframe\">\n",
       "  <thead>\n",
       "    <tr style=\"text-align: right;\">\n",
       "      <th></th>\n",
       "      <th>label</th>\n",
       "      <th>text</th>\n",
       "      <th>true_label</th>\n",
       "      <th>review_length</th>\n",
       "      <th>word_count</th>\n",
       "      <th>text_en_only</th>\n",
       "      <th>text_en_only_rm_stopping</th>\n",
       "      <th>text_en_only_lemma</th>\n",
       "      <th>review_length_processed</th>\n",
       "      <th>word_count_processed</th>\n",
       "      <th>cluster</th>\n",
       "    </tr>\n",
       "  </thead>\n",
       "  <tbody>\n",
       "    <tr>\n",
       "      <th>0</th>\n",
       "      <td>5</td>\n",
       "      <td>Looks ok. Not like so durable. Will hv to use ...</td>\n",
       "      <td>5</td>\n",
       "      <td>87</td>\n",
       "      <td>18</td>\n",
       "      <td>looks not like durable will use while recommen...</td>\n",
       "      <td>looks like durable use recommend worth</td>\n",
       "      <td>look like durable use recommend worth</td>\n",
       "      <td>37</td>\n",
       "      <td>6</td>\n",
       "      <td></td>\n",
       "    </tr>\n",
       "  </tbody>\n",
       "</table>\n",
       "</div>"
      ],
      "text/plain": [
       "  label                                               text  true_label  \\\n",
       "0     5  Looks ok. Not like so durable. Will hv to use ...           5   \n",
       "\n",
       "   review_length  word_count  \\\n",
       "0             87          18   \n",
       "\n",
       "                                        text_en_only  \\\n",
       "0  looks not like durable will use while recommen...   \n",
       "\n",
       "                 text_en_only_rm_stopping  \\\n",
       "0  looks like durable use recommend worth   \n",
       "\n",
       "                      text_en_only_lemma  review_length_processed  \\\n",
       "0  look like durable use recommend worth                       37   \n",
       "\n",
       "   word_count_processed cluster  \n",
       "0                     6          "
      ]
     },
     "execution_count": 39,
     "metadata": {},
     "output_type": "execute_result"
    }
   ],
   "source": [
    "df_input_review.head(1)"
   ]
  },
  {
   "cell_type": "code",
   "execution_count": 40,
   "metadata": {},
   "outputs": [],
   "source": [
    "df_input_review_to_clustering=df_input_review[df_input_review['cluster']=='']"
   ]
  },
  {
   "cell_type": "code",
   "execution_count": null,
   "metadata": {},
   "outputs": [],
   "source": []
  },
  {
   "cell_type": "code",
   "execution_count": 41,
   "metadata": {},
   "outputs": [
    {
     "name": "stdout",
     "output_type": "stream",
     "text": [
      "Max number of token (word count): 60\n",
      "Mean number of token (word count): 8.95\n",
      "Min number of token (word count): 4\n"
     ]
    }
   ],
   "source": [
    "print(\"Max number of token (word count):\", np.max(df_input_review_to_clustering.word_count_processed))\n",
    "print(\"Mean number of token (word count):\", round(np.mean(df_input_review_to_clustering.word_count_processed),2))\n",
    "print(\"Min number of token (word count):\", np.min(df_input_review_to_clustering.word_count_processed))"
   ]
  },
  {
   "cell_type": "code",
   "execution_count": 42,
   "metadata": {},
   "outputs": [],
   "source": [
    "def get_list(x):\n",
    "    return x.split()"
   ]
  },
  {
   "cell_type": "code",
   "execution_count": null,
   "metadata": {},
   "outputs": [],
   "source": []
  },
  {
   "cell_type": "code",
   "execution_count": 43,
   "metadata": {},
   "outputs": [
    {
     "data": {
      "application/vnd.jupyter.widget-view+json": {
       "model_id": "bf520204abfa41e5af04a6af6d1939f0",
       "version_major": 2,
       "version_minor": 0
      },
      "text/plain": [
       "HBox(children=(IntProgress(value=0, max=1315053), HTML(value='')))"
      ]
     },
     "metadata": {},
     "output_type": "display_data"
    },
    {
     "name": "stdout",
     "output_type": "stream",
     "text": [
      "\n"
     ]
    },
    {
     "name": "stderr",
     "output_type": "stream",
     "text": [
      "C:\\Anaconda3\\lib\\site-packages\\ipykernel_launcher.py:1: SettingWithCopyWarning: \n",
      "A value is trying to be set on a copy of a slice from a DataFrame.\n",
      "Try using .loc[row_indexer,col_indexer] = value instead\n",
      "\n",
      "See the caveats in the documentation: http://pandas.pydata.org/pandas-docs/stable/indexing.html#indexing-view-versus-copy\n",
      "  \"\"\"Entry point for launching an IPython kernel.\n"
     ]
    }
   ],
   "source": [
    "df_input_review_to_clustering['tokens']=df_input_review_to_clustering['text_en_only_lemma'].progress_apply(get_list)\n",
    "#df_data_combine_sg.head(20)"
   ]
  },
  {
   "cell_type": "code",
   "execution_count": 44,
   "metadata": {},
   "outputs": [
    {
     "data": {
      "text/html": [
       "<div>\n",
       "<style scoped>\n",
       "    .dataframe tbody tr th:only-of-type {\n",
       "        vertical-align: middle;\n",
       "    }\n",
       "\n",
       "    .dataframe tbody tr th {\n",
       "        vertical-align: top;\n",
       "    }\n",
       "\n",
       "    .dataframe thead th {\n",
       "        text-align: right;\n",
       "    }\n",
       "</style>\n",
       "<table border=\"1\" class=\"dataframe\">\n",
       "  <thead>\n",
       "    <tr style=\"text-align: right;\">\n",
       "      <th></th>\n",
       "      <th>label</th>\n",
       "      <th>text</th>\n",
       "      <th>true_label</th>\n",
       "      <th>review_length</th>\n",
       "      <th>word_count</th>\n",
       "      <th>text_en_only</th>\n",
       "      <th>text_en_only_rm_stopping</th>\n",
       "      <th>text_en_only_lemma</th>\n",
       "      <th>review_length_processed</th>\n",
       "      <th>word_count_processed</th>\n",
       "      <th>cluster</th>\n",
       "      <th>tokens</th>\n",
       "    </tr>\n",
       "  </thead>\n",
       "  <tbody>\n",
       "    <tr>\n",
       "      <th>0</th>\n",
       "      <td>5</td>\n",
       "      <td>Looks ok. Not like so durable. Will hv to use ...</td>\n",
       "      <td>5</td>\n",
       "      <td>87</td>\n",
       "      <td>18</td>\n",
       "      <td>looks not like durable will use while recommen...</td>\n",
       "      <td>looks like durable use recommend worth</td>\n",
       "      <td>look like durable use recommend worth</td>\n",
       "      <td>37</td>\n",
       "      <td>6</td>\n",
       "      <td></td>\n",
       "      <td>[look, like, durable, use, recommend, worth]</td>\n",
       "    </tr>\n",
       "    <tr>\n",
       "      <th>1</th>\n",
       "      <td>5</td>\n",
       "      <td>Tried, the current can be very powerful depend...</td>\n",
       "      <td>5</td>\n",
       "      <td>168</td>\n",
       "      <td>32</td>\n",
       "      <td>tried the current can very powerful depending ...</td>\n",
       "      <td>tried current powerful depending setting dare ...</td>\n",
       "      <td>tried current powerful depending setting dare ...</td>\n",
       "      <td>90</td>\n",
       "      <td>13</td>\n",
       "      <td></td>\n",
       "      <td>[tried, current, powerful, depending, setting,...</td>\n",
       "    </tr>\n",
       "    <tr>\n",
       "      <th>2</th>\n",
       "      <td>5</td>\n",
       "      <td>Item received after a week. Looks smaller than...</td>\n",
       "      <td>5</td>\n",
       "      <td>75</td>\n",
       "      <td>13</td>\n",
       "      <td>item received after week looks smaller than ex...</td>\n",
       "      <td>item received week looks smaller expected wait...</td>\n",
       "      <td>item received week look smaller expected wait try</td>\n",
       "      <td>49</td>\n",
       "      <td>8</td>\n",
       "      <td></td>\n",
       "      <td>[item, received, week, look, smaller, expected...</td>\n",
       "    </tr>\n",
       "    <tr>\n",
       "      <th>3</th>\n",
       "      <td>5</td>\n",
       "      <td>Thanks!!! Works as describe no complaints. Not...</td>\n",
       "      <td>5</td>\n",
       "      <td>101</td>\n",
       "      <td>15</td>\n",
       "      <td>thanks works describe complaints not really ex...</td>\n",
       "      <td>thanks works complaints expecting life changin...</td>\n",
       "      <td>thanks work complaint expecting life changing ...</td>\n",
       "      <td>59</td>\n",
       "      <td>8</td>\n",
       "      <td></td>\n",
       "      <td>[thanks, work, complaint, expecting, life, cha...</td>\n",
       "    </tr>\n",
       "    <tr>\n",
       "      <th>4</th>\n",
       "      <td>5</td>\n",
       "      <td>Fast delivery considering it’s from overseas a...</td>\n",
       "      <td>5</td>\n",
       "      <td>97</td>\n",
       "      <td>16</td>\n",
       "      <td>fast delivery considering from overseas and on...</td>\n",
       "      <td>fast delivery considering overseas tried sure ...</td>\n",
       "      <td>fast delivery considering overseas tried sure ...</td>\n",
       "      <td>52</td>\n",
       "      <td>7</td>\n",
       "      <td></td>\n",
       "      <td>[fast, delivery, considering, overseas, tried,...</td>\n",
       "    </tr>\n",
       "    <tr>\n",
       "      <th>5</th>\n",
       "      <td>5</td>\n",
       "      <td>Fast delivery good service</td>\n",
       "      <td>5</td>\n",
       "      <td>27</td>\n",
       "      <td>4</td>\n",
       "      <td>fast delivery good service</td>\n",
       "      <td>fast delivery good service</td>\n",
       "      <td>fast delivery good service</td>\n",
       "      <td>26</td>\n",
       "      <td>4</td>\n",
       "      <td></td>\n",
       "      <td>[fast, delivery, good, service]</td>\n",
       "    </tr>\n",
       "    <tr>\n",
       "      <th>6</th>\n",
       "      <td>5</td>\n",
       "      <td>Got my order and it came well packaged. Have y...</td>\n",
       "      <td>5</td>\n",
       "      <td>87</td>\n",
       "      <td>18</td>\n",
       "      <td>got order and came well packaged have yet try ...</td>\n",
       "      <td>got order came packaged try looks good far thanks</td>\n",
       "      <td>got order came packaged try look good far thanks</td>\n",
       "      <td>48</td>\n",
       "      <td>9</td>\n",
       "      <td></td>\n",
       "      <td>[got, order, came, packaged, try, look, good, ...</td>\n",
       "    </tr>\n",
       "    <tr>\n",
       "      <th>7</th>\n",
       "      <td>5</td>\n",
       "      <td>Items received in a nice box. Have not used it...</td>\n",
       "      <td>5</td>\n",
       "      <td>71</td>\n",
       "      <td>14</td>\n",
       "      <td>items received nice box have not used yet hope...</td>\n",
       "      <td>items received nice box hopefully works</td>\n",
       "      <td>item received nice box hopefully work</td>\n",
       "      <td>37</td>\n",
       "      <td>6</td>\n",
       "      <td></td>\n",
       "      <td>[item, received, nice, box, hopefully, work]</td>\n",
       "    </tr>\n",
       "    <tr>\n",
       "      <th>8</th>\n",
       "      <td>5</td>\n",
       "      <td>Received in good condition, tried so far so go...</td>\n",
       "      <td>5</td>\n",
       "      <td>64</td>\n",
       "      <td>12</td>\n",
       "      <td>received good condition tried far good not tha...</td>\n",
       "      <td>received good condition tried far good bad</td>\n",
       "      <td>received good condition tried far good bad</td>\n",
       "      <td>42</td>\n",
       "      <td>7</td>\n",
       "      <td></td>\n",
       "      <td>[received, good, condition, tried, far, good, ...</td>\n",
       "    </tr>\n",
       "    <tr>\n",
       "      <th>9</th>\n",
       "      <td>1</td>\n",
       "      <td>Item doesn’t work . \\n\\nAsked me to send a ref...</td>\n",
       "      <td>1</td>\n",
       "      <td>136</td>\n",
       "      <td>27</td>\n",
       "      <td>item doesn work asked send refund show non wor...</td>\n",
       "      <td>item work asked send refund non working machin...</td>\n",
       "      <td>item work asked send refund non working machin...</td>\n",
       "      <td>79</td>\n",
       "      <td>13</td>\n",
       "      <td></td>\n",
       "      <td>[item, work, asked, send, refund, non, working...</td>\n",
       "    </tr>\n",
       "  </tbody>\n",
       "</table>\n",
       "</div>"
      ],
      "text/plain": [
       "  label                                               text  true_label  \\\n",
       "0     5  Looks ok. Not like so durable. Will hv to use ...           5   \n",
       "1     5  Tried, the current can be very powerful depend...           5   \n",
       "2     5  Item received after a week. Looks smaller than...           5   \n",
       "3     5  Thanks!!! Works as describe no complaints. Not...           5   \n",
       "4     5  Fast delivery considering it’s from overseas a...           5   \n",
       "5     5                        Fast delivery good service            5   \n",
       "6     5  Got my order and it came well packaged. Have y...           5   \n",
       "7     5  Items received in a nice box. Have not used it...           5   \n",
       "8     5  Received in good condition, tried so far so go...           5   \n",
       "9     1  Item doesn’t work . \\n\\nAsked me to send a ref...           1   \n",
       "\n",
       "   review_length  word_count  \\\n",
       "0             87          18   \n",
       "1            168          32   \n",
       "2             75          13   \n",
       "3            101          15   \n",
       "4             97          16   \n",
       "5             27           4   \n",
       "6             87          18   \n",
       "7             71          14   \n",
       "8             64          12   \n",
       "9            136          27   \n",
       "\n",
       "                                        text_en_only  \\\n",
       "0  looks not like durable will use while recommen...   \n",
       "1  tried the current can very powerful depending ...   \n",
       "2  item received after week looks smaller than ex...   \n",
       "3  thanks works describe complaints not really ex...   \n",
       "4  fast delivery considering from overseas and on...   \n",
       "5                         fast delivery good service   \n",
       "6  got order and came well packaged have yet try ...   \n",
       "7  items received nice box have not used yet hope...   \n",
       "8  received good condition tried far good not tha...   \n",
       "9  item doesn work asked send refund show non wor...   \n",
       "\n",
       "                            text_en_only_rm_stopping  \\\n",
       "0             looks like durable use recommend worth   \n",
       "1  tried current powerful depending setting dare ...   \n",
       "2  item received week looks smaller expected wait...   \n",
       "3  thanks works complaints expecting life changin...   \n",
       "4  fast delivery considering overseas tried sure ...   \n",
       "5                         fast delivery good service   \n",
       "6  got order came packaged try looks good far thanks   \n",
       "7            items received nice box hopefully works   \n",
       "8         received good condition tried far good bad   \n",
       "9  item work asked send refund non working machin...   \n",
       "\n",
       "                                  text_en_only_lemma  review_length_processed  \\\n",
       "0              look like durable use recommend worth                       37   \n",
       "1  tried current powerful depending setting dare ...                       90   \n",
       "2  item received week look smaller expected wait try                       49   \n",
       "3  thanks work complaint expecting life changing ...                       59   \n",
       "4  fast delivery considering overseas tried sure ...                       52   \n",
       "5                         fast delivery good service                       26   \n",
       "6   got order came packaged try look good far thanks                       48   \n",
       "7              item received nice box hopefully work                       37   \n",
       "8         received good condition tried far good bad                       42   \n",
       "9  item work asked send refund non working machin...                       79   \n",
       "\n",
       "   word_count_processed cluster  \\\n",
       "0                     6           \n",
       "1                    13           \n",
       "2                     8           \n",
       "3                     8           \n",
       "4                     7           \n",
       "5                     4           \n",
       "6                     9           \n",
       "7                     6           \n",
       "8                     7           \n",
       "9                    13           \n",
       "\n",
       "                                              tokens  \n",
       "0       [look, like, durable, use, recommend, worth]  \n",
       "1  [tried, current, powerful, depending, setting,...  \n",
       "2  [item, received, week, look, smaller, expected...  \n",
       "3  [thanks, work, complaint, expecting, life, cha...  \n",
       "4  [fast, delivery, considering, overseas, tried,...  \n",
       "5                    [fast, delivery, good, service]  \n",
       "6  [got, order, came, packaged, try, look, good, ...  \n",
       "7       [item, received, nice, box, hopefully, work]  \n",
       "8  [received, good, condition, tried, far, good, ...  \n",
       "9  [item, work, asked, send, refund, non, working...  "
      ]
     },
     "execution_count": 44,
     "metadata": {},
     "output_type": "execute_result"
    }
   ],
   "source": [
    "df_input_review_to_clustering.head(10)"
   ]
  },
  {
   "cell_type": "code",
   "execution_count": 45,
   "metadata": {},
   "outputs": [
    {
     "name": "stdout",
     "output_type": "stream",
     "text": [
      "Voc size: 60630\n",
      "Number of documents: 1315053\n"
     ]
    }
   ],
   "source": [
    "docs = df_input_review_to_clustering['tokens'].tolist()\n",
    "vocab = set(x for doc in docs for x in doc)\n",
    "n_terms = len(vocab)\n",
    "\n",
    "print(\"Voc size:\", n_terms)\n",
    "print(\"Number of documents:\", len(docs))"
   ]
  },
  {
   "cell_type": "code",
   "execution_count": 46,
   "metadata": {},
   "outputs": [],
   "source": [
    "from gmp import MovieGroupProcess"
   ]
  },
  {
   "cell_type": "code",
   "execution_count": null,
   "metadata": {},
   "outputs": [
    {
     "name": "stdout",
     "output_type": "stream",
     "text": [
      "In stage 0: transferred 1295674 clusters with 100 clusters populated\n",
      "In stage 1: transferred 1187540 clusters with 100 clusters populated\n",
      "In stage 2: transferred 846940 clusters with 100 clusters populated\n",
      "In stage 3: transferred 642077 clusters with 100 clusters populated\n",
      "In stage 4: transferred 552084 clusters with 100 clusters populated\n",
      "In stage 5: transferred 513258 clusters with 96 clusters populated\n",
      "In stage 6: transferred 493396 clusters with 92 clusters populated\n",
      "In stage 7: transferred 481841 clusters with 91 clusters populated\n",
      "In stage 8: transferred 472689 clusters with 91 clusters populated\n",
      "In stage 9: transferred 466765 clusters with 89 clusters populated\n",
      "In stage 10: transferred 462688 clusters with 88 clusters populated\n",
      "In stage 11: transferred 458445 clusters with 88 clusters populated\n",
      "In stage 12: transferred 455166 clusters with 87 clusters populated\n"
     ]
    }
   ],
   "source": [
    "mgp = MovieGroupProcess(K=100, alpha=0.1, beta=0.1, n_iters=30)\n",
    "\n",
    "vocab = set(x for doc in docs for x in doc)\n",
    "n_terms = len(vocab)\n",
    "n_docs = len(docs)\n",
    "\n",
    "y = mgp.fit(docs, n_terms)\n",
    "\n"
   ]
  },
  {
   "cell_type": "code",
   "execution_count": null,
   "metadata": {},
   "outputs": [],
   "source": [
    "def top_words(distribution, top_index, num_words):\n",
    "    df=pd.DataFrame(columns=('cluster','word','freq'))\n",
    "    for topic in top_index:\n",
    "       \n",
    "            \n",
    "        pairs = sorted([(k, v) for k, v in distribution[topic].items()], key=lambda x: x[1], reverse=True)\n",
    "    \n",
    "        for j in range(len(pairs[:num_words])):\n",
    "            \n",
    "            df=df.append({'cluster':topic,'word':pairs[:num_words][j][0],'freq':pairs[:num_words][j][1]} , ignore_index=True)\n",
    "            if j>30:\n",
    "                break\n",
    "                \n",
    "        print(f\"Cluster {topic} : {pairs[:num_words]}\")\n",
    "        print('-'*30)\n",
    "        \n",
    "    return df"
   ]
  },
  {
   "cell_type": "code",
   "execution_count": null,
   "metadata": {},
   "outputs": [],
   "source": [
    "doc_count = np.array(mgp.cluster_doc_count)\n",
    "print('Number of documents per topics :', doc_count)\n",
    "print('*'*20)\n",
    "\n",
    "# Topics sorted by document inside\n",
    "top_index = doc_count.argsort()[-15:][::-1]\n",
    "print('Most important clusters (by number of docs inside):', top_index)\n",
    "print('*'*40)\n",
    "\n",
    "\n",
    "# Show the top 5 words by cluster, it helps to make the topic_dict below\n",
    "z=top_words(mgp.cluster_word_distribution, top_index, 40)"
   ]
  },
  {
   "cell_type": "code",
   "execution_count": null,
   "metadata": {},
   "outputs": [],
   "source": []
  },
  {
   "cell_type": "code",
   "execution_count": null,
   "metadata": {},
   "outputs": [],
   "source": []
  },
  {
   "cell_type": "code",
   "execution_count": null,
   "metadata": {},
   "outputs": [],
   "source": []
  }
 ],
 "metadata": {
  "kernelspec": {
   "display_name": "Python 3",
   "language": "python",
   "name": "python3"
  },
  "language_info": {
   "codemirror_mode": {
    "name": "ipython",
    "version": 3
   },
   "file_extension": ".py",
   "mimetype": "text/x-python",
   "name": "python",
   "nbconvert_exporter": "python",
   "pygments_lexer": "ipython3",
   "version": "3.7.0"
  }
 },
 "nbformat": 4,
 "nbformat_minor": 2
}
